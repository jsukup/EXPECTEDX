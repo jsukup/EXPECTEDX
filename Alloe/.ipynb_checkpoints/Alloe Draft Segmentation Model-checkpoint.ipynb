{
 "cells": [
  {
   "cell_type": "code",
   "execution_count": 95,
   "metadata": {},
   "outputs": [],
   "source": [
    "import os\n",
    "import re\n",
    "import glob\n",
    "import difflib\n",
    "import pandas as pd\n",
    "import numpy as np\n",
    "import itertools\n",
    "import seaborn as snn\n",
    "import matplotlib.pyplot as plt\n",
    "from datetime import datetime, date\n",
    "from dateutil import relativedelta\n",
    "from sklearn import cluster\n",
    "%matplotlib inline"
   ]
  },
  {
   "cell_type": "markdown",
   "metadata": {},
   "source": [
    "# LOAD DATA TO DICTIONARY"
   ]
  },
  {
   "cell_type": "code",
   "execution_count": 55,
   "metadata": {},
   "outputs": [],
   "source": [
    "path = 'C:/analyticsdev/Projects/EXPECTEDX/Alloe/data'\n",
    "files = glob.glob(os.path.join(path, \"*.csv\"))\n",
    "\n",
    "raw_data = [pd.read_csv(name) for name in files]\n",
    "df_names = [re.findall('(?<=\\.)[a-zA-Z]+(?=\\.)', names) for names in files]\n",
    "df_names = itertools.chain(*df_names)\n",
    "raw_data = dict(zip(df_names, raw_data))"
   ]
  },
  {
   "cell_type": "markdown",
   "metadata": {},
   "source": [
    "# WRANGLING FUNCS"
   ]
  },
  {
   "cell_type": "code",
   "execution_count": 56,
   "metadata": {},
   "outputs": [],
   "source": [
    "answer = raw_data['answer']\n",
    "answer['survey'] = answer['survey'].apply(lambda x: re.split(' (?=@)',x)[0])\n",
    "answer['user'] = answer['user'].apply(lambda x: re.split(' (?=@)',x)[0])"
   ]
  },
  {
   "cell_type": "code",
   "execution_count": 57,
   "metadata": {
    "scrolled": true
   },
   "outputs": [],
   "source": [
    "answer = answer.pivot_table(index='user', \n",
    "                            columns='survey', \n",
    "                            values='answer', \n",
    "                            aggfunc=lambda x: ' '.join(str(v) for v in x))\n",
    "answer = answer.add_suffix('_surv')"
   ]
  },
  {
   "cell_type": "code",
   "execution_count": 58,
   "metadata": {},
   "outputs": [],
   "source": [
    "#user = raw_data['user'][['_id',\n",
    " #                        'active',\n",
    "  #                       'dob',\n",
    "   #                      'gender',\n",
    "    #                     'heightFeet',\n",
    "     #                    'heightInches',\n",
    "      #                   'joined',\n",
    "       #                  'weight']]"
   ]
  },
  {
   "cell_type": "code",
   "execution_count": 59,
   "metadata": {},
   "outputs": [],
   "source": [
    "#main = user.merge(answer, \n",
    " #                 how='left', \n",
    "  #                left_on='_id', \n",
    "   #               right_index=True, \n",
    "    #              sort=True)"
   ]
  },
  {
   "cell_type": "code",
   "execution_count": 60,
   "metadata": {},
   "outputs": [],
   "source": [
    "main = raw_data['user'][['_id',\n",
    "                         'active',\n",
    "                         'dob',\n",
    "                         'gender',\n",
    "                         'heightFeet',\n",
    "                         'heightInches',\n",
    "                         'joined',\n",
    "                         'weight']]"
   ]
  },
  {
   "cell_type": "code",
   "execution_count": 61,
   "metadata": {},
   "outputs": [],
   "source": [
    "main['dob'] = main['dob'].apply(lambda x: pd.to_datetime(x))\n",
    "main['joined'] = main['joined'].apply(lambda x: pd.to_datetime(x))\n",
    "\n",
    "main['age'] = main['dob'].apply(lambda x: relativedelta.relativedelta(date.today(), datetime.date(x)).years)\n",
    "main['act_time'] = main['joined'].apply(lambda x: (date.today() - datetime.date(x)).days)"
   ]
  },
  {
   "cell_type": "code",
   "execution_count": 62,
   "metadata": {},
   "outputs": [],
   "source": [
    "chal_inv = raw_data['challengeInvitation']\n",
    "chal_inv['challenge'] = chal_inv['challenge'].apply(lambda x: re.split(' (?=@)',x)[0])\n",
    "chal_inv['friend'] = chal_inv['friend'].apply(lambda x: re.split(' (?=@)',x)[0])\n",
    "chal_inv['user'] = chal_inv['user'].apply(lambda x: re.split(' (?=@)',x)[0])"
   ]
  },
  {
   "cell_type": "code",
   "execution_count": 63,
   "metadata": {
    "scrolled": true
   },
   "outputs": [],
   "source": [
    "chal_inv = chal_inv.pivot_table(index='user',\n",
    "                                columns='challenge', \n",
    "                                values='friend',\n",
    "                                aggfunc=lambda x: ' '.join(str(v) for v in x))\n",
    "chal_inv = chal_inv.add_suffix('_chalinv')"
   ]
  },
  {
   "cell_type": "code",
   "execution_count": 64,
   "metadata": {},
   "outputs": [],
   "source": [
    "#main = main.merge(chal_inv,\n",
    " #                 how='left',\n",
    "  #                left_on='_id',\n",
    "   #               right_index=True,\n",
    "    #              sort=True)"
   ]
  },
  {
   "cell_type": "markdown",
   "metadata": {},
   "source": [
    "Don't understand relationships between \"challenger\" table and \"challengeInvitation\" table 'user' column"
   ]
  },
  {
   "cell_type": "code",
   "execution_count": 65,
   "metadata": {
    "scrolled": true
   },
   "outputs": [],
   "source": [
    "frnd_rq = raw_data['friendship']\n",
    "frnd_rq['friend'] = frnd_rq['friend'].apply(lambda x: re.split(' (?=@)',x)[0])\n",
    "frnd_rq['user'] = frnd_rq['user'].apply(lambda x: re.split(' (?=@)',x)[0])"
   ]
  },
  {
   "cell_type": "code",
   "execution_count": 66,
   "metadata": {},
   "outputs": [],
   "source": [
    "frnd_rq = frnd_rq.pivot_table(index='user',\n",
    "                              columns='friend',\n",
    "                              values='status',\n",
    "                              aggfunc=lambda x: ' '.join(str(v) for v in x))\n",
    "frnd_rq = frnd_rq.add_suffix('_friendid')"
   ]
  },
  {
   "cell_type": "code",
   "execution_count": 67,
   "metadata": {},
   "outputs": [],
   "source": [
    "#main = main.merge(frnd_rq,\n",
    " #                 how='left',\n",
    "  #                left_on='_id',\n",
    "   #               right_index=True,\n",
    "    #              sort=True)"
   ]
  },
  {
   "cell_type": "code",
   "execution_count": 68,
   "metadata": {},
   "outputs": [],
   "source": [
    "event_ast = raw_data['assistantEvent']\n",
    "event_ast['event'] = event_ast['event'].apply(lambda x: re.split(' (?=@)',x)[0])\n",
    "event_ast['user'] = event_ast['user'].apply(lambda x: re.split(' (?=@)',x)[0])"
   ]
  },
  {
   "cell_type": "code",
   "execution_count": 69,
   "metadata": {},
   "outputs": [],
   "source": [
    "event_ast = event_ast.pivot_table(index='user',\n",
    "                                  columns='event',\n",
    "                                  values='_id',\n",
    "                                  aggfunc=lambda x: ' '.join(str(v) for v in x))\n",
    "event_ast = event_ast.add_suffix('_eventid')"
   ]
  },
  {
   "cell_type": "code",
   "execution_count": 70,
   "metadata": {},
   "outputs": [],
   "source": [
    "#main = main.merge(event_ast,\n",
    " #                 how='left',\n",
    "  #                left_on='_id',\n",
    "   #               right_index=True,\n",
    "    #              sort=True)"
   ]
  },
  {
   "cell_type": "code",
   "execution_count": 71,
   "metadata": {
    "scrolled": true
   },
   "outputs": [],
   "source": [
    "post = raw_data['post']\n",
    "post['user'] = post['user'].apply(lambda x: re.split(' (?=@)',x)[0])\n",
    "post['item._class'] = post['item._class'].apply(lambda x: re.sub('[a-z].+\\.(?=[A-Z])', '', str(x)))"
   ]
  },
  {
   "cell_type": "code",
   "execution_count": 72,
   "metadata": {},
   "outputs": [],
   "source": [
    "post['counter'] = int(1)\n",
    "post = post.pivot_table(index='user',\n",
    "                        columns='item._class',\n",
    "                        values='counter',\n",
    "                        aggfunc='sum')"
   ]
  },
  {
   "cell_type": "code",
   "execution_count": 73,
   "metadata": {
    "scrolled": true
   },
   "outputs": [],
   "source": [
    "main = main.merge(post,\n",
    "                  how='left',\n",
    "                  left_on='_id',\n",
    "                  right_index=True,\n",
    "                  sort=True)"
   ]
  },
  {
   "cell_type": "code",
   "execution_count": 74,
   "metadata": {
    "scrolled": true
   },
   "outputs": [],
   "source": [
    "metrics_miles_time = raw_data['post'][['user','item.miles','item.time','item.positions']]\n",
    "metrics_miles_time = metrics_miles_time.groupby(metrics_miles_time.user).sum()\n",
    "\n",
    "metrics_exercise = raw_data['post'][['user','item.exercise']]\n",
    "metrics_exercise['counter'] = int(1)\n",
    "\n",
    "metrics_chals_sent = pd.DataFrame(chal_inv.count(axis=1), columns={'chal_sent'})\n",
    "metrics_chals_unique = pd.DataFrame(chal_inv.nunique(axis=1), columns={'chal_unique'})\n",
    "metrics_chals_uratio = metrics_chals_sent.join(metrics_chals_unique)\n",
    "metrics_chals_uratio['chal_uni_frnd'] = metrics_chals_uratio['chal_sent']/metrics_chals_uratio['chal_unique']\n",
    "\n",
    "metrics_frnd_sent = pd.DataFrame(frnd_rq.count(axis=1), columns={'frnd_sent'})"
   ]
  },
  {
   "cell_type": "code",
   "execution_count": 75,
   "metadata": {
    "scrolled": true
   },
   "outputs": [],
   "source": [
    "metrics_exercise = metrics_exercise.pivot_table(index='user',\n",
    "                                                columns='item.exercise',\n",
    "                                                values='counter',\n",
    "                                                aggfunc='sum')"
   ]
  },
  {
   "cell_type": "code",
   "execution_count": 76,
   "metadata": {
    "scrolled": true
   },
   "outputs": [],
   "source": [
    "main = main.merge(metrics_miles_time,\n",
    "                  how='left',\n",
    "                  left_on='_id',\n",
    "                  right_index=True,\n",
    "                  sort=True)\n",
    "\n",
    "main = main.merge(metrics_exercise,\n",
    "                  how='left',\n",
    "                  left_on='_id',\n",
    "                  right_index=True,\n",
    "                  sort=True)\n",
    "\n",
    "main = main.merge(metrics_chals_uratio,\n",
    "                  how='left',\n",
    "                  left_on='_id',\n",
    "                  right_index=True,\n",
    "                  sort=True)\n",
    "\n",
    "main = main.merge(frnd_rq.apply(pd.value_counts, axis=1)[['ACCEPTED','PENDING','WAITING']],\n",
    "                  how='left',\n",
    "                  left_on='_id',\n",
    "                  right_index=True,\n",
    "                  sort=True)\n",
    "\n",
    "main.drop(353, inplace=True) #Record is all NaN\n",
    "main.drop(['dob','joined','CompanyMessage'], axis=1, inplace=True)"
   ]
  },
  {
   "cell_type": "code",
   "execution_count": 77,
   "metadata": {},
   "outputs": [
    {
     "data": {
      "text/plain": [
       "['_id',\n",
       " 'active',\n",
       " 'gender',\n",
       " 'heightFeet',\n",
       " 'heightInches',\n",
       " 'weight',\n",
       " 'age',\n",
       " 'act_time',\n",
       " 'BloodPressureCheckIn',\n",
       " 'Challenger',\n",
       " 'CholesterolCheckIn',\n",
       " 'EventCheckIn',\n",
       " 'FitbitCheckIn',\n",
       " 'FoodCheckIn',\n",
       " 'GlucoseCheckIn',\n",
       " 'GymCheckIn',\n",
       " 'MovesChallenge',\n",
       " 'MovesCheckIn',\n",
       " 'PictureChallenge',\n",
       " 'RunningCheckIn',\n",
       " 'WeightCheckIn',\n",
       " 'YogaCheckIn',\n",
       " 'item.miles',\n",
       " 'item.time',\n",
       " 'item.positions',\n",
       " 'CARDIO',\n",
       " 'FITNESS',\n",
       " 'OTHER',\n",
       " 'SWIMMING',\n",
       " 'WEIGHTS',\n",
       " 'chal_sent',\n",
       " 'chal_unique',\n",
       " 'chal_uni_frnd',\n",
       " 'ACCEPTED',\n",
       " 'PENDING',\n",
       " 'WAITING']"
      ]
     },
     "execution_count": 77,
     "metadata": {},
     "output_type": "execute_result"
    }
   ],
   "source": [
    "list(main)"
   ]
  },
  {
   "cell_type": "code",
   "execution_count": 78,
   "metadata": {},
   "outputs": [],
   "source": [
    "#event = main.filter(regex='_eventid')\n",
    "#friend = main.filter(regex='_friendid')"
   ]
  },
  {
   "cell_type": "markdown",
   "metadata": {},
   "source": [
    "GIVE 'EVENT' AND 'FRIEND' THEIR OWN TABLES AND SCORE THEM ADDED TO 'MAIN' DATA FRAME"
   ]
  },
  {
   "cell_type": "markdown",
   "metadata": {},
   "source": [
    "EXTRA COLUMNS LIKE \"ACCEPTED ACCEPTED\" HAVE A 1 OCCASIONALLY. NOT SURE IF ISSUE WITH RAW DATA OR 'APPLY' FUNCTION"
   ]
  },
  {
   "cell_type": "code",
   "execution_count": 79,
   "metadata": {},
   "outputs": [
    {
     "data": {
      "text/html": [
       "<div>\n",
       "<style>\n",
       "    .dataframe thead tr:only-child th {\n",
       "        text-align: right;\n",
       "    }\n",
       "\n",
       "    .dataframe thead th {\n",
       "        text-align: left;\n",
       "    }\n",
       "\n",
       "    .dataframe tbody tr th {\n",
       "        vertical-align: top;\n",
       "    }\n",
       "</style>\n",
       "<table border=\"1\" class=\"dataframe\">\n",
       "  <thead>\n",
       "    <tr style=\"text-align: right;\">\n",
       "      <th></th>\n",
       "      <th>heightFeet</th>\n",
       "      <th>heightInches</th>\n",
       "      <th>weight</th>\n",
       "      <th>age</th>\n",
       "      <th>act_time</th>\n",
       "      <th>BloodPressureCheckIn</th>\n",
       "      <th>Challenger</th>\n",
       "      <th>CholesterolCheckIn</th>\n",
       "      <th>EventCheckIn</th>\n",
       "      <th>FitbitCheckIn</th>\n",
       "      <th>...</th>\n",
       "      <th>FITNESS</th>\n",
       "      <th>OTHER</th>\n",
       "      <th>SWIMMING</th>\n",
       "      <th>WEIGHTS</th>\n",
       "      <th>chal_sent</th>\n",
       "      <th>chal_unique</th>\n",
       "      <th>chal_uni_frnd</th>\n",
       "      <th>ACCEPTED</th>\n",
       "      <th>PENDING</th>\n",
       "      <th>WAITING</th>\n",
       "    </tr>\n",
       "  </thead>\n",
       "  <tbody>\n",
       "    <tr>\n",
       "      <th>count</th>\n",
       "      <td>479.000000</td>\n",
       "      <td>469.000000</td>\n",
       "      <td>436.000000</td>\n",
       "      <td>590.000000</td>\n",
       "      <td>590.000000</td>\n",
       "      <td>55.000000</td>\n",
       "      <td>331.000000</td>\n",
       "      <td>5.00000</td>\n",
       "      <td>166.000000</td>\n",
       "      <td>29.000000</td>\n",
       "      <td>...</td>\n",
       "      <td>100.000000</td>\n",
       "      <td>244.000000</td>\n",
       "      <td>35.000000</td>\n",
       "      <td>113.000000</td>\n",
       "      <td>94.000000</td>\n",
       "      <td>94.000000</td>\n",
       "      <td>94.000000</td>\n",
       "      <td>313.000000</td>\n",
       "      <td>336.000000</td>\n",
       "      <td>113.000000</td>\n",
       "    </tr>\n",
       "    <tr>\n",
       "      <th>mean</th>\n",
       "      <td>5.352818</td>\n",
       "      <td>6.053305</td>\n",
       "      <td>178.158612</td>\n",
       "      <td>31.367797</td>\n",
       "      <td>592.144068</td>\n",
       "      <td>1.218182</td>\n",
       "      <td>2.691843</td>\n",
       "      <td>1.80000</td>\n",
       "      <td>17.108434</td>\n",
       "      <td>16.137931</td>\n",
       "      <td>...</td>\n",
       "      <td>16.000000</td>\n",
       "      <td>35.688525</td>\n",
       "      <td>12.657143</td>\n",
       "      <td>40.265487</td>\n",
       "      <td>1.755319</td>\n",
       "      <td>1.287234</td>\n",
       "      <td>1.397163</td>\n",
       "      <td>14.217252</td>\n",
       "      <td>5.928571</td>\n",
       "      <td>17.628319</td>\n",
       "    </tr>\n",
       "    <tr>\n",
       "      <th>std</th>\n",
       "      <td>2.491565</td>\n",
       "      <td>4.709435</td>\n",
       "      <td>289.608631</td>\n",
       "      <td>9.596192</td>\n",
       "      <td>295.883325</td>\n",
       "      <td>1.242621</td>\n",
       "      <td>3.014394</td>\n",
       "      <td>0.83666</td>\n",
       "      <td>28.048448</td>\n",
       "      <td>15.080082</td>\n",
       "      <td>...</td>\n",
       "      <td>36.375427</td>\n",
       "      <td>78.106457</td>\n",
       "      <td>32.652306</td>\n",
       "      <td>74.277234</td>\n",
       "      <td>0.946825</td>\n",
       "      <td>0.560766</td>\n",
       "      <td>0.654050</td>\n",
       "      <td>23.860252</td>\n",
       "      <td>5.626771</td>\n",
       "      <td>42.107684</td>\n",
       "    </tr>\n",
       "    <tr>\n",
       "      <th>min</th>\n",
       "      <td>3.000000</td>\n",
       "      <td>0.000000</td>\n",
       "      <td>15.000000</td>\n",
       "      <td>0.000000</td>\n",
       "      <td>27.000000</td>\n",
       "      <td>1.000000</td>\n",
       "      <td>1.000000</td>\n",
       "      <td>1.00000</td>\n",
       "      <td>1.000000</td>\n",
       "      <td>1.000000</td>\n",
       "      <td>...</td>\n",
       "      <td>1.000000</td>\n",
       "      <td>1.000000</td>\n",
       "      <td>1.000000</td>\n",
       "      <td>1.000000</td>\n",
       "      <td>1.000000</td>\n",
       "      <td>1.000000</td>\n",
       "      <td>1.000000</td>\n",
       "      <td>1.000000</td>\n",
       "      <td>1.000000</td>\n",
       "      <td>1.000000</td>\n",
       "    </tr>\n",
       "    <tr>\n",
       "      <th>25%</th>\n",
       "      <td>5.000000</td>\n",
       "      <td>3.000000</td>\n",
       "      <td>140.000000</td>\n",
       "      <td>28.000000</td>\n",
       "      <td>328.250000</td>\n",
       "      <td>1.000000</td>\n",
       "      <td>1.000000</td>\n",
       "      <td>1.00000</td>\n",
       "      <td>2.000000</td>\n",
       "      <td>7.000000</td>\n",
       "      <td>...</td>\n",
       "      <td>1.000000</td>\n",
       "      <td>3.000000</td>\n",
       "      <td>1.000000</td>\n",
       "      <td>2.000000</td>\n",
       "      <td>1.000000</td>\n",
       "      <td>1.000000</td>\n",
       "      <td>1.000000</td>\n",
       "      <td>2.000000</td>\n",
       "      <td>2.000000</td>\n",
       "      <td>1.000000</td>\n",
       "    </tr>\n",
       "    <tr>\n",
       "      <th>50%</th>\n",
       "      <td>5.000000</td>\n",
       "      <td>6.000000</td>\n",
       "      <td>160.000000</td>\n",
       "      <td>31.000000</td>\n",
       "      <td>602.000000</td>\n",
       "      <td>1.000000</td>\n",
       "      <td>2.000000</td>\n",
       "      <td>2.00000</td>\n",
       "      <td>5.000000</td>\n",
       "      <td>16.000000</td>\n",
       "      <td>...</td>\n",
       "      <td>3.000000</td>\n",
       "      <td>8.000000</td>\n",
       "      <td>2.000000</td>\n",
       "      <td>7.000000</td>\n",
       "      <td>1.000000</td>\n",
       "      <td>1.000000</td>\n",
       "      <td>1.000000</td>\n",
       "      <td>6.000000</td>\n",
       "      <td>4.000000</td>\n",
       "      <td>4.000000</td>\n",
       "    </tr>\n",
       "    <tr>\n",
       "      <th>75%</th>\n",
       "      <td>5.000000</td>\n",
       "      <td>9.000000</td>\n",
       "      <td>185.000000</td>\n",
       "      <td>35.000000</td>\n",
       "      <td>914.000000</td>\n",
       "      <td>1.000000</td>\n",
       "      <td>3.000000</td>\n",
       "      <td>2.00000</td>\n",
       "      <td>16.750000</td>\n",
       "      <td>20.000000</td>\n",
       "      <td>...</td>\n",
       "      <td>13.250000</td>\n",
       "      <td>31.500000</td>\n",
       "      <td>3.000000</td>\n",
       "      <td>44.000000</td>\n",
       "      <td>2.000000</td>\n",
       "      <td>1.000000</td>\n",
       "      <td>2.000000</td>\n",
       "      <td>17.000000</td>\n",
       "      <td>8.000000</td>\n",
       "      <td>12.000000</td>\n",
       "    </tr>\n",
       "    <tr>\n",
       "      <th>max</th>\n",
       "      <td>55.000000</td>\n",
       "      <td>68.000000</td>\n",
       "      <td>6158.000000</td>\n",
       "      <td>70.000000</td>\n",
       "      <td>971.000000</td>\n",
       "      <td>10.000000</td>\n",
       "      <td>26.000000</td>\n",
       "      <td>3.00000</td>\n",
       "      <td>172.000000</td>\n",
       "      <td>77.000000</td>\n",
       "      <td>...</td>\n",
       "      <td>254.000000</td>\n",
       "      <td>648.000000</td>\n",
       "      <td>177.000000</td>\n",
       "      <td>402.000000</td>\n",
       "      <td>5.000000</td>\n",
       "      <td>3.000000</td>\n",
       "      <td>4.000000</td>\n",
       "      <td>222.000000</td>\n",
       "      <td>36.000000</td>\n",
       "      <td>288.000000</td>\n",
       "    </tr>\n",
       "  </tbody>\n",
       "</table>\n",
       "<p>8 rows × 33 columns</p>\n",
       "</div>"
      ],
      "text/plain": [
       "       heightFeet  heightInches       weight         age    act_time  \\\n",
       "count  479.000000    469.000000   436.000000  590.000000  590.000000   \n",
       "mean     5.352818      6.053305   178.158612   31.367797  592.144068   \n",
       "std      2.491565      4.709435   289.608631    9.596192  295.883325   \n",
       "min      3.000000      0.000000    15.000000    0.000000   27.000000   \n",
       "25%      5.000000      3.000000   140.000000   28.000000  328.250000   \n",
       "50%      5.000000      6.000000   160.000000   31.000000  602.000000   \n",
       "75%      5.000000      9.000000   185.000000   35.000000  914.000000   \n",
       "max     55.000000     68.000000  6158.000000   70.000000  971.000000   \n",
       "\n",
       "       BloodPressureCheckIn  Challenger  CholesterolCheckIn  EventCheckIn  \\\n",
       "count             55.000000  331.000000             5.00000    166.000000   \n",
       "mean               1.218182    2.691843             1.80000     17.108434   \n",
       "std                1.242621    3.014394             0.83666     28.048448   \n",
       "min                1.000000    1.000000             1.00000      1.000000   \n",
       "25%                1.000000    1.000000             1.00000      2.000000   \n",
       "50%                1.000000    2.000000             2.00000      5.000000   \n",
       "75%                1.000000    3.000000             2.00000     16.750000   \n",
       "max               10.000000   26.000000             3.00000    172.000000   \n",
       "\n",
       "       FitbitCheckIn     ...         FITNESS       OTHER    SWIMMING  \\\n",
       "count      29.000000     ...      100.000000  244.000000   35.000000   \n",
       "mean       16.137931     ...       16.000000   35.688525   12.657143   \n",
       "std        15.080082     ...       36.375427   78.106457   32.652306   \n",
       "min         1.000000     ...        1.000000    1.000000    1.000000   \n",
       "25%         7.000000     ...        1.000000    3.000000    1.000000   \n",
       "50%        16.000000     ...        3.000000    8.000000    2.000000   \n",
       "75%        20.000000     ...       13.250000   31.500000    3.000000   \n",
       "max        77.000000     ...      254.000000  648.000000  177.000000   \n",
       "\n",
       "          WEIGHTS  chal_sent  chal_unique  chal_uni_frnd    ACCEPTED  \\\n",
       "count  113.000000  94.000000    94.000000      94.000000  313.000000   \n",
       "mean    40.265487   1.755319     1.287234       1.397163   14.217252   \n",
       "std     74.277234   0.946825     0.560766       0.654050   23.860252   \n",
       "min      1.000000   1.000000     1.000000       1.000000    1.000000   \n",
       "25%      2.000000   1.000000     1.000000       1.000000    2.000000   \n",
       "50%      7.000000   1.000000     1.000000       1.000000    6.000000   \n",
       "75%     44.000000   2.000000     1.000000       2.000000   17.000000   \n",
       "max    402.000000   5.000000     3.000000       4.000000  222.000000   \n",
       "\n",
       "          PENDING     WAITING  \n",
       "count  336.000000  113.000000  \n",
       "mean     5.928571   17.628319  \n",
       "std      5.626771   42.107684  \n",
       "min      1.000000    1.000000  \n",
       "25%      2.000000    1.000000  \n",
       "50%      4.000000    4.000000  \n",
       "75%      8.000000   12.000000  \n",
       "max     36.000000  288.000000  \n",
       "\n",
       "[8 rows x 33 columns]"
      ]
     },
     "execution_count": 79,
     "metadata": {},
     "output_type": "execute_result"
    }
   ],
   "source": [
    "main.describe()"
   ]
  },
  {
   "cell_type": "code",
   "execution_count": null,
   "metadata": {},
   "outputs": [],
   "source": []
  },
  {
   "cell_type": "code",
   "execution_count": null,
   "metadata": {},
   "outputs": [],
   "source": []
  }
 ],
 "metadata": {
  "kernelspec": {
   "display_name": "Python [default]",
   "language": "python",
   "name": "python3"
  },
  "language_info": {
   "codemirror_mode": {
    "name": "ipython",
    "version": 3
   },
   "file_extension": ".py",
   "mimetype": "text/x-python",
   "name": "python",
   "nbconvert_exporter": "python",
   "pygments_lexer": "ipython3",
   "version": "3.6.3"
  }
 },
 "nbformat": 4,
 "nbformat_minor": 2
}
