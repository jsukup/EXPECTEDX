{
 "cells": [
  {
   "cell_type": "markdown",
   "metadata": {},
   "source": [
    "## Data from mongoDB "
   ]
  },
  {
   "cell_type": "markdown",
   "metadata": {},
   "source": [
    "Data obtained from Alloe mondoDB on 10.18.17 via the Studio 3T GUI. In the future many of these initial table joins might be more appropriately performed within the mongoDB environment rather than in Python/Jupyter."
   ]
  },
  {
   "cell_type": "code",
   "execution_count": 6,
   "metadata": {},
   "outputs": [],
   "source": [
    "import os\n",
    "import re\n",
    "import glob\n",
    "import itertools\n",
    "import pandas as pd\n",
    "\n",
    "#Loads 23 tables into memory\n",
    "path = 'C:/analyticsdev/Projects/EXPECTEDX/Alloe/data'\n",
    "files = glob.glob(os.path.join(path, \"*.csv\"))\n",
    "\n",
    "#Stores 23 tables in dictionary with file name as key\n",
    "raw_data = [pd.read_csv(name) for name in files]\n",
    "df_names = [re.findall('(?<=\\.)[a-zA-Z]+(?=\\.)', names) for names in files]\n",
    "df_names = itertools.chain(*df_names)\n",
    "raw_data = dict(zip(df_names, raw_data))"
   ]
  },
  {
   "cell_type": "markdown",
   "metadata": {},
   "source": [
    "mongoDB contains 23 collections (i.e. tables) of Alloe user and usage data. Tables belong to one of three categories for this exercise: data, meta, uninformative.\n",
    "\n",
    "* **Data** - Usable data for segmentation purposes.\n",
    "* **Meta** - Data describing what is found in \"Data\" tables with more detail.\n",
    "* **Uninformative** - Data regarding Alloe security, device connections, etc."
   ]
  },
  {
   "cell_type": "code",
   "execution_count": null,
   "metadata": {},
   "outputs": [],
   "source": []
  },
  {
   "cell_type": "markdown",
   "metadata": {},
   "source": [
    "## Functions"
   ]
  },
  {
   "cell_type": "code",
   "execution_count": 87,
   "metadata": {},
   "outputs": [],
   "source": [
    "aggfunc = lambda x: ' '.join(str(v) for v in x)\n",
    "\n",
    "def make_tables(table, clean_cols, piv_col, piv_val, suffix, piv_index='user', piv_func=aggfunc, counter=False):\n",
    "    df = raw_data[table]\n",
    "    #Add counter for summing CheckIns\n",
    "    if counter:\n",
    "        df['counter'] = int(1)\n",
    "    #Remove \"@...\" from id columns    \n",
    "    for col in clean_cols:\n",
    "        df[col] = df[col].apply(lambda x: re.split(' (?=@)',x)[0])\n",
    "    df = df.pivot_table(index=piv_index, \n",
    "                        columns=piv_col, \n",
    "                        values=piv_val, \n",
    "                        aggfunc=piv_func)\n",
    "    df = df.add_suffix(suffix)\n",
    "    return df\n",
    "\n",
    "def merge_tables(tables, usertable=user):\n",
    "    df = usertable\n",
    "    for table in tables:\n",
    "        df = df.merge(table,\n",
    "                      how='left',\n",
    "                      left_on='_id',\n",
    "                      right_index=True,\n",
    "                      sort=True)\n",
    "    return df"
   ]
  },
  {
   "cell_type": "code",
   "execution_count": 143,
   "metadata": {
    "scrolled": true
   },
   "outputs": [],
   "source": []
  },
  {
   "cell_type": "code",
   "execution_count": 144,
   "metadata": {
    "scrolled": true
   },
   "outputs": [],
   "source": []
  },
  {
   "cell_type": "code",
   "execution_count": 146,
   "metadata": {
    "scrolled": true
   },
   "outputs": [],
   "source": []
  },
  {
   "cell_type": "markdown",
   "metadata": {},
   "source": [
    "## Preprocessing"
   ]
  },
  {
   "cell_type": "code",
   "execution_count": 186,
   "metadata": {},
   "outputs": [],
   "source": [
    "#Prepare 'Data' tables\n",
    "answer = make_tables('answer', \n",
    "                     clean_cols=['survey','user'], \n",
    "                     piv_col='survey', \n",
    "                     piv_val='answer',\n",
    "                     suffix='_surv')\n",
    "\n",
    "chal_inv = make_tables('challengeInvitation',\n",
    "                       clean_cols=['challenge','friend','user'],\n",
    "                       piv_col='challenge',\n",
    "                       piv_val='friend',\n",
    "                       suffix='_chalinv')\n",
    "\n",
    "frnd_rq = make_tables('friendship',\n",
    "                      clean_cols=['friend','user'],\n",
    "                      piv_col='friend',\n",
    "                      piv_val='status',\n",
    "                      suffix='_frndid')\n",
    "\n",
    "event_ast = make_tables('assistantEvent',\n",
    "                        clean_cols=['event','user'],\n",
    "                        piv_col='event',\n",
    "                        piv_val='_id',\n",
    "                        suffix='_evntid')\n",
    "\n",
    "post = make_tables('post',\n",
    "                   clean_cols=['user','item._class'],\n",
    "                   piv_col='item._class',\n",
    "                   piv_val='counter',\n",
    "                   piv_func='sum',\n",
    "                   counter=True,\n",
    "                   suffix='')\n",
    "\n",
    "#Give columns clean names\n",
    "post.rename(columns=lambda x: re.sub('[a-z].+\\.(?=[A-Z])', '', str(x)), inplace=True)"
   ]
  },
  {
   "cell_type": "code",
   "execution_count": 92,
   "metadata": {
    "scrolled": true
   },
   "outputs": [],
   "source": [
    "#Create user 'Data' table and append new 'age' and 'active time' variables\n",
    "\n",
    "from datetime import datetime, date\n",
    "from dateutil import relativedelta\n",
    "\n",
    "user = raw_data['user'][['_id',\n",
    "                         'active',\n",
    "                         'dob',\n",
    "                         'gender',\n",
    "                         'heightFeet',\n",
    "                         'heightInches',\n",
    "                         'joined',\n",
    "                         'weight']]\n",
    "\n",
    "user['dob'] = user['dob'].apply(lambda x: pd.to_datetime(x))\n",
    "user['age'] = user['dob'].apply(lambda x: relativedelta.relativedelta(date.today(), datetime.date(x)).years)\n",
    "user['joined'] = user['joined'].apply(lambda x: pd.to_datetime(x))\n",
    "user['active_time'] = user['joined'].apply(lambda x: (date.today() - datetime.date(x)).days)"
   ]
  },
  {
   "cell_type": "code",
   "execution_count": 128,
   "metadata": {},
   "outputs": [],
   "source": [
    "#Create additional tables of miles ran, activity time, and yoga positions held\n",
    "act_measures = raw_data['post'][['user','item.miles','item.time','item.positions']]\n",
    "act_measures =  act_measures.groupby(act_measures['user']).sum()\n",
    "\n",
    "#Count exercise types\n",
    "exercises = raw_data['post'][['user','item.exercise']]\n",
    "exercises['counter'] = int(1)\n",
    "exercises = exercises.pivot_table(index='user',\n",
    "                                  columns='item.exercise',\n",
    "                                  values='counter',\n",
    "                                  aggfunc='sum')\n",
    "\n",
    "#Count challenges sent, unique friends challenged, and ratio between\n",
    "challenges = pd.DataFrame(chal_inv.count(axis=1), columns={'chal_sent'})\n",
    "challenges = challenges.join(pd.DataFrame(chal_inv.nunique(axis=1), columns={'chal_unique'}))\n",
    "challenges['chal_uni_frnd'] =  challenges['chal_sent'] / challenges['chal_unique']\n",
    "\n",
    "#Count friend requests sent and request status\n",
    "friends = pd.DataFrame(frnd_rq.count(axis=1), columns={'frnd_sent'})\n",
    "friends = friends.join(frnd_rq.apply(pd.value_counts, axis=1)[['ACCEPTED','PENDING','WAITING']])"
   ]
  },
  {
   "cell_type": "code",
   "execution_count": 281,
   "metadata": {
    "scrolled": true
   },
   "outputs": [],
   "source": [
    "#Create main data set for segmentation\n",
    "\n",
    "import numpy as np\n",
    "\n",
    "main = merge_tables([post, act_measures, exercises, challenges, friends])\n",
    "\n",
    "main.drop(353, inplace=True) #Remove one all NaN record\n",
    "main.drop(['dob','joined','CompanyMessage','active'], axis=1, inplace=True) #Remove unused columns\n",
    "main = main.join(pd.get_dummies(main['gender'])).drop(['gender'], axis=1) #Dummy code gender, drop original\n",
    "main[['heightFeet','heightInches','weight']] = main[['heightFeet','heightInches','weight']].fillna(main.median(), inplace=True) #Replace height/weight NaNs with median\n",
    "main.fillna(0, inplace=True) #Replace other NaNs with zero \n",
    "main.set_index('_id', inplace=True)"
   ]
  },
  {
   "cell_type": "markdown",
   "metadata": {},
   "source": [
    "## Segmentation"
   ]
  },
  {
   "cell_type": "code",
   "execution_count": 289,
   "metadata": {
    "scrolled": true
   },
   "outputs": [],
   "source": [
    "import seaborn as sns\n",
    "import matplotlib.pyplot as plt\n",
    "from sklearn.manifold import TSNE\n",
    "%matplotlib inline"
   ]
  },
  {
   "cell_type": "code",
   "execution_count": 292,
   "metadata": {},
   "outputs": [
    {
     "data": {
      "text/plain": [
       "<matplotlib.collections.PathCollection at 0x20db21200b8>"
      ]
     },
     "execution_count": 292,
     "metadata": {},
     "output_type": "execute_result"
    },
    {
     "data": {
      "image/png": "[encoded data removed]",
      "text/plain": [
       "<matplotlib.figure.Figure at 0x20db2637748>"
      ]
     },
     "metadata": {},
     "output_type": "display_data"
    }
   ],
   "source": [
    "embed = TSNE(2).fit_transform(main)\n",
    "plt.scatter(embed[0],embed[1])"
   ]
  },
  {
   "cell_type": "code",
   "execution_count": null,
   "metadata": {},
   "outputs": [],
   "source": []
  },
  {
   "cell_type": "code",
   "execution_count": null,
   "metadata": {},
   "outputs": [],
   "source": []
  },
  {
   "cell_type": "markdown",
   "metadata": {},
   "source": [
    "## Evaluation"
   ]
  },
  {
   "cell_type": "code",
   "execution_count": null,
   "metadata": {},
   "outputs": [],
   "source": []
  }
 ],
 "metadata": {
  "kernelspec": {
   "display_name": "Python [conda root]",
   "language": "python",
   "name": "conda-root-py"
  },
  "language_info": {
   "codemirror_mode": {
    "name": "ipython",
    "version": 3
   },
   "file_extension": ".py",
   "mimetype": "text/x-python",
   "name": "python",
   "nbconvert_exporter": "python",
   "pygments_lexer": "ipython3",
   "version": "3.6.3"
  }
 },
 "nbformat": 4,
 "nbformat_minor": 2
}
