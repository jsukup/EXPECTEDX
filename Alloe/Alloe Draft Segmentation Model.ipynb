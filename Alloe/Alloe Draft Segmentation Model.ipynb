{
 "cells": [
  {
   "cell_type": "code",
   "execution_count": 1,
   "metadata": {},
   "outputs": [],
   "source": [
    "import os\n",
    "import re\n",
    "import glob\n",
    "import difflib\n",
    "import pandas as pd\n",
    "import numpy as np\n",
    "import itertools"
   ]
  },
  {
   "cell_type": "code",
   "execution_count": 19,
   "metadata": {},
   "outputs": [],
   "source": [
    "path = 'C:/analyticsdev/Projects/EXPECTEDX/Alloe/data'\n",
    "files = glob.glob(os.path.join(path, \"*.csv\"))\n",
    "\n",
    "raw_data = [pd.read_csv(name) for name in files]\n",
    "df_names = [re.findall('(?<=\\.)[a-zA-Z]+(?=\\.)', names) for names in files]\n",
    "df_names = itertools.chain(*df_names)\n",
    "raw_data = dict(zip(df_names, raw_data))"
   ]
  },
  {
   "cell_type": "code",
   "execution_count": 20,
   "metadata": {},
   "outputs": [],
   "source": [
    "answer = raw_data['answer']\n",
    "answer['survey'] = answer['survey'].apply(lambda x: re.split(' (?=@)',x)[0])\n",
    "answer['user'] = answer['user'].apply(lambda x: re.split(' (?=@)',x)[0])"
   ]
  },
  {
   "cell_type": "code",
   "execution_count": 21,
   "metadata": {
    "scrolled": true
   },
   "outputs": [],
   "source": [
    "answer = raw_data['answer'].pivot_table(index='user', \n",
    "                                        columns='survey', \n",
    "                                        values='answer', \n",
    "                                        aggfunc= lambda x: ' '.join(str(v) for v in x))"
   ]
  },
  {
   "cell_type": "code",
   "execution_count": 25,
   "metadata": {},
   "outputs": [],
   "source": [
    "main = raw_data['user'].merge(answer, how='left', left_on='_id', right_index=True, sort=True)"
   ]
  },
  {
   "cell_type": "code",
   "execution_count": null,
   "metadata": {},
   "outputs": [],
   "source": []
  }
 ],
 "metadata": {
  "kernelspec": {
   "display_name": "Python 3",
   "language": "python",
   "name": "python3"
  },
  "language_info": {
   "codemirror_mode": {
    "name": "ipython",
    "version": 3
   },
   "file_extension": ".py",
   "mimetype": "text/x-python",
   "name": "python",
   "nbconvert_exporter": "python",
   "pygments_lexer": "ipython3",
   "version": "3.6.3"
  }
 },
 "nbformat": 4,
 "nbformat_minor": 2
}
