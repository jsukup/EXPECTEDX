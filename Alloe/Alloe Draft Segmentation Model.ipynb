{
 "cells": [
  {
   "cell_type": "code",
   "execution_count": 1,
   "metadata": {},
   "outputs": [],
   "source": [
    "import os\n",
    "import re\n",
    "import glob\n",
    "import difflib\n",
    "import pandas as pd\n",
    "import numpy as np\n",
    "import itertools"
   ]
  },
  {
   "cell_type": "code",
   "execution_count": 2,
   "metadata": {},
   "outputs": [],
   "source": [
    "path = 'C:/analyticsdev/Projects/EXPECTEDX/Alloe/data'\n",
    "files = glob.glob(os.path.join(path, \"*.csv\"))\n",
    "\n",
    "raw_data = [pd.read_csv(name) for name in files]\n",
    "df_names = [re.findall('(?<=\\.)[a-zA-Z]+(?=\\.)', names) for names in files]\n",
    "df_names = itertools.chain(*df_names)\n",
    "raw_data = dict(zip(df_names, raw_data))"
   ]
  },
  {
   "cell_type": "code",
   "execution_count": 3,
   "metadata": {},
   "outputs": [],
   "source": [
    "answer = raw_data['answer']\n",
    "answer['survey'] = answer['survey'].apply(lambda x: re.split(' (?=@)',x)[0])\n",
    "answer['user'] = answer['user'].apply(lambda x: re.split(' (?=@)',x)[0])"
   ]
  },
  {
   "cell_type": "code",
   "execution_count": 4,
   "metadata": {
    "scrolled": true
   },
   "outputs": [],
   "source": [
    "answer = answer.pivot_table(index='user', \n",
    "                            columns='survey', \n",
    "                            values='answer', \n",
    "                            aggfunc=lambda x: ' '.join(str(v) for v in x))\n",
    "answer = answer.add_suffix('_surv')"
   ]
  },
  {
   "cell_type": "code",
   "execution_count": 5,
   "metadata": {},
   "outputs": [],
   "source": [
    "main = raw_data['user'].merge(answer, \n",
    "                              how='left', \n",
    "                              left_on='_id', \n",
    "                              right_index=True, \n",
    "                              sort=True)"
   ]
  },
  {
   "cell_type": "code",
   "execution_count": 6,
   "metadata": {},
   "outputs": [],
   "source": [
    "chal_inv = raw_data['challengeInvitation']\n",
    "chal_inv['challenge'] = chal_inv['challenge'].apply(lambda x: re.split(' (?=@)',x)[0])\n",
    "chal_inv['friend'] = chal_inv['friend'].apply(lambda x: re.split(' (?=@)',x)[0])\n",
    "chal_inv['user'] = chal_inv['user'].apply(lambda x: re.split(' (?=@)',x)[0])"
   ]
  },
  {
   "cell_type": "code",
   "execution_count": 7,
   "metadata": {
    "scrolled": true
   },
   "outputs": [],
   "source": [
    "chal_inv = chal_inv.pivot_table(index='user',\n",
    "                                columns='challenge', \n",
    "                                values='friend',\n",
    "                                aggfunc=lambda x: ' '.join(str(v) for v in x))"
   ]
  },
  {
   "cell_type": "code",
   "execution_count": 8,
   "metadata": {
    "scrolled": true
   },
   "outputs": [],
   "source": [
    "chal_inv = chal_inv.add_suffix('_chalinv')"
   ]
  },
  {
   "cell_type": "code",
   "execution_count": 9,
   "metadata": {},
   "outputs": [],
   "source": [
    "main = main.merge(chal_inv,\n",
    "                  how='left',\n",
    "                  left_on='_id',\n",
    "                  right_index=True,\n",
    "                  sort=True)"
   ]
  },
  {
   "cell_type": "markdown",
   "metadata": {},
   "source": [
    "Don't understand relationships between \"challenger\" table and \"challengeInvitation\" table 'user' column"
   ]
  },
  {
   "cell_type": "code",
   "execution_count": 10,
   "metadata": {
    "scrolled": true
   },
   "outputs": [],
   "source": [
    "frnd_rq = raw_data['friendship']\n",
    "frnd_rq['friend'] = frnd_rq['friend'].apply(lambda x: re.split(' (?=@)',x)[0])\n",
    "frnd_rq['user'] = frnd_rq['user'].apply(lambda x: re.split(' (?=@)',x)[0])"
   ]
  },
  {
   "cell_type": "code",
   "execution_count": 12,
   "metadata": {},
   "outputs": [],
   "source": [
    "frnd_rq = frnd_rq.pivot_table(index='user',\n",
    "                              columns='friend',\n",
    "                              values='status',\n",
    "                              aggfunc=lambda x: ' '.join(str(v) for v in x))\n",
    "frnd_rq = frnd_rq.add_suffix('_friendid')"
   ]
  },
  {
   "cell_type": "code",
   "execution_count": 13,
   "metadata": {},
   "outputs": [],
   "source": [
    "main = main.merge(frnd_rq,\n",
    "                  how='left',\n",
    "                  left_on='_id',\n",
    "                  right_index=True,\n",
    "                  sort=True)"
   ]
  },
  {
   "cell_type": "code",
   "execution_count": 33,
   "metadata": {},
   "outputs": [],
   "source": [
    "event_ast = raw_data['assistantEvent']"
   ]
  },
  {
   "cell_type": "code",
   "execution_count": 34,
   "metadata": {},
   "outputs": [],
   "source": [
    "event_ast\n",
    "event_ast['event'] = event_ast['event'].apply(lambda x: re.split(' (?=@)',x)[0])\n",
    "event_ast['user'] = event_ast['user'].apply(lambda x: re.split(' (?=@)',x)[0])"
   ]
  },
  {
   "cell_type": "code",
   "execution_count": 35,
   "metadata": {},
   "outputs": [],
   "source": [
    "event_ast = event_ast.pivot_table(index='user',\n",
    "                                  columns='event',\n",
    "                                  values='_id',\n",
    "                                  aggfunc=lambda x: ' '.join(str(v) for v in x))\n",
    "event_ast = event_ast.add_suffix('_eventid')"
   ]
  },
  {
   "cell_type": "code",
   "execution_count": 37,
   "metadata": {},
   "outputs": [],
   "source": [
    "main = main.merge(event_ast,\n",
    "                  how='left',\n",
    "                  left_on='_id',\n",
    "                  right_index=True,\n",
    "                  sort=True)"
   ]
  },
  {
   "cell_type": "code",
   "execution_count": 118,
   "metadata": {},
   "outputs": [],
   "source": [
    "post = raw_data['post']\n",
    "post['user'] = post['user'].apply(lambda x: re.split(' (?=@)',x)[0])"
   ]
  },
  {
   "cell_type": "code",
   "execution_count": 119,
   "metadata": {},
   "outputs": [],
   "source": [
    "post['counter'] = int(1)\n",
    "post = post.pivot_table(index='user',\n",
    "                        columns='item._class',\n",
    "                        values='counter',\n",
    "                        aggfunc='sum')\n",
    "post = post.add_suffix('_posttype')"
   ]
  },
  {
   "cell_type": "code",
   "execution_count": 121,
   "metadata": {
    "scrolled": true
   },
   "outputs": [],
   "source": [
    "main = main.merge(post,\n",
    "                  how='left',\n",
    "                  left_on='_id',\n",
    "                  right_index=True,\n",
    "                  sort=True)"
   ]
  },
  {
   "cell_type": "code",
   "execution_count": null,
   "metadata": {},
   "outputs": [],
   "source": []
  }
 ],
 "metadata": {
  "kernelspec": {
   "display_name": "Python [default]",
   "language": "python",
   "name": "python3"
  },
  "language_info": {
   "codemirror_mode": {
    "name": "ipython",
    "version": 3
   },
   "file_extension": ".py",
   "mimetype": "text/x-python",
   "name": "python",
   "nbconvert_exporter": "python",
   "pygments_lexer": "ipython3",
   "version": "3.6.3"
  }
 },
 "nbformat": 4,
 "nbformat_minor": 2
}
