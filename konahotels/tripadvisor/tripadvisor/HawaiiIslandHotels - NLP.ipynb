{
 "cells": [
  {
   "cell_type": "markdown",
   "metadata": {},
   "source": [
    "# Hawai'i Island Hotels: TripAdvisor Review Topic Modeling"
   ]
  },
  {
   "cell_type": "markdown",
   "metadata": {},
   "source": [
    "#### *John E. Sukup III, Principal Consultant, Expected X*"
   ]
  },
  {
   "cell_type": "markdown",
   "metadata": {},
   "source": [
    "Visitor reviews of vacation lodging are an important source of information for hotel and resort management. A traditional approach to gathering this data would be via surveys, comment cards, or even phone transcriptions to customer service call centers. A modern approach to gleaning insights from visitors can be accomplished via natural language processing (NLP) of reviews left on websites such as TripAdvisor. \n",
    "\n",
    "With this approach, visitors are in an environment where they can openly share their opinions in a natural way without the interference of a researcher. They are allowed to freely express their opinions in their own words without prompting as done in a survey. Biases usually introduced by the subjectivity of a researcher are all but eliminated, however it should be noted that visitors' reviews could be influenced by reading other reviews prior to writing their own. Also, considerations should be made that visitors providing reviews to websites like TripAdvisor are self-selecting so an argument about how representative the sample is could be made.\n",
    "\n",
    "Nevertheless, I believe the positives outweigh the negatives and that meaningful, if not actionable, insights can be extracted from visitor hotel reviews. The goal of this study will be to learn what underlying themes are reoccuring in positive and negative reviews using Latent Dirichlet Allocation (LDA) for Topic Modeling. "
   ]
  },
  {
   "cell_type": "code",
   "execution_count": 1,
   "metadata": {},
   "outputs": [
    {
     "name": "stderr",
     "output_type": "stream",
     "text": [
      "C:\\analyticsdev\\Anaconda\\lib\\site-packages\\gensim\\utils.py:865: UserWarning: detected Windows; aliasing chunkize to chunkize_serial\n",
      "  warnings.warn(\"detected Windows; aliasing chunkize to chunkize_serial\")\n"
     ]
    }
   ],
   "source": [
    "import warnings\n",
    "import pandas as pd\n",
    "import numpy as np\n",
    "import matplotlib.pyplot as plt\n",
    "import seaborn as sns\n",
    "from gensim.parsing.preprocessing import STOPWORDS\n",
    "from gensim import corpora, models\n",
    "from gensim.utils import simple_preprocess\n",
    "%matplotlib inline\n",
    "warnings.filterwarnings('ignore')"
   ]
  },
  {
   "cell_type": "markdown",
   "metadata": {},
   "source": [
    "## Scraping TripAdvisor Reviews"
   ]
  },
  {
   "cell_type": "markdown",
   "metadata": {},
   "source": [
    "TripAdvisor offers and [API](https://developer-tripadvisor.com/content-api/) but does not allow the API to be called for gathering hotel reviews for research purposes. This means one needs to resort to web scraping in order to gather reviews and metadata relating to them.\n",
    "\n",
    "While a number of web scraping tools exist such as [Octoparse](http://www.octoparse.com/) I chose to stay within the Python environment for all stages of this project. Python also has a number of web scraping packages. I chose Scrapy due to its relatively easy to understand coding structure.\n",
    "\n",
    "Scrapy has an extensive number of features for production-level web scraping but for this research only a base scraper was needed."
   ]
  },
  {
   "cell_type": "code",
   "execution_count": null,
   "metadata": {
    "collapsed": true
   },
   "outputs": [],
   "source": [
    "import scrapy\n",
    "from tripadvisor.items import TripadvisorItem\n",
    "\n",
    "class TrSpider(scrapy.Spider):\n",
    "    name = 'trspider'\n",
    "    start_urls = [\n",
    "            'https://www.tripadvisor.com/Hotels-g29217-Island_of_Hawaii_Hawaii-Hotels.html'\n",
    "            ]\n",
    "\n",
    "    def parse(self, response):\n",
    "        for href in response.xpath('//div[@class=\"listing_title\"]/a/@href'):\n",
    "            url = response.urljoin(href.extract())\n",
    "            yield scrapy.Request(url, callback=self.parse_hotel)\n",
    "\n",
    "        next_page = response.xpath('//div[@class=\"unified pagination standard_pagination\"]/child::*[2][self::a]/@href')\n",
    "        if next_page:\n",
    "            url = response.urljoin(next_page[0].extract())\n",
    "            yield scrapy.Request(url, self.parse)\n",
    "\n",
    "    def parse_hotel(self, response):\n",
    "        for href in response.xpath('//div[starts-with(@class,\"quote\")]/a/@href'):\n",
    "            url = response.urljoin(href.extract())\n",
    "            yield scrapy.Request(url, callback=self.parse_review)\n",
    "\n",
    "\n",
    "        next_page = response.xpath('//link[@rel=\"next\"]/@href')\n",
    "        if next_page:\n",
    "            url = response.urljoin(next_page[0].extract())\n",
    "            yield scrapy.Request(url, self.parse_hotel)\n",
    "\n",
    "    def parse_review(self, response):\n",
    "        item = TripadvisorItem()\n",
    "        item['headline'] = response.xpath('translate(//div[@class=\"quote\"]/text(),\"!\",\" \")').extract()[0][1:-1]\n",
    "        item['review'] = response.xpath('translate(//div[@class=\"entry\"]/p,\"\\n\",\" \")').extract()[0]\n",
    "        item['bubbles'] = response.xpath('//span[contains(@class,\"ui_bubble_rating\")]/@alt').extract()[0]\n",
    "        item['date'] = response.xpath('normalize-space(//span[contains(@class,\"ratingDate\")]/@content)').extract()[0]\n",
    "        item['hotel'] = response.xpath('normalize-space(//span[@class=\"altHeadInline\"]/a/text())').extract()[0]\n",
    "        return item"
   ]
  },
  {
   "cell_type": "markdown",
   "metadata": {},
   "source": [
    "Most of the above code was reworked from that found [here](https://github.com/monkeylearn/hotel-review-analysis) from the team at MonkeyLearn. At the time of writing, the original code no longer appeared to work due apparent changes in TripAdvisor's webpage design and had to be tweaked in order to run correctly.\n",
    "\n",
    "The web scraper (or \"spider\") begins with a base URL. In this case I started at the main page for Island of Hawai'i hotels. The Python class \"TrSpider\" contains three functions for parsing reviews and following links to navigate multiple pages of reviews. Ultimately, the scraper creates a CSV file containing the following features:\n",
    "\n",
    "* Review headline\n",
    "* Review text\n",
    "* Bubble rating\n",
    "* Review date\n",
    "* Hotel/Resort name"
   ]
  },
  {
   "cell_type": "code",
   "execution_count": 2,
   "metadata": {},
   "outputs": [
    {
     "data": {
      "text/html": [
       "<div>\n",
       "<style>\n",
       "    .dataframe thead tr:only-child th {\n",
       "        text-align: right;\n",
       "    }\n",
       "\n",
       "    .dataframe thead th {\n",
       "        text-align: left;\n",
       "    }\n",
       "\n",
       "    .dataframe tbody tr th {\n",
       "        vertical-align: top;\n",
       "    }\n",
       "</style>\n",
       "<table border=\"1\" class=\"dataframe\">\n",
       "  <thead>\n",
       "    <tr style=\"text-align: right;\">\n",
       "      <th></th>\n",
       "      <th>bubbles</th>\n",
       "      <th>date</th>\n",
       "      <th>headline</th>\n",
       "      <th>hotel</th>\n",
       "      <th>review</th>\n",
       "      <th>rating</th>\n",
       "    </tr>\n",
       "  </thead>\n",
       "  <tbody>\n",
       "    <tr>\n",
       "      <th>0</th>\n",
       "      <td>5 of 5 bubbles</td>\n",
       "      <td>2017-07-19</td>\n",
       "      <td>Satisfied Beyond our expectations</td>\n",
       "      <td>Fairmont Orchid, Hawaii</td>\n",
       "      <td>From the moment we arrived at the Fairmont or...</td>\n",
       "      <td>pos</td>\n",
       "    </tr>\n",
       "    <tr>\n",
       "      <th>1</th>\n",
       "      <td>5 of 5 bubbles</td>\n",
       "      <td>2017-07-19</td>\n",
       "      <td>Honeymoon at the Fairmont</td>\n",
       "      <td>Fairmont Orchid, Hawaii</td>\n",
       "      <td>We went there for our honeymoon and were wowe...</td>\n",
       "      <td>pos</td>\n",
       "    </tr>\n",
       "    <tr>\n",
       "      <th>2</th>\n",
       "      <td>3 of 5 bubbles</td>\n",
       "      <td>2017-07-19</td>\n",
       "      <td>Travelguy</td>\n",
       "      <td>Fairmont Orchid, Hawaii</td>\n",
       "      <td>Hotel is in a lovely remote location and is a...</td>\n",
       "      <td>neg</td>\n",
       "    </tr>\n",
       "    <tr>\n",
       "      <th>3</th>\n",
       "      <td>4 of 5 bubbles</td>\n",
       "      <td>2017-06-29</td>\n",
       "      <td>Met our expectations</td>\n",
       "      <td>Wyndham Mauna Loa Village</td>\n",
       "      <td>We stayed here for 7 nights, June 18-25, 2017...</td>\n",
       "      <td>pos</td>\n",
       "    </tr>\n",
       "    <tr>\n",
       "      <th>4</th>\n",
       "      <td>5 of 5 bubbles</td>\n",
       "      <td>2017-06-27</td>\n",
       "      <td>Great hotel with amazing views</td>\n",
       "      <td>Fairmont Orchid, Hawaii</td>\n",
       "      <td>My husband and I stayed here at the beginning...</td>\n",
       "      <td>pos</td>\n",
       "    </tr>\n",
       "  </tbody>\n",
       "</table>\n",
       "</div>"
      ],
      "text/plain": [
       "          bubbles       date                           headline  \\\n",
       "0  5 of 5 bubbles 2017-07-19  Satisfied Beyond our expectations   \n",
       "1  5 of 5 bubbles 2017-07-19          Honeymoon at the Fairmont   \n",
       "2  3 of 5 bubbles 2017-07-19                          Travelguy   \n",
       "3  4 of 5 bubbles 2017-06-29               Met our expectations   \n",
       "4  5 of 5 bubbles 2017-06-27    Great hotel with amazing views    \n",
       "\n",
       "                       hotel  \\\n",
       "0    Fairmont Orchid, Hawaii   \n",
       "1    Fairmont Orchid, Hawaii   \n",
       "2    Fairmont Orchid, Hawaii   \n",
       "3  Wyndham Mauna Loa Village   \n",
       "4    Fairmont Orchid, Hawaii   \n",
       "\n",
       "                                              review rating  \n",
       "0   From the moment we arrived at the Fairmont or...    pos  \n",
       "1   We went there for our honeymoon and were wowe...    pos  \n",
       "2   Hotel is in a lovely remote location and is a...    neg  \n",
       "3   We stayed here for 7 nights, June 18-25, 2017...    pos  \n",
       "4   My husband and I stayed here at the beginning...    pos  "
      ]
     },
     "execution_count": 2,
     "metadata": {},
     "output_type": "execute_result"
    }
   ],
   "source": [
    "df = pd.read_csv('bihotels.csv', dtype={'bubbles':'category','hotel':'category','review':'str'}, parse_dates=[1])\n",
    "df.dropna(inplace=True)\n",
    "df['rating'] = np.where((df['bubbles'] == '5 of 5 bubbles') | (df['bubbles'] == '4 of 5 bubbles'), 'pos', 'neg')\n",
    "df = df.groupby('hotel').filter(lambda x: len(x) > 100)\n",
    "df['hotel'] = df['hotel'].cat.remove_unused_categories()\n",
    "df.head()"
   ]
  },
  {
   "cell_type": "markdown",
   "metadata": {},
   "source": [
    "Some general data clensing is performed to remove records with missing values and dropping hotels with fewer than 100 reviews. This leaves me with 40,806 reviews to work with from over 14 years (4/6/2003 - 7/20/2017).\n",
    "\n",
    "Additional, I created a feature, \"rating,\" combining 4 and 5 bubble reviews (positive) and 1, 2, and 3 bubble reviews (negative) intended to simplify the definition of \"positive review\" from \"negative review.\" \n",
    "\n",
    "One observation to note is the class imbalance introduced by adding this arbitrary split. If I were preparing a classification model I'd want to address this. No other logical splits would appear to remedy this either. An alternative approach perhaps would be to simulate additional reviews for the low scoring reviews (see a method described [here]('http://datamining.rutgers.edu/publication/ipm2010.pdf')). I will simply build an LDA model for *both* positive and negative reviews since their individual sample sizes should be sufficient."
   ]
  },
  {
   "cell_type": "code",
   "execution_count": 3,
   "metadata": {},
   "outputs": [
    {
     "data": {
      "text/plain": [
       "<matplotlib.axes._subplots.AxesSubplot at 0x175a69df908>"
      ]
     },
     "execution_count": 3,
     "metadata": {},
     "output_type": "execute_result"
    },
    {
     "data": {
      "image/png": "[encoded data removed]",
      "text/plain": [
       "<matplotlib.figure.Figure at 0x175a64c6748>"
      ]
     },
     "metadata": {},
     "output_type": "display_data"
    }
   ],
   "source": [
    "fig, axs = plt.subplots(ncols=2, figsize=(15,5))\n",
    "sns.countplot(df['bubbles'], ax=axs[0], palette='coolwarm')\n",
    "sns.countplot(df['rating'], ax=axs[1], palette='coolwarm', order=['neg','pos'])"
   ]
  },
  {
   "cell_type": "markdown",
   "metadata": {},
   "source": [
    "## Preperation for Topic Modeling"
   ]
  },
  {
   "cell_type": "markdown",
   "metadata": {},
   "source": [
    "While Python has an abundance of add-on packages similar to R, my choice is the *gensim* package (with a little help from the NLTK package, too) since it is built specifically for the purpose of Topic Modeling using the LDA algorithm. It also is scalable for large NLP processing jobs and can be multi-threaded to take advantage of multiple compute cores. But first I should describe both Topic Modeling and LDA in overtly simple terms so as not to get bogged down in the underlying complexities:\n",
    "\n",
    "* **Topic Modeling**: Say you have an encyclopedia. Each chapter covers one \"topic.\" If you were to examine each chapter word-for-word, you'd discover that some words appear more often than others in one chapter compared to another (i.e. \"leaves\"/\"roots\" would probably appear much more frequently in a chapter about \"Trees\" but less frequently, if at all, in a chapter about \"Automobiles\"). Topic Modeling generates sets of commonly co-occuring words found within documents. It's up to the analyst to determine what the *latent* structure is within the word sets and thus what topic they best represent. Since our \"encyclopedia\" in this case are just the sets of positive and negative reviews, we don't know what the chapters/topics are yet. Topic modeling will unveil those through our interpretations.\n",
    "\n",
    "\n",
    "* **LDA**: LDA is probably the most common algorithm for discovering these underlying topics. We choose a number of topics we want it to find in our encyclopedia (this is more of an analytics *art* than *science*). LDA then goes through word-by-word and assigns each word to a random topic. This isn't very helpful initially so we need to find the *best* topic for each word. LDA does this by calculating the proportion of words in the encyclopedia that are currently assigned to a topic and the proportion of assignments to a topic within the encyclopedia for a given word. We essentially want to group words together that have a high probability of co-occuring in a specific topic. LDA iteratively reassigning words to new topics until words stop moving around as much (\"convergence\") because we've begun to find the best sets for them to belong in. We are left with word sets for each topic (remember *we* chose the number of topics to find, not LDA), the probability of each occuring within a topic, and the probability of a topic occuring within the whole encyclopedia."
   ]
  },
  {
   "cell_type": "markdown",
   "metadata": {
    "collapsed": true
   },
   "source": [
    "### NLP Transformations"
   ]
  },
  {
   "cell_type": "markdown",
   "metadata": {
    "collapsed": true
   },
   "source": [
    "Before I can apply LDA to our set of reviews, I need to perform a few NLP preperation steps to get the text in the correct form for analysis. Here are the three I'll perform below:\n",
    "\n",
    "* Remove **stopwords** from our reviews, or, words with little intrinsic value to our Topic Model. This includes words like \"and,\" \"the,\" \"or,\" etc. I am left with only meaningful words for LDA to iterate through. So an example sentence like *\"The rooms were very spacious and comfortable\"* would become *\"rooms spacious comfortable.\"* (NOTE: words that are considered stopwords can vary by source.)\n",
    "\n",
    "\n",
    "* Convert the words to **lowercase.** This is so we don't consider words at the beginning of sentences as different from those within a sentence (e.g. \"Beach\" and \"beach\").\n",
    "\n",
    "\n",
    "* **Tokenize** our words, or, transform reviews from blocks of text into vectors of individual words. So now instead of our sentence I'd have each individual word on their own: *\"room,\" \"very,\" \"space,\" \"comfort.\"* Each word is now called a \"token.\"\n",
    "\n",
    "There are other data cleaning transformations I could perform in NLP like **stemming** and **lemmatization** but they might not be well suited for this purpose but I will explore them later depending on how our topics/word sets look following LDA."
   ]
  },
  {
   "cell_type": "code",
   "execution_count": 4,
   "metadata": {
    "collapsed": true
   },
   "outputs": [],
   "source": [
    "def tokenizer(reviews):\n",
    "    return [[token for token in simple_preprocess(review) if token not in STOPWORDS] \n",
    "            for review in reviews]"
   ]
  },
  {
   "cell_type": "markdown",
   "metadata": {},
   "source": [
    "The *gensim* package contains the method *simple_preprocess* which applies all three of the above mentioned NLP preprocessing techniques and leaves me with a prepared list for LDA. I'll do this for both positive and negative reviews."
   ]
  },
  {
   "cell_type": "code",
   "execution_count": 5,
   "metadata": {
    "collapsed": true
   },
   "outputs": [],
   "source": [
    "pos = df[df['rating'] == 'pos']\n",
    "neg = df[df['rating'] == 'neg']\n",
    "pos_reviews = (pos['review']).tolist()\n",
    "neg_reviews = (neg['review']).tolist()\n",
    "pos_review_tokens = tokenizer(pos_reviews)\n",
    "neg_review_tokens = tokenizer(neg_reviews)"
   ]
  },
  {
   "cell_type": "markdown",
   "metadata": {},
   "source": [
    "### Bag-of-Words"
   ]
  },
  {
   "cell_type": "markdown",
   "metadata": {},
   "source": [
    "With our list of tokens for each review, I now need to turn them into something I can process with LDA. The first step is to create a dictionary for our tokens. This isn't a dictionary in the traditional sense of the word, but rather a list containing each unique token in our collection of reviews with a unique integer ID assigned to it."
   ]
  },
  {
   "cell_type": "code",
   "execution_count": 6,
   "metadata": {
    "collapsed": true
   },
   "outputs": [],
   "source": [
    "pos_dic = corpora.Dictionary(pos_review_tokens)\n",
    "pos_dic.filter_n_most_frequent(4)\n",
    "neg_dic = corpora.Dictionary(neg_review_tokens)\n",
    "neg_dic.filter_n_most_frequent(4)"
   ]
  },
  {
   "cell_type": "markdown",
   "metadata": {},
   "source": [
    "Then I go back through our token vectors and count how many times each appears in a review. The end result is a tuple (Token ID, Frequency) for every unique token in each reviews."
   ]
  },
  {
   "cell_type": "code",
   "execution_count": 7,
   "metadata": {},
   "outputs": [
    {
     "data": {
      "text/html": [
       "<div>\n",
       "<style>\n",
       "    .dataframe thead tr:only-child th {\n",
       "        text-align: right;\n",
       "    }\n",
       "\n",
       "    .dataframe thead th {\n",
       "        text-align: left;\n",
       "    }\n",
       "\n",
       "    .dataframe tbody tr th {\n",
       "        vertical-align: top;\n",
       "    }\n",
       "</style>\n",
       "<table border=\"1\" class=\"dataframe\">\n",
       "  <thead>\n",
       "    <tr style=\"text-align: right;\">\n",
       "      <th></th>\n",
       "      <th>id</th>\n",
       "      <th>freq</th>\n",
       "      <th>token</th>\n",
       "    </tr>\n",
       "  </thead>\n",
       "  <tbody>\n",
       "    <tr>\n",
       "      <th>0</th>\n",
       "      <td>0</td>\n",
       "      <td>1</td>\n",
       "      <td>moment</td>\n",
       "    </tr>\n",
       "    <tr>\n",
       "      <th>1</th>\n",
       "      <td>1</td>\n",
       "      <td>1</td>\n",
       "      <td>arrived</td>\n",
       "    </tr>\n",
       "    <tr>\n",
       "      <th>2</th>\n",
       "      <td>2</td>\n",
       "      <td>1</td>\n",
       "      <td>fairmont</td>\n",
       "    </tr>\n",
       "    <tr>\n",
       "      <th>3</th>\n",
       "      <td>3</td>\n",
       "      <td>1</td>\n",
       "      <td>orchid</td>\n",
       "    </tr>\n",
       "    <tr>\n",
       "      <th>4</th>\n",
       "      <td>4</td>\n",
       "      <td>1</td>\n",
       "      <td>treated</td>\n",
       "    </tr>\n",
       "    <tr>\n",
       "      <th>5</th>\n",
       "      <td>5</td>\n",
       "      <td>1</td>\n",
       "      <td>incredibly</td>\n",
       "    </tr>\n",
       "    <tr>\n",
       "      <th>6</th>\n",
       "      <td>6</td>\n",
       "      <td>2</td>\n",
       "      <td>member</td>\n",
       "    </tr>\n",
       "    <tr>\n",
       "      <th>7</th>\n",
       "      <td>7</td>\n",
       "      <td>1</td>\n",
       "      <td>encountered</td>\n",
       "    </tr>\n",
       "    <tr>\n",
       "      <th>8</th>\n",
       "      <td>8</td>\n",
       "      <td>1</td>\n",
       "      <td>beautiful</td>\n",
       "    </tr>\n",
       "    <tr>\n",
       "      <th>9</th>\n",
       "      <td>9</td>\n",
       "      <td>1</td>\n",
       "      <td>clean</td>\n",
       "    </tr>\n",
       "    <tr>\n",
       "      <th>10</th>\n",
       "      <td>10</td>\n",
       "      <td>1</td>\n",
       "      <td>restaurant</td>\n",
       "    </tr>\n",
       "    <tr>\n",
       "      <th>11</th>\n",
       "      <td>11</td>\n",
       "      <td>1</td>\n",
       "      <td>variety</td>\n",
       "    </tr>\n",
       "    <tr>\n",
       "      <th>12</th>\n",
       "      <td>12</td>\n",
       "      <td>1</td>\n",
       "      <td>perfect</td>\n",
       "    </tr>\n",
       "    <tr>\n",
       "      <th>13</th>\n",
       "      <td>13</td>\n",
       "      <td>1</td>\n",
       "      <td>accomodate</td>\n",
       "    </tr>\n",
       "    <tr>\n",
       "      <th>14</th>\n",
       "      <td>14</td>\n",
       "      <td>1</td>\n",
       "      <td>different</td>\n",
       "    </tr>\n",
       "    <tr>\n",
       "      <th>15</th>\n",
       "      <td>15</td>\n",
       "      <td>1</td>\n",
       "      <td>tastes</td>\n",
       "    </tr>\n",
       "    <tr>\n",
       "      <th>16</th>\n",
       "      <td>16</td>\n",
       "      <td>1</td>\n",
       "      <td>activities</td>\n",
       "    </tr>\n",
       "    <tr>\n",
       "      <th>17</th>\n",
       "      <td>17</td>\n",
       "      <td>1</td>\n",
       "      <td>available</td>\n",
       "    </tr>\n",
       "    <tr>\n",
       "      <th>18</th>\n",
       "      <td>18</td>\n",
       "      <td>1</td>\n",
       "      <td>equipment</td>\n",
       "    </tr>\n",
       "    <tr>\n",
       "      <th>19</th>\n",
       "      <td>19</td>\n",
       "      <td>1</td>\n",
       "      <td>use</td>\n",
       "    </tr>\n",
       "    <tr>\n",
       "      <th>20</th>\n",
       "      <td>20</td>\n",
       "      <td>1</td>\n",
       "      <td>ve</td>\n",
       "    </tr>\n",
       "    <tr>\n",
       "      <th>21</th>\n",
       "      <td>21</td>\n",
       "      <td>1</td>\n",
       "      <td>experienced</td>\n",
       "    </tr>\n",
       "    <tr>\n",
       "      <th>22</th>\n",
       "      <td>22</td>\n",
       "      <td>2</td>\n",
       "      <td>property</td>\n",
       "    </tr>\n",
       "    <tr>\n",
       "      <th>23</th>\n",
       "      <td>23</td>\n",
       "      <td>2</td>\n",
       "      <td>truly</td>\n",
       "    </tr>\n",
       "    <tr>\n",
       "      <th>24</th>\n",
       "      <td>24</td>\n",
       "      <td>1</td>\n",
       "      <td>gorgeous</td>\n",
       "    </tr>\n",
       "    <tr>\n",
       "      <th>25</th>\n",
       "      <td>25</td>\n",
       "      <td>1</td>\n",
       "      <td>takes</td>\n",
       "    </tr>\n",
       "    <tr>\n",
       "      <th>26</th>\n",
       "      <td>26</td>\n",
       "      <td>1</td>\n",
       "      <td>pride</td>\n",
       "    </tr>\n",
       "    <tr>\n",
       "      <th>27</th>\n",
       "      <td>27</td>\n",
       "      <td>1</td>\n",
       "      <td>job</td>\n",
       "    </tr>\n",
       "    <tr>\n",
       "      <th>28</th>\n",
       "      <td>28</td>\n",
       "      <td>1</td>\n",
       "      <td>felt</td>\n",
       "    </tr>\n",
       "    <tr>\n",
       "      <th>29</th>\n",
       "      <td>29</td>\n",
       "      <td>1</td>\n",
       "      <td>guest</td>\n",
       "    </tr>\n",
       "    <tr>\n",
       "      <th>30</th>\n",
       "      <td>30</td>\n",
       "      <td>1</td>\n",
       "      <td>thank</td>\n",
       "    </tr>\n",
       "    <tr>\n",
       "      <th>31</th>\n",
       "      <td>31</td>\n",
       "      <td>1</td>\n",
       "      <td>making</td>\n",
       "    </tr>\n",
       "    <tr>\n",
       "      <th>32</th>\n",
       "      <td>32</td>\n",
       "      <td>1</td>\n",
       "      <td>valuable</td>\n",
       "    </tr>\n",
       "    <tr>\n",
       "      <th>33</th>\n",
       "      <td>33</td>\n",
       "      <td>1</td>\n",
       "      <td>vacation</td>\n",
       "    </tr>\n",
       "    <tr>\n",
       "      <th>34</th>\n",
       "      <td>34</td>\n",
       "      <td>1</td>\n",
       "      <td>time</td>\n",
       "    </tr>\n",
       "    <tr>\n",
       "      <th>35</th>\n",
       "      <td>35</td>\n",
       "      <td>1</td>\n",
       "      <td>memorable</td>\n",
       "    </tr>\n",
       "  </tbody>\n",
       "</table>\n",
       "</div>"
      ],
      "text/plain": [
       "    id  freq        token\n",
       "0    0     1       moment\n",
       "1    1     1      arrived\n",
       "2    2     1     fairmont\n",
       "3    3     1       orchid\n",
       "4    4     1      treated\n",
       "5    5     1   incredibly\n",
       "6    6     2       member\n",
       "7    7     1  encountered\n",
       "8    8     1    beautiful\n",
       "9    9     1        clean\n",
       "10  10     1   restaurant\n",
       "11  11     1      variety\n",
       "12  12     1      perfect\n",
       "13  13     1   accomodate\n",
       "14  14     1    different\n",
       "15  15     1       tastes\n",
       "16  16     1   activities\n",
       "17  17     1    available\n",
       "18  18     1    equipment\n",
       "19  19     1          use\n",
       "20  20     1           ve\n",
       "21  21     1  experienced\n",
       "22  22     2     property\n",
       "23  23     2        truly\n",
       "24  24     1     gorgeous\n",
       "25  25     1        takes\n",
       "26  26     1        pride\n",
       "27  27     1          job\n",
       "28  28     1         felt\n",
       "29  29     1        guest\n",
       "30  30     1        thank\n",
       "31  31     1       making\n",
       "32  32     1     valuable\n",
       "33  33     1     vacation\n",
       "34  34     1         time\n",
       "35  35     1    memorable"
      ]
     },
     "execution_count": 7,
     "metadata": {},
     "output_type": "execute_result"
    }
   ],
   "source": [
    "pos_bow = [pos_dic.doc2bow(review) for review in pos_review_tokens]\n",
    "neg_bow = [neg_dic.doc2bow(review) for review in neg_review_tokens]\n",
    "pos_tokens = pd.DataFrame(list(pos_dic.token2id.items()), columns=['token','id'])\n",
    "pos_dt = pd.DataFrame(pos_bow[0], columns=['id','freq'])\n",
    "pos_dt.merge(pos_tokens)"
   ]
  },
  {
   "cell_type": "markdown",
   "metadata": {},
   "source": [
    "The example above is a review with 37 unique tokens and their frequency within the given review. Most words appear only once, but others like \"staff\" and \"property\" appear two times. This process is performed across all reviews.\n",
    "\n",
    "I am left with what is called a \"bag-of-words\" representation. A bag-of-words is just a numeric representation of unique word frequency across a collection (or \"corpus\") of texts. It doesn't account for any other linguistic features that might influence our topic model like part-of-speech (is the word a noun, verb, adjective?) or context (does \"drive\" mean \"drive a vehicle\" or \"motivation?\").\n",
    "\n",
    "Unique word frequencies alone won't help me build a LDA topic model. I'll need to perform another transformation called \"Term Frequency - Inverse Document Frequency,\" or TF-IDF."
   ]
  },
  {
   "cell_type": "code",
   "execution_count": 8,
   "metadata": {
    "collapsed": true
   },
   "outputs": [],
   "source": [
    "pos_tfidf = models.TfidfModel(pos_bow, id2word=pos_dic)\n",
    "neg_tfidf = models.TfidfModel(neg_bow, id2word=neg_dic)"
   ]
  },
  {
   "cell_type": "code",
   "execution_count": 9,
   "metadata": {},
   "outputs": [
    {
     "data": {
      "text/plain": [
       "[]"
      ]
     },
     "execution_count": 9,
     "metadata": {},
     "output_type": "execute_result"
    }
   ],
   "source": [
    "neg_freq = {k: neg_tfidf.dfs.get(v) for v, k in neg_dic.id2token.items()}\n",
    "sorted(neg_freq.items(), key=lambda x: x[1], reverse=True)"
   ]
  },
  {
   "cell_type": "code",
   "execution_count": 10,
   "metadata": {},
   "outputs": [
    {
     "data": {
      "text/plain": [
       "[]"
      ]
     },
     "execution_count": 10,
     "metadata": {},
     "output_type": "execute_result"
    }
   ],
   "source": [
    "pos_freq = {k: pos_tfidf.dfs.get(v) for v, k in pos_dic.id2token.items()}\n",
    "sorted(pos_freq.items(), key=lambda x: x[1], reverse=True)"
   ]
  },
  {
   "cell_type": "code",
   "execution_count": 11,
   "metadata": {},
   "outputs": [
    {
     "data": {
      "text/plain": [
       "dict_items([])"
      ]
     },
     "execution_count": 11,
     "metadata": {},
     "output_type": "execute_result"
    }
   ],
   "source": [
    "pos_dic.id2token.items()"
   ]
  },
  {
   "cell_type": "markdown",
   "metadata": {},
   "source": [
    "### LDA"
   ]
  },
  {
   "cell_type": "code",
   "execution_count": 16,
   "metadata": {},
   "outputs": [
    {
     "data": {
      "text/plain": [
       "[(0,\n",
       "  [('nice', 0.010715318554323),\n",
       "   ('stay', 0.0089187182943643844),\n",
       "   ('clean', 0.0084357610019744067),\n",
       "   ('good', 0.0079133698463915748),\n",
       "   ('rooms', 0.0072932551445795829),\n",
       "   ('night', 0.0071981160786825718),\n",
       "   ('area', 0.0065826343367681858),\n",
       "   ('pool', 0.0064615962952416835),\n",
       "   ('place', 0.0061587348449357194),\n",
       "   ('stayed', 0.0060768478688020466)]),\n",
       " (1,\n",
       "  [('beach', 0.01702886930790818),\n",
       "   ('resort', 0.013845659056530875),\n",
       "   ('pool', 0.012189525326125134),\n",
       "   ('ocean', 0.008703470510626558),\n",
       "   ('nice', 0.0082752681033945175),\n",
       "   ('good', 0.007960575054821336),\n",
       "   ('food', 0.0072659713581628644),\n",
       "   ('day', 0.0065215449132699534),\n",
       "   ('kids', 0.006257866296300897),\n",
       "   ('island', 0.0061482715093284599)]),\n",
       " (2,\n",
       "  [('beach', 0.014137524024535265),\n",
       "   ('resort', 0.012137244650710697),\n",
       "   ('service', 0.011637524444420911),\n",
       "   ('mauna', 0.0091302812535893167),\n",
       "   ('stay', 0.0089521250619340222),\n",
       "   ('seasons', 0.0078377857137161989),\n",
       "   ('beautiful', 0.0074541888887023153),\n",
       "   ('best', 0.0070554632330757858),\n",
       "   ('pool', 0.0068193750139612782),\n",
       "   ('food', 0.0065557210977173763)])]"
      ]
     },
     "execution_count": 16,
     "metadata": {},
     "output_type": "execute_result"
    }
   ],
   "source": [
    "pos_lda = models.LdaModel(pos_bow, id2word=pos_dic, num_topics=3, chunksize=10000, passes=4, iterations=100)\n",
    "pos_lda.show_topics(formatted=False)"
   ]
  },
  {
   "cell_type": "code",
   "execution_count": 14,
   "metadata": {},
   "outputs": [
    {
     "data": {
      "text/plain": [
       "[(0,\n",
       "  [('night', 0.0079849722665773452),\n",
       "   ('staff', 0.0077369225808560649),\n",
       "   ('pool', 0.0068612636606136899),\n",
       "   ('great', 0.0064278566151871157),\n",
       "   ('view', 0.0063113463136322996),\n",
       "   ('place', 0.0061562918669628604),\n",
       "   ('like', 0.0060575353954311966),\n",
       "   ('good', 0.0058646773285972939),\n",
       "   ('day', 0.0056251754066972736),\n",
       "   ('stayed', 0.0052178321798632358)]),\n",
       " (1,\n",
       "  [('resort', 0.012705358256310929),\n",
       "   ('ocean', 0.0098423563151825502),\n",
       "   ('nice', 0.0068987525290066009),\n",
       "   ('hilton', 0.0068450665852559898),\n",
       "   ('view', 0.0064948362301701142),\n",
       "   ('time', 0.0064565074708988184),\n",
       "   ('pool', 0.006431593289282612),\n",
       "   ('day', 0.0063042078114026222),\n",
       "   ('beach', 0.006267685346002352),\n",
       "   ('good', 0.0061408218572786763)]),\n",
       " (2,\n",
       "  [('service', 0.0082982484383522896),\n",
       "   ('beach', 0.0079432532475636457),\n",
       "   ('good', 0.0077331119133226874),\n",
       "   ('nice', 0.0075149210089646441),\n",
       "   ('pool', 0.0068470485282220534),\n",
       "   ('staff', 0.0066147045630844817),\n",
       "   ('food', 0.0060905800420744359),\n",
       "   ('property', 0.0055874798340021696),\n",
       "   ('like', 0.0053850156932967845),\n",
       "   ('resort', 0.0051929595376778949)])]"
      ]
     },
     "execution_count": 14,
     "metadata": {},
     "output_type": "execute_result"
    }
   ],
   "source": [
    "neg_lda = models.LdaModel(neg_bow, id2word=neg_dic, num_topics=3, chunksize=10000, passes=4, iterations=100)\n",
    "neg_lda.show_topics(formatted=False)"
   ]
  },
  {
   "cell_type": "code",
   "execution_count": null,
   "metadata": {
    "collapsed": true
   },
   "outputs": [],
   "source": []
  },
  {
   "cell_type": "code",
   "execution_count": null,
   "metadata": {
    "collapsed": true
   },
   "outputs": [],
   "source": []
  }
 ],
 "metadata": {
  "kernelspec": {
   "display_name": "Python [default]",
   "language": "python",
   "name": "python3"
  },
  "language_info": {
   "codemirror_mode": {
    "name": "ipython",
    "version": 3
   },
   "file_extension": ".py",
   "mimetype": "text/x-python",
   "name": "python",
   "nbconvert_exporter": "python",
   "pygments_lexer": "ipython3",
   "version": "3.6.2"
  }
 },
 "nbformat": 4,
 "nbformat_minor": 2
}
