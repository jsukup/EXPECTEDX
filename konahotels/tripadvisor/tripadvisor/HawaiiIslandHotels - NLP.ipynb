{
 "cells": [
  {
   "cell_type": "markdown",
   "metadata": {},
   "source": [
    "# Hawai'i Island Hotels and Resorts: TripAdvisor Review NLP"
   ]
  },
  {
   "cell_type": "markdown",
   "metadata": {},
   "source": [
    "Visitor reviews of vacation lodging are an important source of information for hotel and resort management. A traditional approach to gathering this data would be via surveys, comment cards, or even phone transcriptions to customer service call centers. A modern approach to gleaning insights from visitors can be accomplished via natural language processing (NLP) of reviews left on websites such as TripAdvisor. \n",
    "\n",
    "With this approach, visitors are in an environment where they can openly share their opinions in a natural way without the interference of a researcher. They are allowed to freely express their opinions in their own words without prompting as done in a survey. Biases usually introduced by the subjectivity of a researcher are all but eliminated, however it should be noted that visitors' reviews could be influenced by reading other reviews prior to writing their own. Also, considerations should be made that visitors providing reviews to websites like TripAdvisor are self-selecting so an argument about how representative the sample is could be made.\n",
    "\n",
    "Nevertheless, I believe the positives outweigh the negatives and that meaningful, if not actionable, insights can be extracted from visitor hotel reviews. The goal of this study will be:\n",
    "\n",
    "* Determine words and phrases commonly found in positive/negative reviews (i.e. \"front desk\",\"check in\",\"room service\",\"pool\",etc.)\n",
    "* Understand how (and if) time impacts reviews either longitudinally or seasonally"
   ]
  },
  {
   "cell_type": "code",
   "execution_count": 181,
   "metadata": {
    "collapsed": true
   },
   "outputs": [],
   "source": [
    "import pandas as pd\n",
    "import numpy as np\n",
    "import matplotlib.pyplot as plt\n",
    "import seaborn as sns\n",
    "from textblob import TextBlob\n",
    "from textblob import Word\n",
    "from textblob.utils import strip_punc\n",
    "from textblob.wordnet import ADJ\n",
    "from nltk.corpus import stopwords\n",
    "from nltk.corpus import wordnet\n",
    "%matplotlib inline"
   ]
  },
  {
   "cell_type": "markdown",
   "metadata": {},
   "source": [
    "TripAdvisor offers and [API](https://developer-tripadvisor.com/content-api/) but does not allow the API to be called for gathering hotel reviews for research purposes. This means one needs to resort to web scraping in order to gather reviews and metadata relating to them.\n",
    "\n",
    "While a number of web scraping tools exist such as [Octoparse](http://www.octoparse.com/) I chose to stay within the Python environment for all stages of this project. Python also has a number of web scraping packages. I chose Scrapy due to its relatively easy to understand coding structure.\n",
    "\n",
    "Scrapy has an extensive number of features for production-level web scraping but for this research only a base scraper was needed."
   ]
  },
  {
   "cell_type": "code",
   "execution_count": 2,
   "metadata": {},
   "outputs": [
    {
     "ename": "ModuleNotFoundError",
     "evalue": "No module named 'tripadvisor'",
     "output_type": "error",
     "traceback": [
      "\u001b[1;31m---------------------------------------------------------------------------\u001b[0m",
      "\u001b[1;31mModuleNotFoundError\u001b[0m                       Traceback (most recent call last)",
      "\u001b[1;32m<ipython-input-2-c059c2a21675>\u001b[0m in \u001b[0;36m<module>\u001b[1;34m()\u001b[0m\n\u001b[0;32m      1\u001b[0m \u001b[1;32mimport\u001b[0m \u001b[0mscrapy\u001b[0m\u001b[1;33m\u001b[0m\u001b[0m\n\u001b[1;32m----> 2\u001b[1;33m \u001b[1;32mfrom\u001b[0m \u001b[0mtripadvisor\u001b[0m\u001b[1;33m.\u001b[0m\u001b[0mitems\u001b[0m \u001b[1;32mimport\u001b[0m \u001b[0mTripadvisorItem\u001b[0m\u001b[1;33m\u001b[0m\u001b[0m\n\u001b[0m\u001b[0;32m      3\u001b[0m \u001b[1;33m\u001b[0m\u001b[0m\n\u001b[0;32m      4\u001b[0m \u001b[1;32mclass\u001b[0m \u001b[0mTrSpider\u001b[0m\u001b[1;33m(\u001b[0m\u001b[0mscrapy\u001b[0m\u001b[1;33m.\u001b[0m\u001b[0mSpider\u001b[0m\u001b[1;33m)\u001b[0m\u001b[1;33m:\u001b[0m\u001b[1;33m\u001b[0m\u001b[0m\n\u001b[0;32m      5\u001b[0m     \u001b[0mname\u001b[0m \u001b[1;33m=\u001b[0m \u001b[1;34m'trspider'\u001b[0m\u001b[1;33m\u001b[0m\u001b[0m\n",
      "\u001b[1;31mModuleNotFoundError\u001b[0m: No module named 'tripadvisor'"
     ]
    }
   ],
   "source": [
    "import scrapy\n",
    "from tripadvisor.items import TripadvisorItem\n",
    "\n",
    "class TrSpider(scrapy.Spider):\n",
    "    name = 'trspider'\n",
    "    start_urls = [\n",
    "            'https://www.tripadvisor.com/Hotels-g29217-Island_of_Hawaii_Hawaii-Hotels.html'\n",
    "            ]\n",
    "\n",
    "    def parse(self, response):\n",
    "        for href in response.xpath('//div[@class=\"listing_title\"]/a/@href'):\n",
    "            url = response.urljoin(href.extract())\n",
    "            yield scrapy.Request(url, callback=self.parse_hotel)\n",
    "\n",
    "        next_page = response.xpath('//div[@class=\"unified pagination standard_pagination\"]/child::*[2][self::a]/@href')\n",
    "        if next_page:\n",
    "            url = response.urljoin(next_page[0].extract())\n",
    "            yield scrapy.Request(url, self.parse)\n",
    "\n",
    "    def parse_hotel(self, response):\n",
    "        for href in response.xpath('//div[starts-with(@class,\"quote\")]/a/@href'):\n",
    "            url = response.urljoin(href.extract())\n",
    "            yield scrapy.Request(url, callback=self.parse_review)\n",
    "\n",
    "\n",
    "        next_page = response.xpath('//link[@rel=\"next\"]/@href')\n",
    "        if next_page:\n",
    "            url = response.urljoin(next_page[0].extract())\n",
    "            yield scrapy.Request(url, self.parse_hotel)\n",
    "\n",
    "    def parse_review(self, response):\n",
    "        item = TripadvisorItem()\n",
    "        item['headline'] = response.xpath('translate(//div[@class=\"quote\"]/text(),\"!\",\" \")').extract()[0][1:-1]\n",
    "        item['review'] = response.xpath('translate(//div[@class=\"entry\"]/p,\"\\n\",\" \")').extract()[0]\n",
    "        item['bubbles'] = response.xpath('//span[contains(@class,\"ui_bubble_rating\")]/@alt').extract()[0]\n",
    "        item['date'] = response.xpath('normalize-space(//span[contains(@class,\"ratingDate\")]/@content)').extract()[0]\n",
    "        item['hotel'] = response.xpath('normalize-space(//span[@class=\"altHeadInline\"]/a/text())').extract()[0]\n",
    "        return item"
   ]
  },
  {
   "cell_type": "markdown",
   "metadata": {},
   "source": [
    "Most of the above code was reworked from that found [here](https://github.com/monkeylearn/hotel-review-analysis) from the team at MonkeyLearn. At the time of writing, the original code no longer appeared to work due apparent changes in TripAdvisor's webpage design and had to be tweaked in order to run correctly.\n",
    "\n",
    "The web scraper (or \"spider\") begins with a base URL. In this case I started at the main page for Island of Hawai'i hotels. The Python class \"TrSpider\" contains three functions for parsing reviews and following links to navigate multiple pages of reviews. Ultimately, the scraper creates a CSV file containing the following features:\n",
    "\n",
    "* Review headline\n",
    "* Review text\n",
    "* Bubble rating\n",
    "* Review date\n",
    "* Hotel/Resort name"
   ]
  },
  {
   "cell_type": "code",
   "execution_count": 12,
   "metadata": {},
   "outputs": [
    {
     "data": {
      "text/html": [
       "<div>\n",
       "<style>\n",
       "    .dataframe thead tr:only-child th {\n",
       "        text-align: right;\n",
       "    }\n",
       "\n",
       "    .dataframe thead th {\n",
       "        text-align: left;\n",
       "    }\n",
       "\n",
       "    .dataframe tbody tr th {\n",
       "        vertical-align: top;\n",
       "    }\n",
       "</style>\n",
       "<table border=\"1\" class=\"dataframe\">\n",
       "  <thead>\n",
       "    <tr style=\"text-align: right;\">\n",
       "      <th></th>\n",
       "      <th>bubbles</th>\n",
       "      <th>date</th>\n",
       "      <th>headline</th>\n",
       "      <th>hotel</th>\n",
       "      <th>review</th>\n",
       "      <th>rating</th>\n",
       "    </tr>\n",
       "  </thead>\n",
       "  <tbody>\n",
       "    <tr>\n",
       "      <th>0</th>\n",
       "      <td>5 of 5 bubbles</td>\n",
       "      <td>2017-07-19</td>\n",
       "      <td>Satisfied Beyond our expectations</td>\n",
       "      <td>Fairmont Orchid, Hawaii</td>\n",
       "      <td>From the moment we arrived at the Fairmont or...</td>\n",
       "      <td>pos</td>\n",
       "    </tr>\n",
       "    <tr>\n",
       "      <th>1</th>\n",
       "      <td>5 of 5 bubbles</td>\n",
       "      <td>2017-07-19</td>\n",
       "      <td>Honeymoon at the Fairmont</td>\n",
       "      <td>Fairmont Orchid, Hawaii</td>\n",
       "      <td>We went there for our honeymoon and were wowe...</td>\n",
       "      <td>pos</td>\n",
       "    </tr>\n",
       "    <tr>\n",
       "      <th>2</th>\n",
       "      <td>3 of 5 bubbles</td>\n",
       "      <td>2017-07-19</td>\n",
       "      <td>Travelguy</td>\n",
       "      <td>Fairmont Orchid, Hawaii</td>\n",
       "      <td>Hotel is in a lovely remote location and is a...</td>\n",
       "      <td>neg</td>\n",
       "    </tr>\n",
       "    <tr>\n",
       "      <th>3</th>\n",
       "      <td>4 of 5 bubbles</td>\n",
       "      <td>2017-06-29</td>\n",
       "      <td>Met our expectations</td>\n",
       "      <td>Wyndham Mauna Loa Village</td>\n",
       "      <td>We stayed here for 7 nights, June 18-25, 2017...</td>\n",
       "      <td>pos</td>\n",
       "    </tr>\n",
       "    <tr>\n",
       "      <th>4</th>\n",
       "      <td>5 of 5 bubbles</td>\n",
       "      <td>2017-06-27</td>\n",
       "      <td>Great hotel with amazing views</td>\n",
       "      <td>Fairmont Orchid, Hawaii</td>\n",
       "      <td>My husband and I stayed here at the beginning...</td>\n",
       "      <td>pos</td>\n",
       "    </tr>\n",
       "  </tbody>\n",
       "</table>\n",
       "</div>"
      ],
      "text/plain": [
       "          bubbles       date                           headline  \\\n",
       "0  5 of 5 bubbles 2017-07-19  Satisfied Beyond our expectations   \n",
       "1  5 of 5 bubbles 2017-07-19          Honeymoon at the Fairmont   \n",
       "2  3 of 5 bubbles 2017-07-19                          Travelguy   \n",
       "3  4 of 5 bubbles 2017-06-29               Met our expectations   \n",
       "4  5 of 5 bubbles 2017-06-27    Great hotel with amazing views    \n",
       "\n",
       "                       hotel  \\\n",
       "0    Fairmont Orchid, Hawaii   \n",
       "1    Fairmont Orchid, Hawaii   \n",
       "2    Fairmont Orchid, Hawaii   \n",
       "3  Wyndham Mauna Loa Village   \n",
       "4    Fairmont Orchid, Hawaii   \n",
       "\n",
       "                                              review rating  \n",
       "0   From the moment we arrived at the Fairmont or...    pos  \n",
       "1   We went there for our honeymoon and were wowe...    pos  \n",
       "2   Hotel is in a lovely remote location and is a...    neg  \n",
       "3   We stayed here for 7 nights, June 18-25, 2017...    pos  \n",
       "4   My husband and I stayed here at the beginning...    pos  "
      ]
     },
     "execution_count": 12,
     "metadata": {},
     "output_type": "execute_result"
    }
   ],
   "source": [
    "df = pd.read_csv('bihotels.csv', dtype={'bubbles':'category','hotel':'category','review':'str'}, parse_dates=[1])\n",
    "df.dropna(inplace=True)\n",
    "df['rating'] = np.where((df['bubbles'] == '5 of 5 bubbles') | (df['bubbles'] == '4 of 5 bubbles'), 'pos', 'neg')\n",
    "df = df.groupby('hotel').filter(lambda x: len(x) > 100)\n",
    "df['hotel'] = df['hotel'].cat.remove_unused_categories()\n",
    "df.head()"
   ]
  },
  {
   "cell_type": "markdown",
   "metadata": {},
   "source": [
    "Some general data clensing is performed to remove records with missing values and dropping hotels with fewer than 100 reviews. This leaves us with 40,806 reviews to work with from over 14 years (4/6/2003 - 7/20/2017).\n",
    "\n",
    "Additional, I created a feature, \"rating,\" combining 4 and 5 bubble reviews (positive) and 1, 2, and 3 bubble reviews (negative) intended to simplify the definition of \"positive review\" from \"negative review.\" \n",
    "\n",
    "If we were building a classification model for determining what words/n-grams/etc. best differentiated between positive and negative reviews we'd have an issue of imbalance since most reviews for Hawai'i Island hotels are \"positive\" (good job!). "
   ]
  },
  {
   "cell_type": "code",
   "execution_count": 13,
   "metadata": {},
   "outputs": [
    {
     "data": {
      "text/plain": [
       "<matplotlib.axes._subplots.AxesSubplot at 0x200e60aecf8>"
      ]
     },
     "execution_count": 13,
     "metadata": {},
     "output_type": "execute_result"
    },
    {
     "data": {
      "image/png": "[encoded data removed]",
      "text/plain": [
       "<matplotlib.figure.Figure at 0x200d88beba8>"
      ]
     },
     "metadata": {},
     "output_type": "display_data"
    }
   ],
   "source": [
    "fig, axs = plt.subplots(ncols=2, figsize=(15,5))\n",
    "sns.countplot(df['bubbles'], ax=axs[0], palette='coolwarm')\n",
    "sns.countplot(df['rating'], ax=axs[1], palette='coolwarm', order=['neg','pos'])"
   ]
  },
  {
   "cell_type": "markdown",
   "metadata": {},
   "source": [
    "Sentiment analysis is typically performed in unsupervised learning applications (i.e. those where we do not have labels/target variables to differentiate between classes). Just for fun, I wanted to see how well TextBlob's built-in analyzer worked. While there really isn't a \"right\" answer here, we can use a review's bubble score as a comparative metric. After all, you wouldn't write a horrible review/headline and then give a hotel 5 out of 5, would you?\n",
    "\n",
    "Although the package offers two options, I found the Naive Bayes classifier to take much longer than the default classifier which scores reviews by extracting the adjectives, scoring their sentiment based on a built in lexicon of pre-scored adjectives, and averaging the scores for each review to arrive at a final score between -1 and 1. According to the documentation for the pattern package where this is pulled from, a sentiment score >0.1 is an indication of \"positive\" (although I'm not certain if this threshold is arbitrary or not)."
   ]
  },
  {
   "cell_type": "code",
   "execution_count": 14,
   "metadata": {
    "collapsed": true
   },
   "outputs": [],
   "source": [
    "df['rev_sent'] = df['review'].apply(lambda x: TextBlob(x).sentiment[0])\n",
    "df['head_sent'] = df['headline'].apply(lambda x: TextBlob(x).sentiment[0])"
   ]
  },
  {
   "cell_type": "code",
   "execution_count": 15,
   "metadata": {},
   "outputs": [
    {
     "data": {
      "text/plain": [
       "<matplotlib.text.Text at 0x200e4fabd68>"
      ]
     },
     "execution_count": 15,
     "metadata": {},
     "output_type": "execute_result"
    },
    {
     "data": {
      "image/png": "[encoded data removed]",
      "text/plain": [
       "<matplotlib.figure.Figure at 0x200e49926a0>"
      ]
     },
     "metadata": {},
     "output_type": "display_data"
    }
   ],
   "source": [
    "fig, axs = plt.subplots(nrows=2, ncols=2, figsize=(15,5))\n",
    "plt.subplots_adjust(hspace=.5)\n",
    "sns.distplot(df['rev_sent'], hist=True, color='blue', ax=axs[0,0])\n",
    "sns.boxplot(x='bubbles', y='rev_sent', data=df, palette='coolwarm', ax=axs[0,1])\n",
    "sns.distplot(df['head_sent'], hist=True, color='blue', ax=axs[1,0])\n",
    "sns.boxplot(x='bubbles', y='head_sent', data=df, palette='coolwarm', ax=axs[1,1])\n",
    "axs[0,0].set_title('Review Sentiment (>0.1 = \"Positive\")')\n",
    "axs[0,1].set_title('Review Sentiment by Bubble Rating')\n",
    "axs[1,0].set_title('Headline Sentiment (>0.1 = \"Positive\")')\n",
    "axs[1,1].set_title('Headline Sentiment by Bubble Rating')"
   ]
  },
  {
   "cell_type": "markdown",
   "metadata": {},
   "source": [
    "Three things become apparent after applying the sentiment analyzer:\n",
    "\n",
    "* The pattern package documentation suggests that the default partition between positive and negative sentiment is at 0.1 with higher scores categorized as \"positive.\" The histogram for reviews on the left shows a similar distribution of higher sentiment scores compariable to the abundance of 4 and 5 bubble reviews we saw earlier.\n",
    "* The analyzer seems to work decently but is far from perfect. While we'd expect to see higher bubble ratings associated with stronger positive sentiment, we also see several outliers among our grouped box plots especially among the 1 bubble reviews.\n",
    "* Headlines are short and limited in length so several have no adjectives that can be scored. Therefore sentiment scoring is sparse and we aren't really given a good indication (notice the peak at \"0.0\" on the left-side histogram).\n",
    "\n",
    "Moving forward, we want to begin exploring what key words and noun phrases are mentioned most frequently in positive and negative reviews. This information is valuable to hotel/resort management since it can help them identify areas that need improvement and areas that they excel in. Also, since we have a timestamp tied to each review we can identify trends if not seasonality in the use of key words in reviews."
   ]
  },
  {
   "cell_type": "code",
   "execution_count": 90,
   "metadata": {
    "collapsed": true
   },
   "outputs": [],
   "source": [
    "stopWords = set(stopwords.words('english'))"
   ]
  },
  {
   "cell_type": "code",
   "execution_count": 223,
   "metadata": {},
   "outputs": [],
   "source": [
    "test = ' '.join([word for word in df['review'][10].split() if word not in stopWords])"
   ]
  },
  {
   "cell_type": "code",
   "execution_count": 226,
   "metadata": {},
   "outputs": [],
   "source": [
    "test = TextBlob(df['review'][10]).noun_phrases"
   ]
  },
  {
   "cell_type": "code",
   "execution_count": 227,
   "metadata": {},
   "outputs": [
    {
     "data": {
      "text/plain": [
       "WordList(['lovely pool', 'great waterview', 'convenient location', 'clean ... ..and amenities', 'manyothers lack', 'guest use', 'century ... ...', 'guest internet'])"
      ]
     },
     "execution_count": 227,
     "metadata": {},
     "output_type": "execute_result"
    }
   ],
   "source": [
    "test"
   ]
  },
  {
   "cell_type": "code",
   "execution_count": null,
   "metadata": {},
   "outputs": [],
   "source": []
  },
  {
   "cell_type": "code",
   "execution_count": null,
   "metadata": {
    "collapsed": true
   },
   "outputs": [],
   "source": []
  },
  {
   "cell_type": "code",
   "execution_count": null,
   "metadata": {
    "collapsed": true
   },
   "outputs": [],
   "source": []
  },
  {
   "cell_type": "code",
   "execution_count": null,
   "metadata": {
    "collapsed": true
   },
   "outputs": [],
   "source": []
  },
  {
   "cell_type": "code",
   "execution_count": 32,
   "metadata": {},
   "outputs": [],
   "source": [
    "def phraser(string):\n",
    "    strip = strip_punc(string, all=True)\n",
    "    text = TextBlob(strip)\n",
    "    return text.noun_phrases\n",
    "df['noun_phrases'] = df['review'].apply(lambda x: phraser(x))"
   ]
  },
  {
   "cell_type": "code",
   "execution_count": null,
   "metadata": {},
   "outputs": [],
   "source": []
  },
  {
   "cell_type": "code",
   "execution_count": null,
   "metadata": {},
   "outputs": [],
   "source": []
  },
  {
   "cell_type": "code",
   "execution_count": null,
   "metadata": {},
   "outputs": [],
   "source": []
  },
  {
   "cell_type": "code",
   "execution_count": null,
   "metadata": {},
   "outputs": [],
   "source": []
  },
  {
   "cell_type": "code",
   "execution_count": null,
   "metadata": {},
   "outputs": [],
   "source": []
  },
  {
   "cell_type": "code",
   "execution_count": null,
   "metadata": {
    "collapsed": true
   },
   "outputs": [],
   "source": []
  },
  {
   "cell_type": "code",
   "execution_count": null,
   "metadata": {
    "collapsed": true
   },
   "outputs": [],
   "source": []
  }
 ],
 "metadata": {
  "kernelspec": {
   "display_name": "Python 3",
   "language": "python",
   "name": "python3"
  },
  "language_info": {
   "codemirror_mode": {
    "name": "ipython",
    "version": 3
   },
   "file_extension": ".py",
   "mimetype": "text/x-python",
   "name": "python",
   "nbconvert_exporter": "python",
   "pygments_lexer": "ipython3",
   "version": "3.6.2"
  }
 },
 "nbformat": 4,
 "nbformat_minor": 2
}
