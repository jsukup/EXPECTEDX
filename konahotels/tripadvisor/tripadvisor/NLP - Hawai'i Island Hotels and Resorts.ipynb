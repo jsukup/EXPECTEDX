{
 "cells": [
  {
   "cell_type": "markdown",
   "metadata": {},
   "source": [
    "## Extracting TripAdvisor Reviews with Python"
   ]
  },
  {
   "cell_type": "markdown",
   "metadata": {},
   "source": [
    "Analyzing the \"voice-of-the-customer\" is the foundation of the market research industry. Typically, the industry has relied on two main methodologies and slight derivatives: surveys and focus groups. While it is unlikely that both of these methodologies will fall completely out of use, there are alternative techniques that utilize the power of modern analytics to extract valuable consumer information.\n",
    "\n",
    "The following is a brief exploration of using Python, Scrapy, the Natural Language Toolkit (NLTK), the **V**alence **A**ware **D**ictionary and s**E**ntiment **R**easoner (VADER) sentiment analyzer, and Scattertext, an NLP visualizer. The goal is to explore hotel and resort ratings for the Island of Hawai'i from TripAdvisor, understand consumer sentiment as it relates to different amenities, and visualize how reviews differ between positive and negative."
   ]
  },
  {
   "cell_type": "code",
   "execution_count": 183,
   "metadata": {},
   "outputs": [
    {
     "data": {
      "text/html": [
       "<style>.container { width:98% !important; }</style>"
      ],
      "text/plain": [
       "<IPython.core.display.HTML object>"
      ]
     },
     "metadata": {},
     "output_type": "display_data"
    }
   ],
   "source": [
    "import pandas as pd\n",
    "import numpy as np\n",
    "import matplotlib.pyplot as plt\n",
    "import nltk\n",
    "from nltk.sentiment.vader import SentimentIntensityAnalyzer \n",
    "import scattertext as st\n",
    "import spacy\n",
    "import pickle\n",
    "from collections import Counter\n",
    "from IPython.display import IFrame\n",
    "from IPython.core.display import display, HTML\n",
    "%matplotlib inline\n",
    "display(HTML(\"<style>.container { width:98% !important; }</style>\"))"
   ]
  },
  {
   "cell_type": "markdown",
   "metadata": {},
   "source": [
    "First, we need to gather reviews. TripAdvisor (TA) is the number one travel site in the U.S. and boasts over 500 million hotel and resort reviews. For this demonstration, we are only interested in hotels/resorts on the Island of Hawai'i. Considering the island's heavy tourism industry, we have plenty of reviews to work with.\n",
    "\n",
    "The script below uses the Python package Scrapy which is designed specifically for web scraping tasks. To summarize, we provide an initial starting URL for the scraper -- in this case the first page of results when we search for *\"Island of Hawai'i\"* on TA-- and then use XPath references to extract review text from the underlying HTML code. This script first follows the link to a hotel's review page, extracts all reviews on the first page and subsequent pages, then goes back to the starting URL and follows the link to the next hotet, extracts all reviews...and so on until all reviews for all hotels have been scraped and added to an output CSV document.\n",
    "\n",
    "Referencing the function **\"parse_review\"** below, we've extracted the review headline, text, bubble rating, date, and hotel."
   ]
  },
  {
   "cell_type": "code",
   "execution_count": null,
   "metadata": {
    "collapsed": true
   },
   "outputs": [],
   "source": [
    "import scrapy\n",
    "from tripadvisor.items import TripadvisorItem\n",
    "\n",
    "class TrSpider(scrapy.Spider):\n",
    "    name = 'trspider'\n",
    "    start_urls = [\n",
    "            'https://www.tripadvisor.com/Hotels-g29217-Island_of_Hawaii_Hawaii-Hotels.html'\n",
    "            ]\n",
    "\n",
    "    def parse(self, response):\n",
    "        for href in response.xpath('//div[@class=\"listing_title\"]/a/@href'):\n",
    "            url = response.urljoin(href.extract())\n",
    "            yield scrapy.Request(url, callback=self.parse_hotel)\n",
    "\n",
    "        next_page = response.xpath('//div[@class=\"unified pagination standard_pagination\"]/child::*[2][self::a]/@href')\n",
    "        if next_page:\n",
    "            url = response.urljoin(next_page[0].extract())\n",
    "            yield scrapy.Request(url, self.parse)\n",
    "\n",
    "    def parse_hotel(self, response):\n",
    "        for href in response.xpath('//div[starts-with(@class,\"quote\")]/a/@href'):\n",
    "            url = response.urljoin(href.extract())\n",
    "            yield scrapy.Request(url, callback=self.parse_review)\n",
    "\n",
    "\n",
    "        next_page = response.xpath('//link[@rel=\"next\"]/@href')\n",
    "        if next_page:\n",
    "            url = response.urljoin(next_page[0].extract())\n",
    "            yield scrapy.Request(url, self.parse_hotel)\n",
    "\n",
    "    def parse_review(self, response):\n",
    "        item = TripadvisorItem()\n",
    "        item['headline'] = response.xpath('translate(//div[@class=\"quote\"]/text(),\"!\",\" \")').extract()[0][1:-1]\n",
    "        item['review'] = response.xpath('translate(//div[@class=\"entry\"]/p,\"\\n\",\" \")').extract()[0]\n",
    "        item['bubbles'] = response.xpath('//span[contains(@class,\"ui_bubble_rating\")]/@alt').extract()[0]\n",
    "        item['date'] = response.xpath('normalize-space(//span[contains(@class,\"ratingDate\")]/@content)').extract()[0]\n",
    "        item['hotel'] = response.xpath('normalize-space(//span[@class=\"altHeadInline\"]/a/text())').extract()[0]\n",
    "        return item"
   ]
  },
  {
   "cell_type": "markdown",
   "metadata": {},
   "source": [
    "The raw output generates a file with **~41,500** records spanning the dates of **2003-01-20** to **2017-07-20** -- over 14 years of reviews! Before we start exploring though we'll need to run some data cleaning steps. The function below loads the CSV into Python, removes reviews with missing values, and drops hotels with fewer than 100 reviews."
   ]
  },
  {
   "cell_type": "code",
   "execution_count": 3,
   "metadata": {
    "collapsed": true
   },
   "outputs": [],
   "source": [
    "def clean_scrapy(raw_csv):\n",
    "    df = pd.read_csv(raw_csv, dtype={'bubbles':'category','hotel':'category'}, parse_dates=[1])\n",
    "    df.dropna(inplace=True)\n",
    "    df.bubbles.cat.rename_categories([1,2,3,4,5], inplace=True)\n",
    "    df = df.groupby('hotel').filter(lambda x: len(x) > 100)\n",
    "    df['hotel'] = df['hotel'].cat.remove_unused_categories()\n",
    "    return df\n",
    "\n",
    "df = clean_scrapy('bihotels.csv')"
   ]
  },
  {
   "cell_type": "markdown",
   "metadata": {
    "collapsed": true
   },
   "source": [
    "This operation reduces our data set to **~40,800** reviews.\n",
    "\n",
    "Since this is mostly an exploratory exercise, we'd like a means of slicing and dicing our data to look at it in different ways. The function below allows us to filter by review dates, bubble rating counts, and hotel. It also lets us return review headlines rather than the review itself should we want to explore those too. For now, we'll just look at all the reviews."
   ]
  },
  {
   "cell_type": "code",
   "execution_count": 4,
   "metadata": {
    "collapsed": true,
    "scrolled": true
   },
   "outputs": [],
   "source": [
    "mindate = df['date'].min()\n",
    "maxdate = df['date'].max()\n",
    "def data_filter(df, min_date=mindate, max_date=maxdate, low_bub=1, high_bub=5, hotel=None, headline=False):\n",
    "    text = df\n",
    "    text = text.query('date >= @min_date & date <= @max_date')\n",
    "    text = text.query('bubbles >= @low_bub & bubbles <= @high_bub')\n",
    "    if hotel:\n",
    "        text = text.query('hotel == @hotel')\n",
    "    return text[['bubbles','headline']] if headline else text[['bubbles','review']]\n",
    "\n",
    "text = data_filter(df)"
   ]
  },
  {
   "cell_type": "markdown",
   "metadata": {},
   "source": [
    "Natural Language Processing (NLP) is an entirely vast subfield of machine learning (ML) if not a field in its own right. The variety of analyses and applications is (in my opinion) much greater than many other ML pursuits. Additionally, when considering nuance, context, and semantic idiosyncrasies of written and spoke language NLP is one of the most complex areas in ML.\n",
    "\n",
    "Three of the most common NLP preprocessing steps are case folding, tokenization, and part-of-speech tagging:\n",
    "\n",
    "* **Case Folding** is the process of transforming text into lowercase. This is mainly done so that words with difference cases are not treated as separate words by certain NLP algorithms (e.g. \"Resort\" and \"resort\" could be seen as two different words).\n",
    "\n",
    "\n",
    "* **Tokenization** takes each word in a collection of text (referred to as a \"corpus\" in NLP terms) and assigns it a unique numeric value. Words themselves are not numeric or quantitative in nature but many of the algorithms used in NLP require them to be treated that way. This is another reason for Case Folding so we don't have words with different assignments (e.g. \"What a great hotel!\" tokenized would be \"What\",\"a\",\"great\",\"hotel\",\"!\". Punctuation is optional depending on application).\n",
    "\n",
    "\n",
    "* **Part-of-Speech Tagging** assigns words to word types like \"nouns,\" \"verbs,\" adjectives,\" etc. This makes it easier to extract informative components of sentences like noun phrases (e.g. \"wonderful spa\",\"beautiful pool\",\"excellent restaurant\" are all examples of simple noun phrases -- an adjective followed by a noun)"
   ]
  },
  {
   "cell_type": "code",
   "execution_count": 23,
   "metadata": {
    "collapsed": true
   },
   "outputs": [],
   "source": [
    "def np_preprocess(text):\n",
    "    corpus = ' '.join(text.iloc[:,1])\n",
    "    sentences = nltk.sent_tokenize(corpus.lower())\n",
    "    tokens = [nltk.word_tokenize(token) for token in sentences] \n",
    "    tags = [nltk.pos_tag(tag) for tag in tokens]\n",
    "    return tags\n",
    "\n",
    "tags = np_preprocess(text)"
   ]
  },
  {
   "cell_type": "markdown",
   "metadata": {},
   "source": [
    "Identifying noun phrases will be our first task. The rationale is that when a consumer writes a review on TA they are given on option to also rate things like \"Value\" and \"Sleep Quality\" but they don't always do. However, that doesn't mean that their review itself doesn't explicitly mention these types of things or specific amenities. We can potentially get a clearer picture using NLP techniques.\n",
    "\n",
    "The script below takes our review corpus (each word having been tagged with a part-of-speech from our previous step) and extracts the nouns. The idea is that commonly occurring nouns are a good indicator of hotel/resort features and amenities that reviewers feel strongly about. It gives us a good starting place for sentiment analysis"
   ]
  },
  {
   "cell_type": "code",
   "execution_count": 38,
   "metadata": {
    "scrolled": false
   },
   "outputs": [
    {
     "data": {
      "image/png": "[encoded data removed]",
      "text/plain": [
       "<matplotlib.figure.Figure at 0x2a9e121c6a0>"
      ]
     },
     "metadata": {},
     "output_type": "display_data"
    }
   ],
   "source": [
    "nouns = []\n",
    "for tag in tags:\n",
    "    for np in tag:\n",
    "        if np[1] in ['NN','NNP','NNS','NNPS']: #This covers all noun types, normal, proper, and plural\n",
    "            nouns.append(np)\n",
    "\n",
    "plt.figure(figsize=(15,8))\n",
    "nltk.FreqDist(nouns).plot(50)"
   ]
  },
  {
   "cell_type": "markdown",
   "metadata": {},
   "source": [
    "The chart above shows the 50 most commonly occurring nouns in our review corpus. This part requires some subjectivity to determine which nouns are worth exploring more. The first five (\"i,\" \"hotel,\" \"room,\" \"beach,\" \"resort\") are general and might not be of much help but \"pool,\" \"staff, \"food,\" and \"service\" might warrant further investigation. \n",
    "\n",
    "In a real-word setting, we'd probably want to work with managers and industry experts to tease out the best nouns to use. We may also want to consider the time of reference since some reviews may have terse comments regarding something the resort addressed recently (i.e. remodeled pool or improved restaurant menu).\n",
    "\n",
    "Let's take a deeper look at \"pool,\" \"staff,\" \"food,\" \"service,\" and we'll add in \"location\" as well since that is one feature that TA also tracks"
   ]
  },
  {
   "cell_type": "markdown",
   "metadata": {},
   "source": [
    "## VADER Sentiment Analyzer"
   ]
  },
  {
   "cell_type": "markdown",
   "metadata": {
    "collapsed": true
   },
   "source": [
    "Understanding the positive and negative emotions consumers have towards a product or service is of significant interest to businesses. While market researchers typically approach these types of problems with survey and focus group methodology, NLP provides some alternative methods that 1) could provide less biased insights and, 2) can cost far less than the price of recruiting survey respondents and focus group participants.\n",
    "\n",
    "Sentiment Analysis is the NLP approach to uncovering these emotions. While being one of the more challenging NLP tasks, there are a variety of methodologies. We chose to use VADER for this demonstration. You can read more about it [here](http://comp.social.gatech.edu/papers/icwsm14.vader.hutto.pdf). Many market researchers readily say that \"machines\" will never replace humans in understanding other humans, yet VADER itself was actually trained *using humans to score sentiment polarity!*\n",
    "\n",
    "Some interesting features of the VADER Sentiment Analyzer:\n",
    "\n",
    "* Considers punctuation as an intensity modifier, so a sentence ending in **\"!\"** isn't as intense as one ending with **\"!!\"**\n",
    "* Considers ALL CAPS as an intensity modifier, so **\"great\"** isn't as intense as **\"GREAT.\"**\n",
    "* Considers adjectives and other word modifiers, so **\"It's good\"** isn't as intense as **\"It's really good.\"**\n",
    "* Considers conjunctive sentences using \"but\" as two different sentiments with more weight placed on sentiment after \"but.\"\n",
    "* Considers tri-grams (i.e. groups of three words together in a sentence) for sentiment \"flips\" as in **\"This resort really isn't all that great.\"**"
   ]
  },
  {
   "cell_type": "code",
   "execution_count": 164,
   "metadata": {},
   "outputs": [],
   "source": [
    "sia = nltk.sentiment.SentimentIntensityAnalyzer()\n",
    "\n",
    "def feature_sentiments(feature):\n",
    "    '''\n",
    "    Some tagged words include a '.' if reviewer didn't add spacing after \n",
    "    end-of-sentence period making parser include last word of sentence with \n",
    "    first word of next(e.g. 'hotel.but'). Causes division by zero since no \n",
    "    sentence contains these terms by themselves\n",
    "    '''    \n",
    "    feature = [sentence + '.' for sentence in text.iloc[:,1] if feature in sentence]\n",
    "    sentiment = []\n",
    "    for sentence in feature:       \n",
    "        sentiment.append(sia.polarity_scores(sentence))\n",
    "\n",
    "    if len(sentiment) != 0:            \n",
    "        results = sum([item['compound'] for item in sentiment])/len(sentiment)  \n",
    "    else:\n",
    "        results = 0\n",
    "    return results"
   ]
  },
  {
   "cell_type": "markdown",
   "metadata": {},
   "source": [
    "The VADER algorithm takes a sentence as input and compares it to a lexicon created during the initial algorithm training by humans. Each sentence is given positive, neutral, negative, and compound score based on reference to this lexicon and with the 5 bullets above. We will use just the compound score since it is an amalgamation of sentiment scores for each word in a sentence normalized between -1 and 1 with \"-1\" being \"completely negative\" and \"1\" being \"completely positive.\" This is convenient since we can then set our own thresholds for what we believe constitutes positive/neutral/negative.\n",
    "\n",
    "The above script takes a key word, extracts all sentences from the review corpus that contain it, scores them on sentiment, then averages the compound score across all sentences mentioning the key word(s). We decided to look at the words \"pool,\" \"staff,\" \"food,\" \"service,\" and \"location.\""
   ]
  },
  {
   "cell_type": "code",
   "execution_count": 91,
   "metadata": {},
   "outputs": [
    {
     "data": {
      "text/plain": [
       "{'food': 0.8752086250000046,\n",
       " 'location': 0.8731143825719613,\n",
       " 'pool': 0.8790398362044726,\n",
       " 'service': 0.8435833755749537,\n",
       " 'staff': 0.8779128159068393}"
      ]
     },
     "execution_count": 91,
     "metadata": {},
     "output_type": "execute_result"
    }
   ],
   "source": [
    "features = {'pool': '','staff': '','food': '','service': '','location': ''}\n",
    "for feature in features.keys():\n",
    "    features[feature] = feature_sentiments(feature)    \n",
    "features"
   ]
  },
  {
   "cell_type": "markdown",
   "metadata": {},
   "source": [
    "So what we can see here is that most mentions of these terms are positive (remember we didn't filter the data by bubble rating so both negative and positive reviews are presented). But let's dig a little deeper: *why* do reviewers rate these positive? The NLTK also offers a few other tools for NLP that might be helpful. The \"concordance\" method allows us to choose a key word and see its context within sentences. This can add additional \"flavor\" to the reason reviewers provided the rating they did."
   ]
  },
  {
   "cell_type": "code",
   "execution_count": 27,
   "metadata": {
    "collapsed": true
   },
   "outputs": [],
   "source": [
    "def concord (text, feature):\n",
    "    corpus = ' '.join(text.iloc[:,1])\n",
    "    words = nltk.word_tokenize(corpus.lower())\n",
    "    concordance = nltk.Text(words)\n",
    "    return concordance.concordance(feature) "
   ]
  },
  {
   "cell_type": "code",
   "execution_count": 9,
   "metadata": {},
   "outputs": [
    {
     "name": "stdout",
     "output_type": "stream",
     "text": [
      "Displaying 25 of 24723 matches:\n",
      "ntastic . we enjoyed our time at the pool . it was a quick stay and would defi\n",
      "ying to everything on the cheap from pool food service hours to the fairmont b\n",
      "s that has truly everything ! lovely pool , great waterview from many rooms , \n",
      " can snorkel with , a huge freestyle pool , staff which is super friendly and \n",
      "nt you can rent beach / beach-pool / pool cabanas which come with some snacks \n",
      " , grab something in the deli at the pool or get a ride over to the farmlands \n",
      "g is beautiful . you may swim in the pool or in the lagoon . there is an equip\n",
      " snorkeling , paddle boarding , tide pool exploring and watching the turtles !\n",
      "softer side and felt a little worn . pool was out of service for half our stay\n",
      " rooms havebalconies overlooking the pool and harbor . the japanese gardens ar\n",
      "ach , a nesting turtles area . great pool , with lots of chaise lounges . fant\n",
      " showers ... .one with a tub . large pool with lots of kids running around ...\n",
      "ounger daughter especially loved the pool and water slide . we all enjoyed the\n",
      "d area of lounge chairs right by the pool . every staff member we encountered \n",
      "ng housekeeping for service . 4. the pool was under renovation . fortunatly , \n",
      "d did n't have time to check out the pool or the tide pool area , but it looke\n",
      "me to check out the pool or the tide pool area , but it looked gorgeous.howeve\n",
      "t the front desk . we discovered the pool was closed ; very bad news for my si\n",
      " to using it . we were told that the pool was closed for regular maintenance b\n",
      "oom was clean and had a balcony with pool view . the staff was friendly and he\n",
      "ncredible sunset dinner . all of the pool staff and waitresses who served us a\n",
      " waitresses who served us around the pool were very friendly . all of the vale\n",
      "vice and taste ) at the brown at the pool bar and breakfast ran out of mint on\n",
      "cancelled . no drinks service by the pool on 7/2 drink service closed at 4 on \n",
      " 'm returning from a long day at the pool or beach , my room still is n't clea\n"
     ]
    }
   ],
   "source": [
    "concord(text,'pool')"
   ]
  },
  {
   "cell_type": "markdown",
   "metadata": {},
   "source": [
    "For example, if we explore the word \"pool\" we can see more context around reviewers' experience with the resort's pool: \n",
    "\n",
    "* **\"lovely *pool*, great waterview from many rooms\"**\n",
    "* **\"*pool* was out of service for half our stay\"**\n",
    "* **\"loved the *pool* and water slide\"**\n",
    "\n",
    "Remember, we are using the full, unfiltered data set so these comments would probably be more helpful if we narrowed our data to a specific resort and/or time span."
   ]
  },
  {
   "cell_type": "markdown",
   "metadata": {},
   "source": [
    "## ...but what about just the reviews for, say, the Hilton Waikoloa?"
   ]
  },
  {
   "cell_type": "markdown",
   "metadata": {},
   "source": [
    "Remember, we are looking at the full set of reviews we scraped from TA. In a real world environment, an operations manager would probably be mostly concerned with their own resort's reviews. Being one of the larger resorts on Hawai'i Island, the Hilton Waikoloa also has several thousand reviews we can examine (~7,000 over our 14 year time period)."
   ]
  },
  {
   "cell_type": "code",
   "execution_count": 254,
   "metadata": {},
   "outputs": [
    {
     "data": {
      "image/png": "[encoded data removed]",
      "text/plain": [
       "<matplotlib.figure.Figure at 0x234f6a34b70>"
      ]
     },
     "metadata": {},
     "output_type": "display_data"
    }
   ],
   "source": [
    "hilton_reviews = data_filter(df, hotel='Hilton Waikoloa Village')\n",
    "hilton_tags = np_preprocess(hilton_reviews)\n",
    "\n",
    "hilton_nouns = []\n",
    "for tag in hilton_tags:\n",
    "    for np in tag:\n",
    "        if np[1] in ['NN','NNP','NNS','NNPS']: #This covers all noun types, normal, proper, and plural\n",
    "            hilton_nouns.append(np)\n",
    "\n",
    "plt.figure(figsize=(15,8))\n",
    "nltk.FreqDist(nouns).plot(50)"
   ]
  },
  {
   "cell_type": "markdown",
   "metadata": {},
   "source": [
    "Hilton also receives mostly positive reviews:"
   ]
  },
  {
   "cell_type": "code",
   "execution_count": 61,
   "metadata": {},
   "outputs": [
    {
     "data": {
      "text/plain": [
       "<matplotlib.axes._subplots.AxesSubplot at 0x234f9a95ac8>"
      ]
     },
     "execution_count": 61,
     "metadata": {},
     "output_type": "execute_result"
    },
    {
     "data": {
      "image/png": "[encoded data removed]",
      "text/plain": [
       "<matplotlib.figure.Figure at 0x234f9c1aa58>"
      ]
     },
     "metadata": {},
     "output_type": "display_data"
    }
   ],
   "source": [
    "hilton_reviews['bubbles'].value_counts().plot(kind='bar', figsize=(15,8), title='Hilton Waikoloa Bubble Rating Counts')"
   ]
  },
  {
   "cell_type": "markdown",
   "metadata": {},
   "source": [
    "As we did earlier, let's look at nouns that are mentioned most often and dive deeper into sentiments surrounding each. For this example we'll use \"lagoon\" (the hotel sits on a lagoon guests can use for water activities), \"food,\" \"pool,\" \"staff,\" and \"tram\" (because of the hotel's size, a passenger tram operates all day to shuttle guests from one end to the other). Both \"lagoon\" and \"tram\" may be interesting to look at since they are unique to the Hilton."
   ]
  },
  {
   "cell_type": "code",
   "execution_count": 26,
   "metadata": {},
   "outputs": [
    {
     "data": {
      "text/plain": [
       "{'food': 0.8752086250000046,\n",
       " 'lagoon': 0.897359282700419,\n",
       " 'pool': 0.8790398362044726,\n",
       " 'staff': 0.8779128159068393,\n",
       " 'tram': 0.8341158182583088}"
      ]
     },
     "execution_count": 26,
     "metadata": {},
     "output_type": "execute_result"
    }
   ],
   "source": [
    "hilton_features = {'lagoon': '','food': '','pool': '','staff': '','tram': ''}\n",
    "for feature in hilton_features.keys():\n",
    "    hilton_features[feature] = feature_sentiments(feature)    \n",
    "hilton_features"
   ]
  },
  {
   "cell_type": "markdown",
   "metadata": {},
   "source": [
    "Like we saw before when looking at all reviews, nouns with the most mentions tend to be in a positive context. This time, rather than cherry-picking let's review *all* the extracted nouns (that were mentioned more than, say, 100 times) to find which ones are also associated mostly with negative sentiments. This gives us **~300** nouns to review."
   ]
  },
  {
   "cell_type": "code",
   "execution_count": 255,
   "metadata": {},
   "outputs": [],
   "source": [
    "#hilton_nouns = [e for e in Counter(word[0] for word in hilton_nouns).most_common() if e[1] > 100]\n",
    "#all_hilton_features = dict([(noun, '') for noun,value in hilton_nouns])\n",
    "#for feature in all_hilton_features.keys():\n",
    "#    all_hilton_features[feature] = feature_sentiments(feature)\n",
    "    \n",
    "#with open('hilton_sentiments.pkl', \"wb\") as file:\n",
    "#    pickle.dump(all_hilton_features, file , protocol=0)\n",
    "    \n",
    "with open('hilton_sentiments.pkl', \"rb\") as file:\n",
    "    all_hilton_features = pickle.load(file)"
   ]
  },
  {
   "cell_type": "code",
   "execution_count": 256,
   "metadata": {},
   "outputs": [
    {
     "data": {
      "text/plain": [
       "[('kpc', 0.9846999999999999),\n",
       " ('beauty', 0.9616323795180725),\n",
       " ('sunsets', 0.9556821953327582),\n",
       " ('kamuela', 0.9551333333333334),\n",
       " ('paradise', 0.9522188957055223),\n",
       " ('turtle', 0.9501894970028621),\n",
       " ('snacks', 0.9496271296296291),\n",
       " ('turtles', 0.9496055620267869),\n",
       " ('waterfall', 0.9485358578052562),\n",
       " ('relaxing', 0.9474079110462968),\n",
       " ('waterfalls', 0.9471340987370828),\n",
       " ('sunset', 0.9449916854565938),\n",
       " ('kayaks', 0.944482967032966),\n",
       " ('sandwiches', 0.9444177130044843),\n",
       " ('disneyland', 0.943988888888889),\n",
       " ('snorkeling', 0.9430844875346237),\n",
       " ('artwork', 0.9430691642651289),\n",
       " ('sushi', 0.942972727272726),\n",
       " ('helicopter', 0.9421220956719824),\n",
       " ('plenty', 0.9415980383609387),\n",
       " ('fish', 0.9411071199999982),\n",
       " ('sports', 0.9411032183908045),\n",
       " ('snorkel', 0.9410297445568262),\n",
       " ('toys', 0.9407307971014494),\n",
       " ('variety', 0.9404064957264955),\n",
       " ('statues', 0.9392034188034187),\n",
       " ('grocery', 0.9385623414634143),\n",
       " ('whales', 0.9371855799373039),\n",
       " ('highlight', 0.9367389984825497),\n",
       " ('advantage', 0.9364494773519173),\n",
       " ('beaches', 0.9363409110259678),\n",
       " ('palm', 0.9362371575342461),\n",
       " ('opportunity', 0.9360126086956516),\n",
       " ('entertainment', 0.9349081081081073),\n",
       " ('burgers', 0.9345650349650353),\n",
       " ('costco', 0.933882926829268),\n",
       " ('rentals', 0.9336821656050944),\n",
       " ('lava', 0.9334543999999998),\n",
       " ('scenery', 0.9334164009111621),\n",
       " ('paths', 0.932919886363636),\n",
       " ('orchid', 0.9322078534031413),\n",
       " ('massage', 0.9315103785103792),\n",
       " ('style', 0.9311972245584523),\n",
       " ('sun', 0.9301489419795183),\n",
       " ('gear', 0.9288994758909849),\n",
       " ('moment', 0.9284783715012717),\n",
       " ('slides', 0.927721333333333),\n",
       " ('tennis', 0.9275982716049379),\n",
       " ('–', 0.927056790123457),\n",
       " ('waves', 0.9268815312682644),\n",
       " ('gardens', 0.9266503225806454),\n",
       " ('selection', 0.9250496417604899),\n",
       " ('tips', 0.9227485523385298),\n",
       " ('lanai', 0.9226701391817775),\n",
       " ('equipment', 0.9224101344364007),\n",
       " ('fruit', 0.9222864554888031),\n",
       " ('pricey', 0.922165239154614),\n",
       " ('tubs', 0.9219856929955295),\n",
       " ('beautiful', 0.9212369788235293),\n",
       " ('sand', 0.9211365752285934),\n",
       " ('boards', 0.9211180107526872),\n",
       " ('landscaping', 0.9210006734006732),\n",
       " ('store', 0.9208969512195117),\n",
       " ('garden', 0.9203359471365621),\n",
       " ('destination', 0.9197643274853806),\n",
       " ('cabanas', 0.9196446351931323),\n",
       " ('thanks', 0.9188306122448986),\n",
       " ('couples', 0.9187151162790709),\n",
       " ('museum', 0.9179018181818184),\n",
       " ('exercise', 0.9176974160206713),\n",
       " ('slide', 0.9174689711934146),\n",
       " ('swimming', 0.9174594425087093),\n",
       " ('swim', 0.9173226776519013),\n",
       " ('reviewers', 0.9171675438596488),\n",
       " ('court', 0.917035890410957),\n",
       " ('stores', 0.9169966532797857),\n",
       " ('waterslides', 0.9161192090395485),\n",
       " ('shops', 0.9159732756046586),\n",
       " ('marketplace', 0.9158986301369861),\n",
       " ('rocks', 0.9157063583815032),\n",
       " ('meals', 0.915124675324676),\n",
       " ('rides', 0.9148537444933916),\n",
       " ('golf', 0.9145876175040502),\n",
       " ('class', 0.914362936610608),\n",
       " ('everyone', 0.9139562739726015),\n",
       " ('alot', 0.9132406130268201),\n",
       " ('eels', 0.9131875560538122),\n",
       " ('tours', 0.9130603469640647),\n",
       " ('trees', 0.9128851678376256),\n",
       " ('weather', 0.9126393125671323),\n",
       " ('downside', 0.912579229480737),\n",
       " ('club', 0.912029371316305),\n",
       " ('seating', 0.9118720478325855),\n",
       " ('market', 0.9118467196819082),\n",
       " ('course', 0.9114850501367351),\n",
       " ('value', 0.9114464949928476),\n",
       " ('grounds', 0.911205835041785),\n",
       " ('activities', 0.911138811630844),\n",
       " ('lots', 0.910871170568559),\n",
       " ('bay', 0.9104321212121208),\n",
       " ('collection', 0.9101980099502497),\n",
       " ('board', 0.9099739833414977),\n",
       " ('coast', 0.909481221374046),\n",
       " ('center', 0.9092553608247425),\n",
       " ('help', 0.9088958163858183),\n",
       " ('lounge', 0.908745849462364),\n",
       " ('anniversary', 0.9074408658922919),\n",
       " ('music', 0.9070687596899228),\n",
       " ('thank', 0.9069638275499482),\n",
       " ('wine', 0.906579330254042),\n",
       " ('shop', 0.9065557234816625),\n",
       " ('shopping', 0.9063122281752273),\n",
       " ('walkways', 0.9061712177121776),\n",
       " ('spa', 0.9061177370905387),\n",
       " ('burger', 0.9060216171617161),\n",
       " ('wow', 0.9060108949416344),\n",
       " ('dolphins', 0.9059868861929502),\n",
       " ('rental', 0.9058055059523794),\n",
       " ('aloha', 0.9056671902268761),\n",
       " ('trips', 0.9056190476190477),\n",
       " ('cabana', 0.9055193910256426),\n",
       " ('gym', 0.9055180708180696),\n",
       " ('volcano', 0.905517296340023),\n",
       " ('lunch', 0.9052433209647478),\n",
       " ('rock', 0.9050847566182748),\n",
       " ('friends', 0.9041742081447964),\n",
       " ('spot', 0.9039466902654838),\n",
       " ('ground', 0.9033269496681331),\n",
       " ('setting', 0.9033124505928837),\n",
       " ('dinner', 0.9031257477243168),\n",
       " ('cereal', 0.9028712401055409),\n",
       " ('lagoons', 0.9020727848101262),\n",
       " ('walks', 0.9020001988071573),\n",
       " ('imari', 0.9019270833333334),\n",
       " ('buffet', 0.9017053527481514),\n",
       " ('provision', 0.901684),\n",
       " ('families', 0.9014101704233066),\n",
       " ('hike', 0.9009564963503653),\n",
       " ('island', 0.9008907679395632),\n",
       " ('surprise', 0.8999914738124241),\n",
       " ('drinks', 0.8999757650369304),\n",
       " ('restaurants', 0.8995648359240015),\n",
       " ('resorts', 0.8989288112522665),\n",
       " ('drive', 0.898880676442761),\n",
       " ('adult', 0.8988059564164639),\n",
       " ('islands', 0.898602011173186),\n",
       " ('concierge', 0.8985285792951535),\n",
       " ('life', 0.8984119245701597),\n",
       " ('afternoon', 0.8982439090909083),\n",
       " ('walkway', 0.8980524590163949),\n",
       " ('beach', 0.8980166104608954),\n",
       " ('entrance', 0.8980089163237319),\n",
       " ('sofa', 0.8978687817258887),\n",
       " ('pools', 0.8975881597494089),\n",
       " ('lagoon', 0.897359282700419),\n",
       " ('ways', 0.8969555999999945),\n",
       " ('sea', 0.8966288180847247),\n",
       " ('adults', 0.8963493174061438),\n",
       " ('activity', 0.8962105343511456),\n",
       " ('evening', 0.8961213503649644),\n",
       " ('dolphin', 0.8960796136457027),\n",
       " ('closet', 0.8959314285714283),\n",
       " ('visit', 0.8956961888111812),\n",
       " ('areas', 0.895607109190889),\n",
       " ('meal', 0.8955581164383557),\n",
       " ('etc', 0.8951994811932542),\n",
       " ('space', 0.8951804674457422),\n",
       " ('chairs', 0.8950317311167306),\n",
       " ('luau', 0.8946271990018714),\n",
       " ('kohala', 0.8943416666666669),\n",
       " ('’', 0.893670890052356),\n",
       " ('size', 0.8931904389248009),\n",
       " ('locations', 0.8930552083333338),\n",
       " ('land', 0.89291636771301),\n",
       " ('grill', 0.8929144752714107),\n",
       " ('opinion', 0.8928657467532468),\n",
       " ('station', 0.8925775444264948),\n",
       " ('views', 0.8925551101591137),\n",
       " ('shuttle', 0.8922686551543709),\n",
       " ('road', 0.8920031077694235),\n",
       " ('breakfast', 0.8919264049764011),\n",
       " ('vacations', 0.8919141732283463),\n",
       " ('spots', 0.8918757121439285),\n",
       " ('dining', 0.8916089776632297),\n",
       " ('cafe', 0.8913405646359586),\n",
       " ('ocean', 0.8910344879518171),\n",
       " ('distance', 0.8908166721044019),\n",
       " ('airport', 0.8906059676750933),\n",
       " ('eat', 0.8905764038010695),\n",
       " ('drink', 0.8904880565862701),\n",
       " ('fun', 0.8899176002196585),\n",
       " ('tour', 0.8898766510812365),\n",
       " ('section', 0.8897688016528928),\n",
       " ('ages', 0.8896405599999995),\n",
       " ('locals', 0.8895352165725048),\n",
       " ('kids', 0.8887381170589433),\n",
       " ('options', 0.8886469947735195),\n",
       " ('places', 0.8886048814025426),\n",
       " ('kona', 0.8883178977272723),\n",
       " ('table', 0.8880585068888106),\n",
       " ('village', 0.8879013651877123),\n",
       " ('items', 0.8873703846153841),\n",
       " ('decor', 0.8862535103244839),\n",
       " ('coupons', 0.8862109090909093),\n",
       " ('fridge', 0.885880011968881),\n",
       " ('complex', 0.8858392386530014),\n",
       " ('beer', 0.8857559502664292),\n",
       " ('ride', 0.8857291413116963),\n",
       " ('miles', 0.8856469604863224),\n",
       " ('balcony', 0.8854788052843198),\n",
       " ('package', 0.8853597320724981),\n",
       " ('bit', 0.885293369963366),\n",
       " ('couple', 0.8847549741230589),\n",
       " ('chair', 0.8844979387514698),\n",
       " ('family', 0.8842176373056964),\n",
       " ('home', 0.8841010204081623),\n",
       " ('hilo', 0.8840846153846152),\n",
       " ('water', 0.8833357701739991),\n",
       " ('suite', 0.8833081364829382),\n",
       " ('right', 0.8829475617283917),\n",
       " ('kid', 0.8828104821802896),\n",
       " ('experiences', 0.8826481557377053),\n",
       " ('choices', 0.882176459510358),\n",
       " ('option', 0.8820495697602933),\n",
       " ('trip', 0.8820113551325799),\n",
       " ('shade', 0.8819396614268444),\n",
       " ('amenities', 0.8819276626681204),\n",
       " ('kea', 0.8818110236220472),\n",
       " ('patio', 0.8818029567053857),\n",
       " ('acres', 0.8815128440366966),\n",
       " ('hawaii', 0.8813856492027332),\n",
       " ('town', 0.8813763410502529),\n",
       " ('mile', 0.8812959131075117),\n",
       " ('tons', 0.8806035234899331),\n",
       " ('deal', 0.8803848755109638),\n",
       " ('restaurant', 0.8802988152166226),\n",
       " ('name', 0.8801444213444225),\n",
       " ('boats', 0.8799263322884014),\n",
       " ('world', 0.8798558994197295),\n",
       " ('daughter', 0.8794753177966101),\n",
       " ('“', 0.8794349593495938),\n",
       " ('feeling', 0.8794275027502751),\n",
       " ('access', 0.8791186894015345),\n",
       " ('idea', 0.8790662555066078),\n",
       " ('pool', 0.8790398362044726),\n",
       " ('pizza', 0.8787141233766244),\n",
       " ('area', 0.8786547392905598),\n",
       " ('coffee', 0.8785879357231142),\n",
       " ('chance', 0.8783044799999998),\n",
       " ('stuff', 0.8782598784194539),\n",
       " ('feel', 0.878255814873412),\n",
       " ('holiday', 0.8781662354463123),\n",
       " ('job', 0.8781540913006036),\n",
       " ('stars', 0.8780073951434896),\n",
       " ('staff', 0.8779128159068393),\n",
       " ('boat', 0.8777065950462519),\n",
       " ('site', 0.8777057517658885),\n",
       " ('view', 0.8777015176567924),\n",
       " ('tub', 0.8776711578947349),\n",
       " ('folks', 0.8776635379061366),\n",
       " ('program', 0.8776175847457632),\n",
       " ('”', 0.8776066666666669),\n",
       " ('honeymoon', 0.8775819532908709),\n",
       " ('ones', 0.8774579032258037),\n",
       " ('wedding', 0.8774001066098086),\n",
       " ('river', 0.8770121126760567),\n",
       " ('kind', 0.876968785620342),\n",
       " ('server', 0.8769656069364172),\n",
       " ('bottom', 0.87674892761394),\n",
       " ('refrigerator', 0.8765420882669536),\n",
       " ('morning', 0.8763291020486288),\n",
       " ('edge', 0.8759689178193647),\n",
       " ('walking', 0.8758295099978008),\n",
       " ('trams', 0.8757123076923072),\n",
       " ('food', 0.8752086250000046),\n",
       " ('bottle', 0.8749710193765807),\n",
       " ('season', 0.8748283163265309),\n",
       " ('rest', 0.8748055545482109),\n",
       " ('husband', 0.8746887396694205),\n",
       " ('end', 0.8745191610396905),\n",
       " ('discount', 0.8744463705308783),\n",
       " ('weekend', 0.8743071186440681),\n",
       " ('walk', 0.8742027606310027),\n",
       " ('while', 0.8740145116918833),\n",
       " ('path', 0.8735170254403128),\n",
       " ('rates', 0.8732792372881364),\n",
       " ('location', 0.8731143825719613),\n",
       " ('week', 0.8727729662317705),\n",
       " ('prices', 0.8722672353236312),\n",
       " ('transportation', 0.8721619834710743),\n",
       " ('queen', 0.8721101748807634),\n",
       " ('questions', 0.8719992000000001),\n",
       " ('everything', 0.8718395511004552),\n",
       " ('tip', 0.871546666666666),\n",
       " ('children', 0.8712602459016384),\n",
       " ('queens', 0.8708524691358024),\n",
       " ('points', 0.8703480392156863),\n",
       " ('honors', 0.8698466666666664),\n",
       " ('plan', 0.8697849015317277),\n",
       " ('note', 0.869772653061225),\n",
       " ('facilities', 0.8695418940609945),\n",
       " ('encounter', 0.8690803680981596),\n",
       " ('resort', 0.8689660740098353),\n",
       " ('type', 0.8688679169992004),\n",
       " ('street', 0.8686054335894623),\n",
       " ('vacation', 0.8685003817704597),\n",
       " ('choice', 0.8684805533596814),\n",
       " ('menu', 0.8680925547445261),\n",
       " ('lot', 0.8676230921128991),\n",
       " ('sort', 0.8675630244870999),\n",
       " ('share', 0.8670609241300627),\n",
       " ('condo', 0.8667236524537423),\n",
       " ('bars', 0.8667201541850214),\n",
       " ('mall', 0.86591469698961),\n",
       " ('child', 0.865906249999999),\n",
       " ('shoes', 0.8656182058047497),\n",
       " ('nights', 0.8656099001070244),\n",
       " ('pass', 0.8651245666917841),\n",
       " ('timeshare', 0.8635641566265049),\n",
       " ('vouchers', 0.8625326923076926),\n",
       " ('feet', 0.8624203804347822),\n",
       " ('self', 0.8622368894890825),\n",
       " ('property', 0.8621834396529698),\n",
       " ('side', 0.8620827261037324),\n",
       " ('rate', 0.8619991355406879),\n",
       " ('upgrade', 0.8618163908835462),\n",
       " ('bar', 0.861747675906177),\n",
       " ('cats', 0.8617346820809256),\n",
       " ('fee', 0.8614866678710146),\n",
       " ('lobby', 0.8614120563928048),\n",
       " ('canal', 0.8612404347826087),\n",
       " ('reviews', 0.8604464487489918),\n",
       " ('seasons', 0.860311946902655),\n",
       " ('valet', 0.8601604462474641),\n",
       " ('top', 0.8601286584039978),\n",
       " ('things', 0.8600655153046882),\n",
       " ('expectations', 0.8596607948442535),\n",
       " ('budget', 0.8595239751552805),\n",
       " ('way', 0.8591208312504502),\n",
       " ('animals', 0.8585905882352939),\n",
       " ('part', 0.8584050454227743),\n",
       " ('look', 0.8583848047083936),\n",
       " ('review', 0.8580938507314638),\n",
       " ('place', 0.8577884599185757),\n",
       " ('taxi', 0.856922554347826),\n",
       " ('birds', 0.8567632930513601),\n",
       " ('mind', 0.8567263533610944),\n",
       " ('art', 0.8566663922840302),\n",
       " ('others', 0.8566568883610457),\n",
       " ('parents', 0.856583816425121),\n",
       " ('services', 0.856096726862303),\n",
       " ('travel', 0.8560767325428188),\n",
       " ('member', 0.8559089241622574),\n",
       " ('days', 0.8558280098280066),\n",
       " ('son', 0.8555624688414332),\n",
       " ('reason', 0.8551929741650894),\n",
       " ('buildings', 0.855123280423281),\n",
       " ('beds', 0.8546718485974981),\n",
       " ('glass', 0.8546252289758542),\n",
       " ('parts', 0.8545110864745009),\n",
       " ('wife', 0.8544952881976208),\n",
       " ('%', 0.8540651260504202),\n",
       " ('experience', 0.8537489766549354),\n",
       " ('towers', 0.8534080327868856),\n",
       " ('bird', 0.852764666217128),\n",
       " ('air', 0.8521253712237623),\n",
       " ('mini', 0.8516847480106099),\n",
       " ('properties', 0.8516392065344218),\n",
       " ('time', 0.8512555016733853),\n",
       " ('min', 0.8511605832003536),\n",
       " ('stay', 0.8504188697081871),\n",
       " ('day', 0.8501931924568737),\n",
       " ('facility', 0.8496250749250747),\n",
       " ('level', 0.8486733505821472),\n",
       " ('times', 0.8486322538860089),\n",
       " ('attention', 0.8484026162790691),\n",
       " ('house', 0.8482788646911831),\n",
       " ('monorail', 0.8470316363636361),\n",
       " ('ice', 0.8468293021556544),\n",
       " ('minute', 0.8467345074298268),\n",
       " ('hotels', 0.845530484729616),\n",
       " ('price', 0.8451428010324231),\n",
       " ('group', 0.8446560469314075),\n",
       " ('bed', 0.8446541876649831),\n",
       " ('rooms', 0.8446497210494579),\n",
       " ('addition', 0.8442983128834348),\n",
       " ('doors', 0.8440929347826086),\n",
       " ('cantina', 0.8440810344827585),\n",
       " ('floor', 0.8436835009629754),\n",
       " ('service', 0.8435833755749537),\n",
       " ('hand', 0.8435108882521487),\n",
       " ('presentation', 0.8430733780760621),\n",
       " ('fact', 0.8430716080401996),\n",
       " ('pictures', 0.8429890410958903),\n",
       " ('head', 0.8429194903256242),\n",
       " ('reservations', 0.8425603535353539),\n",
       " ('makai', 0.842444827586207),\n",
       " ('building', 0.8422692307692288),\n",
       " ('kings', 0.8410509433962262),\n",
       " ('year', 0.8406374776208466),\n",
       " ('ate', 0.8405177835260003),\n",
       " ('person', 0.840504186893201),\n",
       " ('members', 0.8403973739495789),\n",
       " ('tables', 0.840268113975577),\n",
       " ('arrival', 0.8384760869565218),\n",
       " ('conference', 0.8383800298062605),\n",
       " ('man', 0.8382997708241517),\n",
       " ('king', 0.8379318612655622),\n",
       " ('flight', 0.8375168445121949),\n",
       " ('disney', 0.8374470588235295),\n",
       " ('night', 0.8364090798162549),\n",
       " ('maui', 0.8362390243902438),\n",
       " ('door', 0.8356768859733714),\n",
       " ('stop', 0.83565334143378),\n",
       " ('mins', 0.8354588822355287),\n",
       " ('gold', 0.8353631249999994),\n",
       " ('hotel', 0.8352635446495525),\n",
       " ('check-in', 0.834749829351536),\n",
       " ('tram', 0.8341158182583088),\n",
       " ('park', 0.8339504820218813),\n",
       " ('towels', 0.8339392994446807),\n",
       " ('thing', 0.8337799449035862),\n",
       " ('machine', 0.8335305774278214),\n",
       " ('star', 0.8329064459591016),\n",
       " ('tv', 0.8323562862669238),\n",
       " ('use', 0.8320830375450805),\n",
       " ('pieces', 0.8319256281407037),\n",
       " ('shower', 0.8316899536768947),\n",
       " ('complaint', 0.8314529211571197),\n",
       " ('tower', 0.8313473939393939),\n",
       " ('room', 0.8306826205071215),\n",
       " ('cost', 0.8304643232323208),\n",
       " ('people', 0.8298191565403812),\n",
       " ('one', 0.8297262053789805),\n",
       " ('show', 0.8293753050446144),\n",
       " ('number', 0.8292805970149243),\n",
       " ('towel', 0.8291673569673534),\n",
       " ('work', 0.8290959742647038),\n",
       " ('need', 0.8290371509367221),\n",
       " ('costs', 0.8284149228130367),\n",
       " ('front', 0.8282771224643055),\n",
       " ('bathroom', 0.8282078994974872),\n",
       " ('guests', 0.8281979509469108),\n",
       " ('example', 0.8278935483870967),\n",
       " ('s', 0.8274708305761947),\n",
       " ('i', 0.8274707633868514),\n",
       " ('t', 0.8274604337703827),\n",
       " ('something', 0.8269418000865401),\n",
       " ('minutes', 0.8263622950819646),\n",
       " ('amount', 0.8261734806629826),\n",
       " ('pm', 0.8253376376376365),\n",
       " ('none', 0.8251050393700783),\n",
       " ('housekeeping', 0.8246883606557384),\n",
       " ('book', 0.8236183705140614),\n",
       " ('microwave', 0.8233499999999992),\n",
       " ('parking', 0.8229960753803556),\n",
       " ('line', 0.8229859131859097),\n",
       " ('age', 0.8229813356018741),\n",
       " ('hour', 0.8229727983444454),\n",
       " ('wifi', 0.8208660929432001),\n",
       " ('palace', 0.8206029850746266),\n",
       " ('middle', 0.8203679871520347),\n",
       " ('car', 0.8192778679534944),\n",
       " ('quest', 0.8185175187701093),\n",
       " ('order', 0.8180392555831265),\n",
       " ('state', 0.8173900770712916),\n",
       " ('guest', 0.817176715858515),\n",
       " ('wait', 0.8171316455696197),\n",
       " ('weeks', 0.8160178619756436),\n",
       " ('hilton', 0.8155190721649481),\n",
       " ('years', 0.8153483754512605),\n",
       " ('mauna', 0.8144364864864864),\n",
       " ('company', 0.8142301851851862),\n",
       " ('waikoloa', 0.8136010989010989),\n",
       " ('case', 0.8131433981576249),\n",
       " ('hours', 0.812526150537634),\n",
       " ('average', 0.8114376933895917),\n",
       " ('business', 0.8114276630883576),\n",
       " ('luggage', 0.8113600000000004),\n",
       " ('lack', 0.8105258266309195),\n",
       " ('care', 0.8102164301075262),\n",
       " ('convention', 0.8100190769230768),\n",
       " ('quality', 0.8097070911722146),\n",
       " ('internet', 0.8097007032348807),\n",
       " ('train', 0.8083884277733441),\n",
       " ('complaints', 0.8083315642458095),\n",
       " ('matter', 0.8066212076583211),\n",
       " ('issues', 0.8056400406504056),\n",
       " ('anyone', 0.8055173503698725),\n",
       " ('issue', 0.804839556962025),\n",
       " ('diamond', 0.8031053097345136),\n",
       " ('guy', 0.8029372252747264),\n",
       " ('half', 0.8028991999999998),\n",
       " ('anything', 0.802889884526558),\n",
       " ('fees', 0.8021736176935228),\n",
       " ('needs', 0.8005278361925838),\n",
       " ('guess', 0.8003558645707373),\n",
       " ('reception', 0.7996388152077827),\n",
       " ('furniture', 0.7974054655870451),\n",
       " ('cup', 0.7969192449355432),\n",
       " ('reservation', 0.7967171012734994),\n",
       " ('cream', 0.7966514044943818),\n",
       " ('stairs', 0.7962092783505159),\n",
       " ('money', 0.7920250189825359),\n",
       " ('toilet', 0.7915745299145304),\n",
       " ('trains', 0.7910522935779813),\n",
       " ('check', 0.7905324558779466),\n",
       " ('website', 0.7888371200000006),\n",
       " ('construction', 0.7885227805695137),\n",
       " ('hapuna', 0.7883222222222221),\n",
       " ('noise', 0.7882163184641443),\n",
       " ('key', 0.7854514745308313),\n",
       " ('card', 0.7848339317773797),\n",
       " ('advance', 0.7839668686868694),\n",
       " ('employees', 0.7776377777777788),\n",
       " ('point', 0.7775831789370993),\n",
       " ('bill', 0.7746799721835882),\n",
       " ('bags', 0.7733014492753615),\n",
       " ('nothing', 0.7725974789915944),\n",
       " ('desk', 0.7720150309118998),\n",
       " ('marriott', 0.7652394366197184),\n",
       " ('call', 0.7622996421805904),\n",
       " ('lady', 0.762280322003578),\n",
       " ('system', 0.7581634974533102),\n",
       " ('someone', 0.7557271936758897),\n",
       " ('elevators', 0.7556726213592228),\n",
       " ('problem', 0.752245359749739),\n",
       " ('dollars', 0.7500187628865976),\n",
       " ('charges', 0.745355054151624),\n",
       " ('elevator', 0.7442853127833187),\n",
       " ('credit', 0.7430318098720295),\n",
       " ('charge', 0.7429320871261352),\n",
       " ('months', 0.7375674242424246),\n",
       " ('phone', 0.7284410839160835),\n",
       " ('customer', 0.7232550135501356),\n",
       " ('maintenance', 0.7089880208333326),\n",
       " ('security', 0.6994158273381298),\n",
       " ('problems', 0.6947737913486008),\n",
       " ('management', 0.6855895573212275),\n",
       " ('manager', 0.6610503626107972),\n",
       " ('hhonors', 0.66105),\n",
       " ('carpet', 0.6592601834862388),\n",
       " ('disappointment', 0.6378877159309019),\n",
       " ('smell', 0.6363884853168474),\n",
       " ('oahu', 0.5343600000000001),\n",
       " ('kirin', -0.5719)]"
      ]
     },
     "execution_count": 256,
     "metadata": {},
     "output_type": "execute_result"
    }
   ],
   "source": [
    "sorted(all_hilton_features.items(), key=lambda x: x[1], reverse=True)"
   ]
  },
  {
   "cell_type": "code",
   "execution_count": null,
   "metadata": {},
   "outputs": [],
   "source": []
  },
  {
   "cell_type": "markdown",
   "metadata": {},
   "source": [
    "## Scattertext Visualizer"
   ]
  },
  {
   "cell_type": "markdown",
   "metadata": {},
   "source": [
    "As with most pursuits in data exploration, visualization is a helpful tool. NLP is no different. In our exploration of TA reviews we might be interested in what words or phrases best differentiate between positive and negative reviews. For this task we'll look at the bubble ratings reviewers left and define positive reviews as 5 out of 5 bubbles and negative reviews as 1 out of 5 bubbles. We chose this dichotomy since experience in market research shows that people tend to give ratings closer to the middle of a scale unless they feel very strongly one way or the other. Again, the end user may want to use different thresholds.\n",
    "\n",
    "Scattertext is an open-source library for Python for visualizing how word usage differs between two groups. The process uses a modified version of F-Score calculation (i.e. the harmonic mean of precision and frequency) called \"Scaled F-Score\" to partition words by groups (you can read more about it and the Scattertext package [here](https://github.com/JasonKessler/scattertext)."
   ]
  },
  {
   "cell_type": "code",
   "execution_count": 18,
   "metadata": {
    "collapsed": true
   },
   "outputs": [],
   "source": [
    "neg = data_filter(df, high_bub=1)\n",
    "pos = data_filter(df, low_bub=5)\n",
    "\n",
    "scatter_reviews = pd.concat([pos,neg])\n",
    "scatter_reviews['bubbles'] = scatter_reviews.bubbles.astype(str)\n",
    "\n",
    "spacy_corpus = spacy.en.English()\n",
    "scatter_corpus = st.CorpusFromPandas(scatter_reviews, \n",
    "                                     category_col='bubbles', \n",
    "                                     text_col='review', \n",
    "                                     nlp=spacy_corpus).build()"
   ]
  },
  {
   "cell_type": "markdown",
   "metadata": {},
   "source": [
    "The code above divides our reviews into groups for 1 bubble and 5 bubbles. Each set of reviews is parsed and compared by raw frequency within its category and its frequency across both categories. This effectively scores each word on how representative it is of a 1 or 5 bubble review (again see the Scaled F-Score referenced in the link above).\n",
    "\n",
    "In the visualization below, each axis represents a review and each point a word. Words in the upper left represent words used more frequently by 5 bubble reviews while bottom right word are more frequently used by 1 bubble reviews. Words that appear in the middle could appear in either so they aren't as differentiating between groups. On the right, we are provided a list of the top words characteristic to each group and characteristic to the entire corpus of text (note: in the given code, words with fewer than 30 mentions are excluded).\n",
    "\n",
    "A quick review shows that the use of adjectives is really what sets these reviews apart. While not particularly helpful, the words in the \"Characteristic\" column can give a little more information on what exactly is \"superb\" or \"disgusting.\" This improves interpretability marginally, but clicking on a word within the visualization will create a list or reviews for each group containing that word. This makes it much easier to do a deeper exploration. Finally, a user can enter their own word to search for in the corpus to see how it is used by each group.  "
   ]
  },
  {
   "cell_type": "code",
   "execution_count": 34,
   "metadata": {},
   "outputs": [
    {
     "data": {
      "text/html": [
       "\n",
       "        <iframe\n",
       "            width=\"1300\"\n",
       "            height=\"900\"\n",
       "            src=\"posneg_scatter.html\"\n",
       "            frameborder=\"0\"\n",
       "            allowfullscreen\n",
       "        ></iframe>\n",
       "        "
      ],
      "text/plain": [
       "<IPython.lib.display.IFrame at 0x2a9a0a722e8>"
      ]
     },
     "execution_count": 34,
     "metadata": {},
     "output_type": "execute_result"
    }
   ],
   "source": [
    "html = st.produce_scattertext_explorer(scatter_corpus,\n",
    "                                       category='5',\n",
    "                                       category_name='5 of 5 bubbles',\n",
    "                                       not_category_name='1 of 5 bubbles',\n",
    "                                       minimum_term_frequency = 30,\n",
    "                                       save_svg_button=True)\n",
    "open(\"posneg_scatter.html\", 'wb').write(html.encode('utf-8'))\n",
    "IFrame('posneg_scatter.html', width=1300, height=900)"
   ]
  },
  {
   "cell_type": "markdown",
   "metadata": {
    "collapsed": true
   },
   "source": [
    "## Final Remarks"
   ]
  },
  {
   "cell_type": "markdown",
   "metadata": {},
   "source": [
    "In the body of NLP analytics, there are numerous paths one can take in their analysis. Additional applications could include:\n",
    "\n",
    "* Being the most popular travel review site online, TA is generating reviews 24/7 from around the world. Creating a data pipeline that regularly collects reviews for processing can be a part of an ongoing customer service effort for a single hotel, a hospitality holding company managing numerous properties, or even a tourism board tasked with keeping visitors' experiences memorable.\n",
    "\n",
    "* The Scattertext visualization also allows for the hotel name to be attached to each review. While the above code does not include this feature, in a real-world use case it would be imperative to know if a good/bad review was given for your hotel or a competitor's.\n",
    "\n",
    "* Businesses spend millions annually on market research projects that often provide little value for the cost. Focus groups are a mainstay of the corporate research body of methodologies and attempt to extract similar information. By using online reviews it may be possible to achieve the same level of insight for little to no cost, from thousands of reviewers, and on an ongoing basis."
   ]
  },
  {
   "cell_type": "markdown",
   "metadata": {},
   "source": [
    "## Citations"
   ]
  },
  {
   "cell_type": "markdown",
   "metadata": {},
   "source": [
    "Hutto, C.J. & Gilbert, E.E. (2014). VADER: A Parsimonious Rule-based Model for Sentiment Analysis of Social Media Text. Eighth International Conference on Weblogs and Social Media (ICWSM-14). Ann Arbor, MI, June 2014.\n",
    "\n",
    "Jason S. Kessler. Scattertext: a Browser-Based Tool for Visualizing how Corpora Differ. Proceedings of the 54th Annual Meeting of the Association for Computational Linguistics (ACL): System Demonstrations. 2017."
   ]
  }
 ],
 "metadata": {
  "kernelspec": {
   "display_name": "Python [conda root]",
   "language": "python",
   "name": "conda-root-py"
  },
  "language_info": {
   "codemirror_mode": {
    "name": "ipython",
    "version": 3
   },
   "file_extension": ".py",
   "mimetype": "text/x-python",
   "name": "python",
   "nbconvert_exporter": "python",
   "pygments_lexer": "ipython3",
   "version": "3.6.2"
  }
 },
 "nbformat": 4,
 "nbformat_minor": 2
}
