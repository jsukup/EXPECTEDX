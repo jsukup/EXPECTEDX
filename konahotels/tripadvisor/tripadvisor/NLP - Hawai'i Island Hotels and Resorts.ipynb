{
 "cells": [
  {
   "cell_type": "markdown",
   "metadata": {},
   "source": [
    "# KEEP SECTION"
   ]
  },
  {
   "cell_type": "code",
   "execution_count": 2,
   "metadata": {},
   "outputs": [],
   "source": [
    "import pandas as pd\n",
    "import numpy as np\n",
    "import matplotlib.pyplot as plt\n",
    "import seaborn as sns\n",
    "import nltk\n",
    "from itertools import chain\n",
    "%matplotlib inline"
   ]
  },
  {
   "cell_type": "code",
   "execution_count": null,
   "metadata": {
    "collapsed": true
   },
   "outputs": [],
   "source": [
    "import scrapy\n",
    "from tripadvisor.items import TripadvisorItem\n",
    "\n",
    "class TrSpider(scrapy.Spider):\n",
    "    name = 'trspider'\n",
    "    start_urls = [\n",
    "            'https://www.tripadvisor.com/Hotels-g29217-Island_of_Hawaii_Hawaii-Hotels.html'\n",
    "            ]\n",
    "\n",
    "    def parse(self, response):\n",
    "        for href in response.xpath('//div[@class=\"listing_title\"]/a/@href'):\n",
    "            url = response.urljoin(href.extract())\n",
    "            yield scrapy.Request(url, callback=self.parse_hotel)\n",
    "\n",
    "        next_page = response.xpath('//div[@class=\"unified pagination standard_pagination\"]/child::*[2][self::a]/@href')\n",
    "        if next_page:\n",
    "            url = response.urljoin(next_page[0].extract())\n",
    "            yield scrapy.Request(url, self.parse)\n",
    "\n",
    "    def parse_hotel(self, response):\n",
    "        for href in response.xpath('//div[starts-with(@class,\"quote\")]/a/@href'):\n",
    "            url = response.urljoin(href.extract())\n",
    "            yield scrapy.Request(url, callback=self.parse_review)\n",
    "\n",
    "\n",
    "        next_page = response.xpath('//link[@rel=\"next\"]/@href')\n",
    "        if next_page:\n",
    "            url = response.urljoin(next_page[0].extract())\n",
    "            yield scrapy.Request(url, self.parse_hotel)\n",
    "\n",
    "    def parse_review(self, response):\n",
    "        item = TripadvisorItem()\n",
    "        item['headline'] = response.xpath('translate(//div[@class=\"quote\"]/text(),\"!\",\" \")').extract()[0][1:-1]\n",
    "        item['review'] = response.xpath('translate(//div[@class=\"entry\"]/p,\"\\n\",\" \")').extract()[0]\n",
    "        item['bubbles'] = response.xpath('//span[contains(@class,\"ui_bubble_rating\")]/@alt').extract()[0]\n",
    "        item['date'] = response.xpath('normalize-space(//span[contains(@class,\"ratingDate\")]/@content)').extract()[0]\n",
    "        item['hotel'] = response.xpath('normalize-space(//span[@class=\"altHeadInline\"]/a/text())').extract()[0]\n",
    "        return item"
   ]
  },
  {
   "cell_type": "code",
   "execution_count": 3,
   "metadata": {},
   "outputs": [
    {
     "data": {
      "text/html": [
       "<div>\n",
       "<style>\n",
       "    .dataframe thead tr:only-child th {\n",
       "        text-align: right;\n",
       "    }\n",
       "\n",
       "    .dataframe thead th {\n",
       "        text-align: left;\n",
       "    }\n",
       "\n",
       "    .dataframe tbody tr th {\n",
       "        vertical-align: top;\n",
       "    }\n",
       "</style>\n",
       "<table border=\"1\" class=\"dataframe\">\n",
       "  <thead>\n",
       "    <tr style=\"text-align: right;\">\n",
       "      <th></th>\n",
       "      <th>bubbles</th>\n",
       "      <th>date</th>\n",
       "      <th>headline</th>\n",
       "      <th>hotel</th>\n",
       "      <th>review</th>\n",
       "      <th>rating</th>\n",
       "    </tr>\n",
       "  </thead>\n",
       "  <tbody>\n",
       "    <tr>\n",
       "      <th>0</th>\n",
       "      <td>5 of 5 bubbles</td>\n",
       "      <td>2017-07-19</td>\n",
       "      <td>Satisfied Beyond our expectations</td>\n",
       "      <td>Fairmont Orchid, Hawaii</td>\n",
       "      <td>From the moment we arrived at the Fairmont or...</td>\n",
       "      <td>1</td>\n",
       "    </tr>\n",
       "    <tr>\n",
       "      <th>1</th>\n",
       "      <td>5 of 5 bubbles</td>\n",
       "      <td>2017-07-19</td>\n",
       "      <td>Honeymoon at the Fairmont</td>\n",
       "      <td>Fairmont Orchid, Hawaii</td>\n",
       "      <td>We went there for our honeymoon and were wowe...</td>\n",
       "      <td>1</td>\n",
       "    </tr>\n",
       "    <tr>\n",
       "      <th>2</th>\n",
       "      <td>3 of 5 bubbles</td>\n",
       "      <td>2017-07-19</td>\n",
       "      <td>Travelguy</td>\n",
       "      <td>Fairmont Orchid, Hawaii</td>\n",
       "      <td>Hotel is in a lovely remote location and is a...</td>\n",
       "      <td>0</td>\n",
       "    </tr>\n",
       "    <tr>\n",
       "      <th>3</th>\n",
       "      <td>4 of 5 bubbles</td>\n",
       "      <td>2017-06-29</td>\n",
       "      <td>Met our expectations</td>\n",
       "      <td>Wyndham Mauna Loa Village</td>\n",
       "      <td>We stayed here for 7 nights, June 18-25, 2017...</td>\n",
       "      <td>0</td>\n",
       "    </tr>\n",
       "    <tr>\n",
       "      <th>4</th>\n",
       "      <td>5 of 5 bubbles</td>\n",
       "      <td>2017-06-27</td>\n",
       "      <td>Great hotel with amazing views</td>\n",
       "      <td>Fairmont Orchid, Hawaii</td>\n",
       "      <td>My husband and I stayed here at the beginning...</td>\n",
       "      <td>1</td>\n",
       "    </tr>\n",
       "  </tbody>\n",
       "</table>\n",
       "</div>"
      ],
      "text/plain": [
       "          bubbles       date                           headline  \\\n",
       "0  5 of 5 bubbles 2017-07-19  Satisfied Beyond our expectations   \n",
       "1  5 of 5 bubbles 2017-07-19          Honeymoon at the Fairmont   \n",
       "2  3 of 5 bubbles 2017-07-19                          Travelguy   \n",
       "3  4 of 5 bubbles 2017-06-29               Met our expectations   \n",
       "4  5 of 5 bubbles 2017-06-27    Great hotel with amazing views    \n",
       "\n",
       "                       hotel  \\\n",
       "0    Fairmont Orchid, Hawaii   \n",
       "1    Fairmont Orchid, Hawaii   \n",
       "2    Fairmont Orchid, Hawaii   \n",
       "3  Wyndham Mauna Loa Village   \n",
       "4    Fairmont Orchid, Hawaii   \n",
       "\n",
       "                                              review  rating  \n",
       "0   From the moment we arrived at the Fairmont or...       1  \n",
       "1   We went there for our honeymoon and were wowe...       1  \n",
       "2   Hotel is in a lovely remote location and is a...       0  \n",
       "3   We stayed here for 7 nights, June 18-25, 2017...       0  \n",
       "4   My husband and I stayed here at the beginning...       1  "
      ]
     },
     "execution_count": 3,
     "metadata": {},
     "output_type": "execute_result"
    }
   ],
   "source": [
    "df = pd.read_csv('bihotels.csv', dtype={'bubbles':'category','hotel':'category','review':'str'}, parse_dates=[1])\n",
    "df.dropna(inplace=True)\n",
    "df['rating'] = np.where((df['bubbles'] == '5 of 5 bubbles'), 1, 0)\n",
    "df = df.groupby('hotel').filter(lambda x: len(x) > 100)\n",
    "df['hotel'] = df['hotel'].cat.remove_unused_categories()\n",
    "df.head()"
   ]
  },
  {
   "cell_type": "code",
   "execution_count": 4,
   "metadata": {
    "collapsed": true
   },
   "outputs": [],
   "source": [
    "pos_df = df[df['rating'] == 1]\n",
    "pos_reviews = (pos_df['review']).tolist()"
   ]
  },
  {
   "cell_type": "code",
   "execution_count": null,
   "metadata": {
    "collapsed": true
   },
   "outputs": [],
   "source": []
  },
  {
   "cell_type": "code",
   "execution_count": null,
   "metadata": {
    "collapsed": true
   },
   "outputs": [],
   "source": []
  },
  {
   "cell_type": "markdown",
   "metadata": {},
   "source": [
    "# TEST SECTION"
   ]
  },
  {
   "cell_type": "code",
   "execution_count": 5,
   "metadata": {
    "collapsed": true
   },
   "outputs": [],
   "source": [
    "pos_df = df[df['bubbles'] == '5 of 5 bubbles']\n",
    "\n",
    "test = pos_df['review'][0:10000]"
   ]
  },
  {
   "cell_type": "code",
   "execution_count": 6,
   "metadata": {},
   "outputs": [],
   "source": [
    "stopwords = set(nltk.corpus.stopwords.words('english'))\n",
    "tokenizer = nltk.RegexpTokenizer(r'\\w+')\n",
    "token = test.apply(lambda x: tokenizer.tokenize(x.lower()))\n",
    "token = token.apply(lambda x: [word for word in x if word not in stopwords])\n",
    "token = list(chain.from_iterable(token))"
   ]
  },
  {
   "cell_type": "code",
   "execution_count": 7,
   "metadata": {},
   "outputs": [
    {
     "data": {
      "image/png": "[encoded data removed]",
      "text/plain": [
       "<matplotlib.figure.Figure at 0x25f601ef4a8>"
      ]
     },
     "metadata": {},
     "output_type": "display_data"
    }
   ],
   "source": [
    "plt.figure(figsize=(15,6))\n",
    "nltk.FreqDist(token).plot(50)"
   ]
  },
  {
   "cell_type": "code",
   "execution_count": null,
   "metadata": {
    "collapsed": true
   },
   "outputs": [],
   "source": []
  },
  {
   "cell_type": "code",
   "execution_count": null,
   "metadata": {},
   "outputs": [],
   "source": []
  },
  {
   "cell_type": "code",
   "execution_count": null,
   "metadata": {
    "collapsed": true
   },
   "outputs": [],
   "source": []
  },
  {
   "cell_type": "markdown",
   "metadata": {},
   "source": [
    "# OLD SNIPPETS"
   ]
  },
  {
   "cell_type": "code",
   "execution_count": null,
   "metadata": {
    "collapsed": true
   },
   "outputs": [],
   "source": []
  },
  {
   "cell_type": "code",
   "execution_count": null,
   "metadata": {
    "collapsed": true
   },
   "outputs": [],
   "source": [
    "def tokenizer(reviews):\n",
    "    return [[token for token in nltk.word_tokenize(review.lower()) if token not in stopwords] \n",
    "            for review in reviews]\n",
    "\n",
    "def frequencies(tokens):\n",
    "    return[nltk.FreqDist(token) for token in tokens]"
   ]
  },
  {
   "cell_type": "code",
   "execution_count": null,
   "metadata": {
    "collapsed": true
   },
   "outputs": [],
   "source": []
  }
 ],
 "metadata": {
  "kernelspec": {
   "display_name": "Python [conda root]",
   "language": "python",
   "name": "conda-root-py"
  },
  "language_info": {
   "codemirror_mode": {
    "name": "ipython",
    "version": 3
   },
   "file_extension": ".py",
   "mimetype": "text/x-python",
   "name": "python",
   "nbconvert_exporter": "python",
   "pygments_lexer": "ipython3",
   "version": "3.6.2"
  }
 },
 "nbformat": 4,
 "nbformat_minor": 2
}
