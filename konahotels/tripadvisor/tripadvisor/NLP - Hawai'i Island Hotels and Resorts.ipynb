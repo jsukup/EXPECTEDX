{
 "cells": [
  {
   "cell_type": "markdown",
   "metadata": {},
   "source": [
    "## Extracting TripAdvisor Reviews with Python"
   ]
  },
  {
   "cell_type": "markdown",
   "metadata": {},
   "source": [
    "Analyzing the \"voice-of-the-customer\" is the foundation of the market research industry. Typically, the industry has relied on two main methodologies and slight derivatives: surveys and focus groups. While it is unlikely that both of these methodologies will fall completely out of use, there are alternative techniques that utilize the power of modern analytics to extract valuable consumer information.\n",
    "\n",
    "The following is a brief exploration of using Python, Scrapy, the Natural Language Toolkit (NLTK), the **V**alence **A**ware **D**ictionary and s**E**ntiment **R**easoner (VADER) sentiment analyzer, and Scattertext, an NLP visualizer. The goal is to explore hotel and resort ratings for the Island of Hawai'i from TripAdvisor, understand consumer sentiment as it relates to different amenities, and visualize how reviews differ between positive and negative."
   ]
  },
  {
   "cell_type": "code",
   "execution_count": 3,
   "metadata": {},
   "outputs": [
    {
     "data": {
      "text/html": [
       "<style>.container { width:98% !important; }</style>"
      ],
      "text/plain": [
       "<IPython.core.display.HTML object>"
      ]
     },
     "metadata": {},
     "output_type": "display_data"
    }
   ],
   "source": [
    "import pandas as pd\n",
    "import numpy as np\n",
    "import matplotlib.pyplot as plt\n",
    "import nltk\n",
    "from nltk.sentiment.vader import SentimentIntensityAnalyzer \n",
    "import scattertext as st\n",
    "import spacy\n",
    "import pickle\n",
    "from collections import Counter\n",
    "from IPython.display import IFrame\n",
    "from IPython.core.display import display, HTML\n",
    "%matplotlib inline\n",
    "display(HTML(\"<style>.container { width:98% !important; }</style>\"))"
   ]
  },
  {
   "cell_type": "markdown",
   "metadata": {},
   "source": [
    "First, we need to gather reviews. TripAdvisor (TA) is the number one travel site in the U.S. and boasts over 500 million hotel and resort reviews. For this demonstration, we are only interested in hotels/resorts on the Island of Hawai'i. Considering the island's heavy tourism industry, we have plenty of reviews to work with.\n",
    "\n",
    "The script below uses the Python package Scrapy which is designed specifically for web scraping tasks. To summarize, we provide an initial starting URL for the scraper -- in this case the first page of results when we search for *\"Island of Hawai'i\"* on TA-- and then use XPath references to extract review text from the underlying HTML code. This script first follows the link to a hotel's review page, extracts all reviews on the first page and subsequent pages, then goes back to the starting URL and follows the link to the next hotet, extracts all reviews...and so on until all reviews for all hotels have been scraped and added to an output CSV document.\n",
    "\n",
    "Referencing the function **\"parse_review\"** below, we've extracted the review headline, text, bubble rating, date, and hotel."
   ]
  },
  {
   "cell_type": "code",
   "execution_count": null,
   "metadata": {
    "collapsed": true
   },
   "outputs": [],
   "source": [
    "import scrapy\n",
    "from tripadvisor.items import TripadvisorItem\n",
    "\n",
    "class TrSpider(scrapy.Spider):\n",
    "    name = 'trspider'\n",
    "    start_urls = [\n",
    "            'https://www.tripadvisor.com/Hotels-g29217-Island_of_Hawaii_Hawaii-Hotels.html'\n",
    "            ]\n",
    "\n",
    "    def parse(self, response):\n",
    "        for href in response.xpath('//div[@class=\"listing_title\"]/a/@href'):\n",
    "            url = response.urljoin(href.extract())\n",
    "            yield scrapy.Request(url, callback=self.parse_hotel)\n",
    "\n",
    "        next_page = response.xpath('//div[@class=\"unified pagination standard_pagination\"]/child::*[2][self::a]/@href')\n",
    "        if next_page:\n",
    "            url = response.urljoin(next_page[0].extract())\n",
    "            yield scrapy.Request(url, self.parse)\n",
    "\n",
    "    def parse_hotel(self, response):\n",
    "        for href in response.xpath('//div[starts-with(@class,\"quote\")]/a/@href'):\n",
    "            url = response.urljoin(href.extract())\n",
    "            yield scrapy.Request(url, callback=self.parse_review)\n",
    "\n",
    "\n",
    "        next_page = response.xpath('//link[@rel=\"next\"]/@href')\n",
    "        if next_page:\n",
    "            url = response.urljoin(next_page[0].extract())\n",
    "            yield scrapy.Request(url, self.parse_hotel)\n",
    "\n",
    "    def parse_review(self, response):\n",
    "        item = TripadvisorItem()\n",
    "        item['headline'] = response.xpath('translate(//div[@class=\"quote\"]/text(),\"!\",\" \")').extract()[0][1:-1]\n",
    "        item['review'] = response.xpath('translate(//div[@class=\"entry\"]/p,\"\\n\",\" \")').extract()[0]\n",
    "        item['bubbles'] = response.xpath('//span[contains(@class,\"ui_bubble_rating\")]/@alt').extract()[0]\n",
    "        item['date'] = response.xpath('normalize-space(//span[contains(@class,\"ratingDate\")]/@content)').extract()[0]\n",
    "        item['hotel'] = response.xpath('normalize-space(//span[@class=\"altHeadInline\"]/a/text())').extract()[0]\n",
    "        return item"
   ]
  },
  {
   "cell_type": "markdown",
   "metadata": {},
   "source": [
    "The raw output generates a file with **~41,500** records spanning the dates of **2003-01-20** to **2017-07-20** -- over 14 years of reviews! Before we start exploring though we'll need to run some data cleaning steps. The function below loads the CSV into Python, removes reviews with missing values, and drops hotels with fewer than 100 reviews."
   ]
  },
  {
   "cell_type": "code",
   "execution_count": 4,
   "metadata": {
    "collapsed": true
   },
   "outputs": [],
   "source": [
    "def clean_scrapy(raw_csv):\n",
    "    df = pd.read_csv(raw_csv, dtype={'bubbles':'category','hotel':'category'}, parse_dates=[1])\n",
    "    df.dropna(inplace=True)\n",
    "    df.bubbles.cat.rename_categories([1,2,3,4,5], inplace=True)\n",
    "    df = df.groupby('hotel').filter(lambda x: len(x) > 100)\n",
    "    df['hotel'] = df['hotel'].cat.remove_unused_categories()\n",
    "    return df\n",
    "\n",
    "df = clean_scrapy('bihotels.csv')"
   ]
  },
  {
   "cell_type": "markdown",
   "metadata": {
    "collapsed": true
   },
   "source": [
    "This operation reduces our data set to **~40,800** reviews.\n",
    "\n",
    "Since this is mostly an exploratory exercise, we'd like a means of slicing and dicing our data to look at it in different ways. The function below allows us to filter by review dates, bubble rating counts, and hotel. It also lets us return review headlines rather than the review itself should we want to explore those too. For now, we'll just look at all the reviews."
   ]
  },
  {
   "cell_type": "code",
   "execution_count": 5,
   "metadata": {
    "collapsed": true,
    "scrolled": true
   },
   "outputs": [],
   "source": [
    "mindate = df['date'].min()\n",
    "maxdate = df['date'].max()\n",
    "def data_filter(df, min_date=mindate, max_date=maxdate, low_bub=1, high_bub=5, hotel=None, headline=False):\n",
    "    text = df\n",
    "    text = text.query('date >= @min_date & date <= @max_date')\n",
    "    text = text.query('bubbles >= @low_bub & bubbles <= @high_bub')\n",
    "    if hotel:\n",
    "        text = text.query('hotel == @hotel')\n",
    "    return text[['bubbles','headline']] if headline else text[['bubbles','review']]\n",
    "\n",
    "text = data_filter(df)"
   ]
  },
  {
   "cell_type": "markdown",
   "metadata": {},
   "source": [
    "Natural Language Processing (NLP) is an entirely vast subfield of machine learning (ML) if not a field in its own right. The variety of analyses and applications is (in my opinion) much greater than many other ML pursuits. Additionally, when considering nuance, context, and semantic idiosyncrasies of written and spoke language NLP is one of the most complex areas in ML.\n",
    "\n",
    "Three of the most common NLP preprocessing steps are case folding, tokenization, and part-of-speech tagging:\n",
    "\n",
    "* **Case Folding** is the process of transforming text into lowercase. This is mainly done so that words with difference cases are not treated as separate words by certain NLP algorithms (e.g. \"Resort\" and \"resort\" could be seen as two different words).\n",
    "\n",
    "\n",
    "* **Tokenization** takes each word in a collection of text (referred to as a \"corpus\" in NLP terms) and assigns it a unique numeric value. Words themselves are not numeric or quantitative in nature but many of the algorithms used in NLP require them to be treated that way. This is another reason for Case Folding so we don't have words with different assignments (e.g. \"What a great hotel!\" tokenized would be \"What\",\"a\",\"great\",\"hotel\",\"!\". Punctuation is optional depending on application).\n",
    "\n",
    "\n",
    "* **Part-of-Speech Tagging** assigns words to word types like \"nouns,\" \"verbs,\" adjectives,\" etc. This makes it easier to extract informative components of sentences like noun phrases (e.g. \"wonderful spa\", \"beautiful pool\", \"horrible restaurant\" are all examples of simple noun phrases -- an adjective followed by a noun)"
   ]
  },
  {
   "cell_type": "code",
   "execution_count": 6,
   "metadata": {
    "collapsed": true
   },
   "outputs": [],
   "source": [
    "def np_preprocess(text):\n",
    "    corpus = ' '.join(text.iloc[:,1])\n",
    "    sentences = nltk.sent_tokenize(corpus.lower())\n",
    "    tokens = [nltk.word_tokenize(token) for token in sentences] \n",
    "    tags = [nltk.pos_tag(tag) for tag in tokens]\n",
    "    return tags\n",
    "\n",
    "tags = np_preprocess(text)"
   ]
  },
  {
   "cell_type": "markdown",
   "metadata": {},
   "source": [
    "Identifying noun phrases will be our first task. The rationale is that when a consumer writes a review on TA they are given on option to also rate things like \"Value\" and \"Sleep Quality\" but they don't always do. However, that doesn't mean that their review itself doesn't explicitly mention these types of things or specific amenities. We can potentially get a clearer picture using NLP techniques.\n",
    "\n",
    "The script below takes our review corpus (each word having been tagged with a part-of-speech from our previous step) and extracts the nouns. The idea is that commonly occurring nouns are a good indicator of hotel/resort features and amenities that reviewers feel strongly about. It gives us a good starting place for sentiment analysis"
   ]
  },
  {
   "cell_type": "code",
   "execution_count": 7,
   "metadata": {
    "scrolled": false
   },
   "outputs": [
    {
     "data": {
      "image/png": "[encoded data removed]",
      "text/plain": [
       "<matplotlib.figure.Figure at 0x2689065b748>"
      ]
     },
     "metadata": {},
     "output_type": "display_data"
    }
   ],
   "source": [
    "nouns = []\n",
    "for tag in tags:\n",
    "    for np in tag:\n",
    "        if np[1] in ['NN','NNP','NNS','NNPS']: #This covers all noun types, normal, proper, and plural\n",
    "            nouns.append(np)\n",
    "\n",
    "plt.figure(figsize=(15,8))\n",
    "nltk.FreqDist(nouns).plot(50)"
   ]
  },
  {
   "cell_type": "markdown",
   "metadata": {},
   "source": [
    "The chart above shows the 50 most commonly occurring nouns in our review corpus. This part requires some subjectivity to determine which nouns are worth exploring more. The first five (\"i,\" \"hotel,\" \"room,\" \"beach,\" \"resort\") are general and might not be of much help but \"pool,\" \"staff, \"food,\" and \"service\" might warrant further investigation. \n",
    "\n",
    "In a real-word setting, we'd probably want to work with managers and industry experts to tease out the best nouns to use. We may also want to consider the time of reference since some reviews may have terse comments regarding something the resort addressed recently (i.e. remodeled pool or improved restaurant menu).\n",
    "\n",
    "Let's take a deeper look at \"pool,\" \"staff,\" \"food,\" \"service,\" and we'll add in \"location\" as well since that is one feature that TA also tracks"
   ]
  },
  {
   "cell_type": "markdown",
   "metadata": {},
   "source": [
    "## VADER Sentiment Analyzer"
   ]
  },
  {
   "cell_type": "markdown",
   "metadata": {
    "collapsed": true
   },
   "source": [
    "Understanding the positive and negative emotions consumers have towards a product or service is of significant interest to businesses. While market researchers typically approach these types of problems with survey and focus group methodology, NLP provides some alternative methods that 1) could provide less biased insights and, 2) can cost far less than the price of recruiting survey respondents and focus group participants.\n",
    "\n",
    "Sentiment Analysis is the NLP approach to uncovering these emotions. While being one of the more challenging NLP tasks, there are a variety of methodologies. We chose to use VADER for this demonstration. You can read more about it [here](http://comp.social.gatech.edu/papers/icwsm14.vader.hutto.pdf). Many market researchers readily say that \"machines\" will never replace humans in understanding other humans, yet VADER itself was actually trained *using humans to score sentiment polarity!*\n",
    "\n",
    "Some interesting features of the VADER Sentiment Analyzer:\n",
    "\n",
    "* Considers punctuation as an intensity modifier, so a sentence ending in **\"!\"** isn't as intense as one ending with **\"!!\"**\n",
    "* Considers ALL CAPS as an intensity modifier, so **\"great\"** isn't as intense as **\"GREAT.\"**\n",
    "* Considers adjectives and other word modifiers, so **\"It's good\"** isn't as intense as **\"It's really good.\"**\n",
    "* Considers conjunctive sentences using \"but\" as two different sentiments with more weight placed on sentiment after \"but.\"\n",
    "* Considers tri-grams (i.e. groups of three words together in a sentence) for sentiment \"flips\" as in **\"This resort really isn't all that great.\"**"
   ]
  },
  {
   "cell_type": "code",
   "execution_count": 8,
   "metadata": {
    "collapsed": true
   },
   "outputs": [],
   "source": [
    "sia = nltk.sentiment.SentimentIntensityAnalyzer()\n",
    "\n",
    "def feature_sentiments(feature):\n",
    "    '''\n",
    "    Some tagged words include a '.' if reviewer didn't add spacing after \n",
    "    end-of-sentence period making parser include last word of sentence with \n",
    "    first word of next(e.g. 'hotel.but'). Causes division by zero since no \n",
    "    sentence contains these terms by themselves\n",
    "    '''    \n",
    "    feature = [sentence + '.' for sentence in text.iloc[:,1] if feature in sentence]\n",
    "    sentiment = []\n",
    "    for sentence in feature:       \n",
    "        sentiment.append(sia.polarity_scores(sentence))\n",
    "\n",
    "    if len(sentiment) != 0:            \n",
    "        results = sum([item['compound'] for item in sentiment])/len(sentiment)  \n",
    "    else:\n",
    "        results = 0\n",
    "    return results"
   ]
  },
  {
   "cell_type": "markdown",
   "metadata": {},
   "source": [
    "The VADER algorithm takes a sentence as input and compares it to a lexicon created during the initial algorithm training by humans. Each sentence is given positive, neutral, negative, and compound score based on reference to this lexicon and with the 5 bullets above. We will use just the compound score since it is an amalgamation of sentiment scores for each word in a sentence normalized between -1 and 1 with \"-1\" being \"completely negative\" and \"1\" being \"completely positive.\" This is convenient since we can then set our own thresholds for what we believe constitutes positive/neutral/negative.\n",
    "\n",
    "The above script takes a key word, extracts all sentences from the review corpus that contain it, scores them on sentiment, then averages the compound score across all sentences mentioning the key word(s). We decided to look at the words \"pool,\" \"staff,\" \"food,\" \"service,\" and \"location.\""
   ]
  },
  {
   "cell_type": "code",
   "execution_count": 9,
   "metadata": {},
   "outputs": [
    {
     "data": {
      "text/html": [
       "<div>\n",
       "<style>\n",
       "    .dataframe thead tr:only-child th {\n",
       "        text-align: right;\n",
       "    }\n",
       "\n",
       "    .dataframe thead th {\n",
       "        text-align: left;\n",
       "    }\n",
       "\n",
       "    .dataframe tbody tr th {\n",
       "        vertical-align: top;\n",
       "    }\n",
       "</style>\n",
       "<table border=\"1\" class=\"dataframe\">\n",
       "  <thead>\n",
       "    <tr style=\"text-align: right;\">\n",
       "      <th></th>\n",
       "      <th>0</th>\n",
       "    </tr>\n",
       "  </thead>\n",
       "  <tbody>\n",
       "    <tr>\n",
       "      <th>pool</th>\n",
       "      <td>0.879040</td>\n",
       "    </tr>\n",
       "    <tr>\n",
       "      <th>staff</th>\n",
       "      <td>0.877913</td>\n",
       "    </tr>\n",
       "    <tr>\n",
       "      <th>food</th>\n",
       "      <td>0.875209</td>\n",
       "    </tr>\n",
       "    <tr>\n",
       "      <th>service</th>\n",
       "      <td>0.843583</td>\n",
       "    </tr>\n",
       "    <tr>\n",
       "      <th>location</th>\n",
       "      <td>0.873114</td>\n",
       "    </tr>\n",
       "  </tbody>\n",
       "</table>\n",
       "</div>"
      ],
      "text/plain": [
       "                 0\n",
       "pool      0.879040\n",
       "staff     0.877913\n",
       "food      0.875209\n",
       "service   0.843583\n",
       "location  0.873114"
      ]
     },
     "execution_count": 9,
     "metadata": {},
     "output_type": "execute_result"
    }
   ],
   "source": [
    "features = {'pool': '','staff': '','food': '','service': '','location': ''}\n",
    "for feature in features.keys():\n",
    "    features[feature] = feature_sentiments(feature)    \n",
    "pd.DataFrame.from_dict(features, orient='index')"
   ]
  },
  {
   "cell_type": "markdown",
   "metadata": {},
   "source": [
    "So what we can see here is that most mentions of these terms are positive (remember we didn't filter the data by bubble rating so both negative and positive reviews are presented). But let's dig a little deeper: *why* do reviewers rate these positive? The NLTK also offers a few other tools for NLP that might be helpful. The \"concordance\" method allows us to choose a key word and see its context within sentences. This can add additional \"flavor\" to the reason reviewers provided the rating they did."
   ]
  },
  {
   "cell_type": "code",
   "execution_count": 10,
   "metadata": {
    "collapsed": true
   },
   "outputs": [],
   "source": [
    "def concord (text, feature):\n",
    "    corpus = ' '.join(text.iloc[:,1])\n",
    "    words = nltk.word_tokenize(corpus.lower())\n",
    "    concordance = nltk.Text(words)\n",
    "    return concordance.concordance(feature) "
   ]
  },
  {
   "cell_type": "code",
   "execution_count": 11,
   "metadata": {},
   "outputs": [
    {
     "name": "stdout",
     "output_type": "stream",
     "text": [
      "Displaying 25 of 24723 matches:\n",
      "ntastic . we enjoyed our time at the pool . it was a quick stay and would defi\n",
      "ying to everything on the cheap from pool food service hours to the fairmont b\n",
      "s that has truly everything ! lovely pool , great waterview from many rooms , \n",
      " can snorkel with , a huge freestyle pool , staff which is super friendly and \n",
      "nt you can rent beach / beach-pool / pool cabanas which come with some snacks \n",
      " , grab something in the deli at the pool or get a ride over to the farmlands \n",
      "g is beautiful . you may swim in the pool or in the lagoon . there is an equip\n",
      " snorkeling , paddle boarding , tide pool exploring and watching the turtles !\n",
      "softer side and felt a little worn . pool was out of service for half our stay\n",
      " rooms havebalconies overlooking the pool and harbor . the japanese gardens ar\n",
      "ach , a nesting turtles area . great pool , with lots of chaise lounges . fant\n",
      " showers ... .one with a tub . large pool with lots of kids running around ...\n",
      "ounger daughter especially loved the pool and water slide . we all enjoyed the\n",
      "d area of lounge chairs right by the pool . every staff member we encountered \n",
      "ng housekeeping for service . 4. the pool was under renovation . fortunatly , \n",
      "d did n't have time to check out the pool or the tide pool area , but it looke\n",
      "me to check out the pool or the tide pool area , but it looked gorgeous.howeve\n",
      "t the front desk . we discovered the pool was closed ; very bad news for my si\n",
      " to using it . we were told that the pool was closed for regular maintenance b\n",
      "oom was clean and had a balcony with pool view . the staff was friendly and he\n",
      "ncredible sunset dinner . all of the pool staff and waitresses who served us a\n",
      " waitresses who served us around the pool were very friendly . all of the vale\n",
      "vice and taste ) at the brown at the pool bar and breakfast ran out of mint on\n",
      "cancelled . no drinks service by the pool on 7/2 drink service closed at 4 on \n",
      " 'm returning from a long day at the pool or beach , my room still is n't clea\n"
     ]
    }
   ],
   "source": [
    "concord(text,'pool')"
   ]
  },
  {
   "cell_type": "markdown",
   "metadata": {},
   "source": [
    "For example, if we explore the word \"pool\" we can see more context around reviewers' experience with the resort's pool: \n",
    "\n",
    "* **\"lovely *pool*, great waterview from many rooms\"**\n",
    "* **\"*pool* was out of service for half our stay\"**\n",
    "* **\"loved the *pool* and water slide\"**\n",
    "\n",
    "Remember, we are using the full, unfiltered data set so these comments would probably be more helpful if we narrowed our data to a specific resort and/or time span."
   ]
  },
  {
   "cell_type": "markdown",
   "metadata": {},
   "source": [
    "## ...but what about just the reviews for, say, the Hilton Waikoloa?"
   ]
  },
  {
   "cell_type": "markdown",
   "metadata": {},
   "source": [
    "Remember, we are looking at the full set of reviews we scraped from TA. In a real world environment, an operations manager would probably be mostly concerned with their own resort's reviews. Being one of the larger resorts on Hawai'i Island, the Hilton Waikoloa also has several thousand reviews we can examine (~7,000 over our 14 year time period)."
   ]
  },
  {
   "cell_type": "code",
   "execution_count": 12,
   "metadata": {},
   "outputs": [
    {
     "data": {
      "image/png": "[encoded data removed]",
      "text/plain": [
       "<matplotlib.figure.Figure at 0x26883671da0>"
      ]
     },
     "metadata": {},
     "output_type": "display_data"
    }
   ],
   "source": [
    "hilton_reviews = data_filter(df, hotel='Hilton Waikoloa Village')\n",
    "hilton_tags = np_preprocess(hilton_reviews)\n",
    "\n",
    "hilton_nouns = []\n",
    "for tag in hilton_tags:\n",
    "    for np in tag:\n",
    "        if np[1] in ['NN','NNP','NNS','NNPS']: #This covers all noun types, normal, proper, and plural\n",
    "            hilton_nouns.append(np)\n",
    "\n",
    "plt.figure(figsize=(15,8))\n",
    "nltk.FreqDist(nouns).plot(50)"
   ]
  },
  {
   "cell_type": "markdown",
   "metadata": {},
   "source": [
    "Hilton also receives mostly positive reviews:"
   ]
  },
  {
   "cell_type": "code",
   "execution_count": 13,
   "metadata": {},
   "outputs": [
    {
     "data": {
      "text/plain": [
       "<matplotlib.axes._subplots.AxesSubplot at 0x2689e60a390>"
      ]
     },
     "execution_count": 13,
     "metadata": {},
     "output_type": "execute_result"
    },
    {
     "data": {
      "image/png": "[encoded data removed]",
      "text/plain": [
       "<matplotlib.figure.Figure at 0x2689065b128>"
      ]
     },
     "metadata": {},
     "output_type": "display_data"
    }
   ],
   "source": [
    "hilton_reviews['bubbles'].value_counts().plot(kind='bar', figsize=(15,8), title='Hilton Waikoloa Bubble Rating Counts')"
   ]
  },
  {
   "cell_type": "markdown",
   "metadata": {},
   "source": [
    "As we did earlier, let's look at nouns that are mentioned most often and dive deeper into sentiments surrounding each. For this example we'll use \"lagoon\" (the hotel sits on a lagoon guests can use for water activities), \"food,\" \"pool,\" \"staff,\" and \"tram\" (because of the hotel's size, a passenger tram operates all day to shuttle guests from one end to the other). Both \"lagoon\" and \"tram\" may be interesting to look at since they are unique to the Hilton."
   ]
  },
  {
   "cell_type": "code",
   "execution_count": 14,
   "metadata": {},
   "outputs": [
    {
     "data": {
      "text/html": [
       "<div>\n",
       "<style>\n",
       "    .dataframe thead tr:only-child th {\n",
       "        text-align: right;\n",
       "    }\n",
       "\n",
       "    .dataframe thead th {\n",
       "        text-align: left;\n",
       "    }\n",
       "\n",
       "    .dataframe tbody tr th {\n",
       "        vertical-align: top;\n",
       "    }\n",
       "</style>\n",
       "<table border=\"1\" class=\"dataframe\">\n",
       "  <thead>\n",
       "    <tr style=\"text-align: right;\">\n",
       "      <th></th>\n",
       "      <th>0</th>\n",
       "    </tr>\n",
       "  </thead>\n",
       "  <tbody>\n",
       "    <tr>\n",
       "      <th>lagoon</th>\n",
       "      <td>0.897359</td>\n",
       "    </tr>\n",
       "    <tr>\n",
       "      <th>food</th>\n",
       "      <td>0.875209</td>\n",
       "    </tr>\n",
       "    <tr>\n",
       "      <th>pool</th>\n",
       "      <td>0.879040</td>\n",
       "    </tr>\n",
       "    <tr>\n",
       "      <th>staff</th>\n",
       "      <td>0.877913</td>\n",
       "    </tr>\n",
       "    <tr>\n",
       "      <th>tram</th>\n",
       "      <td>0.834116</td>\n",
       "    </tr>\n",
       "  </tbody>\n",
       "</table>\n",
       "</div>"
      ],
      "text/plain": [
       "               0\n",
       "lagoon  0.897359\n",
       "food    0.875209\n",
       "pool    0.879040\n",
       "staff   0.877913\n",
       "tram    0.834116"
      ]
     },
     "execution_count": 14,
     "metadata": {},
     "output_type": "execute_result"
    }
   ],
   "source": [
    "hilton_features = {'lagoon': '','food': '','pool': '','staff': '','tram': ''}\n",
    "for feature in hilton_features.keys():\n",
    "    hilton_features[feature] = feature_sentiments(feature)    \n",
    "pd.DataFrame.from_dict(hilton_features, orient='index')"
   ]
  },
  {
   "cell_type": "markdown",
   "metadata": {},
   "source": [
    "Like we saw before when looking at all reviews, nouns with the most mentions tend to be in a positive context. This time, rather than cherry-picking let's review *all* the extracted nouns (that were mentioned more than, say, 100 times) to find which ones are also associated mostly with negative sentiments. This gives us **~300** nouns to review."
   ]
  },
  {
   "cell_type": "code",
   "execution_count": 15,
   "metadata": {
    "collapsed": true
   },
   "outputs": [],
   "source": [
    "'''\n",
    "Commented-out script was ran initially to capture VADER sentiment scores.\n",
    "Scores were stored in a pickle (*.pkl) file to avoid rerunning the script which\n",
    "can take several hours to complete.\n",
    "'''\n",
    "\n",
    "#hilton_nouns = [e for e in Counter(word[0] for word in hilton_nouns).most_common() if e[1] > 100]\n",
    "#all_hilton_features = dict([(noun, '') for noun,value in hilton_nouns])\n",
    "#for feature in all_hilton_features.keys():\n",
    "#    all_hilton_features[feature] = feature_sentiments(feature)\n",
    "    \n",
    "#with open('hilton_sentiments.pkl', \"wb\") as file:\n",
    "#    pickle.dump(all_hilton_features, file , protocol=0)\n",
    "    \n",
    "with open('hilton_sentiments.pkl', \"rb\") as file:\n",
    "    all_hilton_features = pickle.load(file)"
   ]
  },
  {
   "cell_type": "code",
   "execution_count": 16,
   "metadata": {},
   "outputs": [
    {
     "data": {
      "text/html": [
       "<div>\n",
       "<style>\n",
       "    .dataframe thead tr:only-child th {\n",
       "        text-align: right;\n",
       "    }\n",
       "\n",
       "    .dataframe thead th {\n",
       "        text-align: left;\n",
       "    }\n",
       "\n",
       "    .dataframe tbody tr th {\n",
       "        vertical-align: top;\n",
       "    }\n",
       "</style>\n",
       "<table border=\"1\" class=\"dataframe\">\n",
       "  <thead>\n",
       "    <tr style=\"text-align: right;\">\n",
       "      <th></th>\n",
       "      <th>Noun</th>\n",
       "      <th>Sentiment</th>\n",
       "    </tr>\n",
       "  </thead>\n",
       "  <tbody>\n",
       "    <tr>\n",
       "      <th>0</th>\n",
       "      <td>kpc</td>\n",
       "      <td>0.984700</td>\n",
       "    </tr>\n",
       "    <tr>\n",
       "      <th>1</th>\n",
       "      <td>beauty</td>\n",
       "      <td>0.961632</td>\n",
       "    </tr>\n",
       "    <tr>\n",
       "      <th>2</th>\n",
       "      <td>sunsets</td>\n",
       "      <td>0.955682</td>\n",
       "    </tr>\n",
       "    <tr>\n",
       "      <th>3</th>\n",
       "      <td>kamuela</td>\n",
       "      <td>0.955133</td>\n",
       "    </tr>\n",
       "    <tr>\n",
       "      <th>4</th>\n",
       "      <td>paradise</td>\n",
       "      <td>0.952219</td>\n",
       "    </tr>\n",
       "    <tr>\n",
       "      <th>5</th>\n",
       "      <td>turtle</td>\n",
       "      <td>0.950189</td>\n",
       "    </tr>\n",
       "    <tr>\n",
       "      <th>6</th>\n",
       "      <td>snacks</td>\n",
       "      <td>0.949627</td>\n",
       "    </tr>\n",
       "    <tr>\n",
       "      <th>7</th>\n",
       "      <td>turtles</td>\n",
       "      <td>0.949606</td>\n",
       "    </tr>\n",
       "    <tr>\n",
       "      <th>8</th>\n",
       "      <td>waterfall</td>\n",
       "      <td>0.948536</td>\n",
       "    </tr>\n",
       "    <tr>\n",
       "      <th>9</th>\n",
       "      <td>relaxing</td>\n",
       "      <td>0.947408</td>\n",
       "    </tr>\n",
       "    <tr>\n",
       "      <th>10</th>\n",
       "      <td>waterfalls</td>\n",
       "      <td>0.947134</td>\n",
       "    </tr>\n",
       "    <tr>\n",
       "      <th>11</th>\n",
       "      <td>sunset</td>\n",
       "      <td>0.944992</td>\n",
       "    </tr>\n",
       "    <tr>\n",
       "      <th>12</th>\n",
       "      <td>kayaks</td>\n",
       "      <td>0.944483</td>\n",
       "    </tr>\n",
       "    <tr>\n",
       "      <th>13</th>\n",
       "      <td>sandwiches</td>\n",
       "      <td>0.944418</td>\n",
       "    </tr>\n",
       "    <tr>\n",
       "      <th>14</th>\n",
       "      <td>disneyland</td>\n",
       "      <td>0.943989</td>\n",
       "    </tr>\n",
       "    <tr>\n",
       "      <th>15</th>\n",
       "      <td>snorkeling</td>\n",
       "      <td>0.943084</td>\n",
       "    </tr>\n",
       "    <tr>\n",
       "      <th>16</th>\n",
       "      <td>artwork</td>\n",
       "      <td>0.943069</td>\n",
       "    </tr>\n",
       "    <tr>\n",
       "      <th>17</th>\n",
       "      <td>sushi</td>\n",
       "      <td>0.942973</td>\n",
       "    </tr>\n",
       "    <tr>\n",
       "      <th>18</th>\n",
       "      <td>helicopter</td>\n",
       "      <td>0.942122</td>\n",
       "    </tr>\n",
       "    <tr>\n",
       "      <th>19</th>\n",
       "      <td>plenty</td>\n",
       "      <td>0.941598</td>\n",
       "    </tr>\n",
       "    <tr>\n",
       "      <th>20</th>\n",
       "      <td>fish</td>\n",
       "      <td>0.941107</td>\n",
       "    </tr>\n",
       "    <tr>\n",
       "      <th>21</th>\n",
       "      <td>sports</td>\n",
       "      <td>0.941103</td>\n",
       "    </tr>\n",
       "    <tr>\n",
       "      <th>22</th>\n",
       "      <td>snorkel</td>\n",
       "      <td>0.941030</td>\n",
       "    </tr>\n",
       "    <tr>\n",
       "      <th>23</th>\n",
       "      <td>toys</td>\n",
       "      <td>0.940731</td>\n",
       "    </tr>\n",
       "    <tr>\n",
       "      <th>24</th>\n",
       "      <td>variety</td>\n",
       "      <td>0.940406</td>\n",
       "    </tr>\n",
       "    <tr>\n",
       "      <th>25</th>\n",
       "      <td>statues</td>\n",
       "      <td>0.939203</td>\n",
       "    </tr>\n",
       "    <tr>\n",
       "      <th>26</th>\n",
       "      <td>grocery</td>\n",
       "      <td>0.938562</td>\n",
       "    </tr>\n",
       "    <tr>\n",
       "      <th>27</th>\n",
       "      <td>whales</td>\n",
       "      <td>0.937186</td>\n",
       "    </tr>\n",
       "    <tr>\n",
       "      <th>28</th>\n",
       "      <td>highlight</td>\n",
       "      <td>0.936739</td>\n",
       "    </tr>\n",
       "    <tr>\n",
       "      <th>29</th>\n",
       "      <td>advantage</td>\n",
       "      <td>0.936449</td>\n",
       "    </tr>\n",
       "    <tr>\n",
       "      <th>...</th>\n",
       "      <td>...</td>\n",
       "      <td>...</td>\n",
       "    </tr>\n",
       "    <tr>\n",
       "      <th>516</th>\n",
       "      <td>bill</td>\n",
       "      <td>0.774680</td>\n",
       "    </tr>\n",
       "    <tr>\n",
       "      <th>517</th>\n",
       "      <td>bags</td>\n",
       "      <td>0.773301</td>\n",
       "    </tr>\n",
       "    <tr>\n",
       "      <th>518</th>\n",
       "      <td>nothing</td>\n",
       "      <td>0.772597</td>\n",
       "    </tr>\n",
       "    <tr>\n",
       "      <th>519</th>\n",
       "      <td>desk</td>\n",
       "      <td>0.772015</td>\n",
       "    </tr>\n",
       "    <tr>\n",
       "      <th>520</th>\n",
       "      <td>marriott</td>\n",
       "      <td>0.765239</td>\n",
       "    </tr>\n",
       "    <tr>\n",
       "      <th>521</th>\n",
       "      <td>call</td>\n",
       "      <td>0.762300</td>\n",
       "    </tr>\n",
       "    <tr>\n",
       "      <th>522</th>\n",
       "      <td>lady</td>\n",
       "      <td>0.762280</td>\n",
       "    </tr>\n",
       "    <tr>\n",
       "      <th>523</th>\n",
       "      <td>system</td>\n",
       "      <td>0.758163</td>\n",
       "    </tr>\n",
       "    <tr>\n",
       "      <th>524</th>\n",
       "      <td>someone</td>\n",
       "      <td>0.755727</td>\n",
       "    </tr>\n",
       "    <tr>\n",
       "      <th>525</th>\n",
       "      <td>elevators</td>\n",
       "      <td>0.755673</td>\n",
       "    </tr>\n",
       "    <tr>\n",
       "      <th>526</th>\n",
       "      <td>problem</td>\n",
       "      <td>0.752245</td>\n",
       "    </tr>\n",
       "    <tr>\n",
       "      <th>527</th>\n",
       "      <td>dollars</td>\n",
       "      <td>0.750019</td>\n",
       "    </tr>\n",
       "    <tr>\n",
       "      <th>528</th>\n",
       "      <td>charges</td>\n",
       "      <td>0.745355</td>\n",
       "    </tr>\n",
       "    <tr>\n",
       "      <th>529</th>\n",
       "      <td>elevator</td>\n",
       "      <td>0.744285</td>\n",
       "    </tr>\n",
       "    <tr>\n",
       "      <th>530</th>\n",
       "      <td>credit</td>\n",
       "      <td>0.743032</td>\n",
       "    </tr>\n",
       "    <tr>\n",
       "      <th>531</th>\n",
       "      <td>charge</td>\n",
       "      <td>0.742932</td>\n",
       "    </tr>\n",
       "    <tr>\n",
       "      <th>532</th>\n",
       "      <td>months</td>\n",
       "      <td>0.737567</td>\n",
       "    </tr>\n",
       "    <tr>\n",
       "      <th>533</th>\n",
       "      <td>phone</td>\n",
       "      <td>0.728441</td>\n",
       "    </tr>\n",
       "    <tr>\n",
       "      <th>534</th>\n",
       "      <td>customer</td>\n",
       "      <td>0.723255</td>\n",
       "    </tr>\n",
       "    <tr>\n",
       "      <th>535</th>\n",
       "      <td>maintenance</td>\n",
       "      <td>0.708988</td>\n",
       "    </tr>\n",
       "    <tr>\n",
       "      <th>536</th>\n",
       "      <td>security</td>\n",
       "      <td>0.699416</td>\n",
       "    </tr>\n",
       "    <tr>\n",
       "      <th>537</th>\n",
       "      <td>problems</td>\n",
       "      <td>0.694774</td>\n",
       "    </tr>\n",
       "    <tr>\n",
       "      <th>538</th>\n",
       "      <td>management</td>\n",
       "      <td>0.685590</td>\n",
       "    </tr>\n",
       "    <tr>\n",
       "      <th>539</th>\n",
       "      <td>manager</td>\n",
       "      <td>0.661050</td>\n",
       "    </tr>\n",
       "    <tr>\n",
       "      <th>540</th>\n",
       "      <td>hhonors</td>\n",
       "      <td>0.661050</td>\n",
       "    </tr>\n",
       "    <tr>\n",
       "      <th>541</th>\n",
       "      <td>carpet</td>\n",
       "      <td>0.659260</td>\n",
       "    </tr>\n",
       "    <tr>\n",
       "      <th>542</th>\n",
       "      <td>disappointment</td>\n",
       "      <td>0.637888</td>\n",
       "    </tr>\n",
       "    <tr>\n",
       "      <th>543</th>\n",
       "      <td>smell</td>\n",
       "      <td>0.636388</td>\n",
       "    </tr>\n",
       "    <tr>\n",
       "      <th>544</th>\n",
       "      <td>oahu</td>\n",
       "      <td>0.534360</td>\n",
       "    </tr>\n",
       "    <tr>\n",
       "      <th>545</th>\n",
       "      <td>kirin</td>\n",
       "      <td>-0.571900</td>\n",
       "    </tr>\n",
       "  </tbody>\n",
       "</table>\n",
       "<p>546 rows × 2 columns</p>\n",
       "</div>"
      ],
      "text/plain": [
       "               Noun  Sentiment\n",
       "0               kpc   0.984700\n",
       "1            beauty   0.961632\n",
       "2           sunsets   0.955682\n",
       "3           kamuela   0.955133\n",
       "4          paradise   0.952219\n",
       "5            turtle   0.950189\n",
       "6            snacks   0.949627\n",
       "7           turtles   0.949606\n",
       "8         waterfall   0.948536\n",
       "9          relaxing   0.947408\n",
       "10       waterfalls   0.947134\n",
       "11           sunset   0.944992\n",
       "12           kayaks   0.944483\n",
       "13       sandwiches   0.944418\n",
       "14       disneyland   0.943989\n",
       "15       snorkeling   0.943084\n",
       "16          artwork   0.943069\n",
       "17            sushi   0.942973\n",
       "18       helicopter   0.942122\n",
       "19           plenty   0.941598\n",
       "20             fish   0.941107\n",
       "21           sports   0.941103\n",
       "22          snorkel   0.941030\n",
       "23             toys   0.940731\n",
       "24          variety   0.940406\n",
       "25          statues   0.939203\n",
       "26          grocery   0.938562\n",
       "27           whales   0.937186\n",
       "28        highlight   0.936739\n",
       "29        advantage   0.936449\n",
       "..              ...        ...\n",
       "516            bill   0.774680\n",
       "517            bags   0.773301\n",
       "518         nothing   0.772597\n",
       "519            desk   0.772015\n",
       "520        marriott   0.765239\n",
       "521            call   0.762300\n",
       "522            lady   0.762280\n",
       "523          system   0.758163\n",
       "524         someone   0.755727\n",
       "525       elevators   0.755673\n",
       "526         problem   0.752245\n",
       "527         dollars   0.750019\n",
       "528         charges   0.745355\n",
       "529        elevator   0.744285\n",
       "530          credit   0.743032\n",
       "531          charge   0.742932\n",
       "532          months   0.737567\n",
       "533           phone   0.728441\n",
       "534        customer   0.723255\n",
       "535     maintenance   0.708988\n",
       "536        security   0.699416\n",
       "537        problems   0.694774\n",
       "538      management   0.685590\n",
       "539         manager   0.661050\n",
       "540         hhonors   0.661050\n",
       "541          carpet   0.659260\n",
       "542  disappointment   0.637888\n",
       "543           smell   0.636388\n",
       "544            oahu   0.534360\n",
       "545           kirin  -0.571900\n",
       "\n",
       "[546 rows x 2 columns]"
      ]
     },
     "execution_count": 16,
     "metadata": {},
     "output_type": "execute_result"
    }
   ],
   "source": [
    "pd.DataFrame(sorted(all_hilton_features.items(), key=lambda x: x[1], reverse=True), columns=('Noun','Sentiment'))"
   ]
  },
  {
   "cell_type": "markdown",
   "metadata": {},
   "source": [
    "## Scattertext Visualizer"
   ]
  },
  {
   "cell_type": "markdown",
   "metadata": {},
   "source": [
    "As with most pursuits in data exploration, visualization is a helpful tool. NLP is no different. In our exploration of TA reviews we might be interested in what words or phrases best differentiate between positive and negative reviews. For this task we'll look at the bubble ratings reviewers left and define positive reviews as 5 out of 5 bubbles and negative reviews as 1 out of 5 bubbles. We chose this dichotomy since experience in market research shows that people tend to give ratings closer to the middle of a scale unless they feel very strongly one way or the other. Again, the end user may want to use different thresholds.\n",
    "\n",
    "Scattertext is an open-source library for Python for visualizing how word usage differs between two groups. The process uses a modified version of F-Score calculation (i.e. the harmonic mean of precision and frequency) called \"Scaled F-Score\" to partition words by groups (you can read more about it and the Scattertext package [here](https://github.com/JasonKessler/scattertext)."
   ]
  },
  {
   "cell_type": "code",
   "execution_count": 17,
   "metadata": {
    "collapsed": true
   },
   "outputs": [],
   "source": [
    "neg = data_filter(df, high_bub=1)\n",
    "pos = data_filter(df, low_bub=5)\n",
    "\n",
    "scatter_reviews = pd.concat([pos,neg])\n",
    "scatter_reviews['bubbles'] = scatter_reviews.bubbles.astype(str)\n",
    "\n",
    "spacy_corpus = spacy.en.English()\n",
    "scatter_corpus = st.CorpusFromPandas(scatter_reviews, \n",
    "                                     category_col='bubbles', \n",
    "                                     text_col='review', \n",
    "                                     nlp=spacy_corpus).build()"
   ]
  },
  {
   "cell_type": "markdown",
   "metadata": {},
   "source": [
    "The code above divides our reviews into groups for 1 bubble and 5 bubbles. Each set of reviews is parsed and compared by raw frequency within its category and its frequency across both categories. This effectively scores each word on how representative it is of a 1 or 5 bubble review (again see the Scaled F-Score referenced in the link above).\n",
    "\n",
    "In the visualization below, each axis represents a review and each point a word. Words in the upper left represent words used more frequently by 5 bubble reviews while bottom right word are more frequently used by 1 bubble reviews. Words that appear in the middle could appear in either so they aren't as differentiating between groups. On the right, we are provided a list of the top words characteristic to each group and characteristic to the entire corpus of text (note: in the given code, words with fewer than 30 mentions are excluded).\n",
    "\n",
    "A quick review shows that the use of adjectives is really what sets these reviews apart. While not particularly helpful, the words in the \"Characteristic\" column can give a little more information on what exactly is \"superb\" or \"disgusting.\" This improves interpretability marginally, but clicking on a word within the visualization will create a list or reviews for each group containing that word. This makes it much easier to do a deeper exploration. Finally, a user can enter their own word to search for in the corpus to see how it is used by each group.  "
   ]
  },
  {
   "cell_type": "code",
   "execution_count": 18,
   "metadata": {},
   "outputs": [
    {
     "data": {
      "text/html": [
       "\n",
       "        <iframe\n",
       "            width=\"1300\"\n",
       "            height=\"700\"\n",
       "            src=\"posneg_scatter.html\"\n",
       "            frameborder=\"0\"\n",
       "            allowfullscreen\n",
       "        ></iframe>\n",
       "        "
      ],
      "text/plain": [
       "<IPython.lib.display.IFrame at 0x26885178ef0>"
      ]
     },
     "execution_count": 18,
     "metadata": {},
     "output_type": "execute_result"
    }
   ],
   "source": [
    "html = st.produce_scattertext_explorer(scatter_corpus,\n",
    "                                       category='5',\n",
    "                                       category_name='5 of 5 bubbles',\n",
    "                                       not_category_name='1 of 5 bubbles',\n",
    "                                       minimum_term_frequency = 30,\n",
    "                                       save_svg_button=True)\n",
    "open(\"posneg_scatter.html\", 'wb').write(html.encode('utf-8'))\n",
    "IFrame('posneg_scatter.html', width=1300, height=700)"
   ]
  },
  {
   "cell_type": "markdown",
   "metadata": {},
   "source": [
    "We'll do the same for just Hilton Waikoloa:"
   ]
  },
  {
   "cell_type": "code",
   "execution_count": 19,
   "metadata": {},
   "outputs": [
    {
     "data": {
      "text/html": [
       "\n",
       "        <iframe\n",
       "            width=\"1300\"\n",
       "            height=\"700\"\n",
       "            src=\"hilton_posneg_scatter.html\"\n",
       "            frameborder=\"0\"\n",
       "            allowfullscreen\n",
       "        ></iframe>\n",
       "        "
      ],
      "text/plain": [
       "<IPython.lib.display.IFrame at 0x26961bfe470>"
      ]
     },
     "execution_count": 19,
     "metadata": {},
     "output_type": "execute_result"
    }
   ],
   "source": [
    "hilton_neg = data_filter(df, high_bub=1, hotel='Hilton Waikoloa Village')\n",
    "hilton_pos = data_filter(df, low_bub=5, hotel='Hilton Waikoloa Village')\n",
    "\n",
    "hilton_scatter_reviews = pd.concat([hilton_pos,hilton_neg])\n",
    "hilton_scatter_reviews['bubbles'] = hilton_scatter_reviews.bubbles.astype(str)\n",
    "\n",
    "hilton_spacy_corpus = spacy.en.English()\n",
    "hilton_scatter_corpus = st.CorpusFromPandas(hilton_scatter_reviews, \n",
    "                                     category_col='bubbles', \n",
    "                                     text_col='review', \n",
    "                                     nlp=hilton_spacy_corpus).build()\n",
    "\n",
    "hilton_html = st.produce_scattertext_explorer(hilton_scatter_corpus,\n",
    "                                              category='5',\n",
    "                                              category_name='5 of 5 bubbles',\n",
    "                                              not_category_name='1 of 5 bubbles',\n",
    "                                              minimum_term_frequency = 30,\n",
    "                                              save_svg_button=True)\n",
    "open(\"hilton_posneg_scatter.html\", 'wb').write(hilton_html.encode('utf-8'))\n",
    "IFrame('hilton_posneg_scatter.html', width=1300, height=700)"
   ]
  },
  {
   "cell_type": "markdown",
   "metadata": {
    "collapsed": true
   },
   "source": [
    "## Final Remarks"
   ]
  },
  {
   "cell_type": "markdown",
   "metadata": {},
   "source": [
    "In the body of NLP analytics, there are numerous paths one can take in their analysis. Additional applications could include:\n",
    "\n",
    "* Being the most popular travel review site online, TA is generating reviews 24/7 from around the world. Creating a data pipeline that regularly collects reviews for processing can be a part of an ongoing customer service effort for a single hotel, a hospitality holding company managing numerous properties, or even a tourism board tasked with keeping visitors' experiences memorable.\n",
    "\n",
    "* The Scattertext visualization also allows for the hotel name to be attached to each review. While the above code does not include this feature, in a real-world use case it would be imperative to know if a good/bad review was given for your hotel or a competitor's.\n",
    "\n",
    "* Businesses spend millions annually on market research projects that often provide little value for the cost. Focus groups are a mainstay of the corporate research body of methodologies and attempt to extract similar information. By using online reviews it may be possible to achieve the same level of insight for little to no cost, from thousands of reviewers, and on an ongoing basis."
   ]
  },
  {
   "cell_type": "markdown",
   "metadata": {},
   "source": [
    "## Citations"
   ]
  },
  {
   "cell_type": "markdown",
   "metadata": {},
   "source": [
    "Hutto, C.J. & Gilbert, E.E. (2014). VADER: A Parsimonious Rule-based Model for Sentiment Analysis of Social Media Text. Eighth International Conference on Weblogs and Social Media (ICWSM-14). Ann Arbor, MI, June 2014.\n",
    "\n",
    "Jason S. Kessler. Scattertext: a Browser-Based Tool for Visualizing how Corpora Differ. Proceedings of the 54th Annual Meeting of the Association for Computational Linguistics (ACL): System Demonstrations. 2017."
   ]
  }
 ],
 "metadata": {
  "kernelspec": {
   "display_name": "Python [conda root]",
   "language": "python",
   "name": "conda-root-py"
  },
  "language_info": {
   "codemirror_mode": {
    "name": "ipython",
    "version": 3
   },
   "file_extension": ".py",
   "mimetype": "text/x-python",
   "name": "python",
   "nbconvert_exporter": "python",
   "pygments_lexer": "ipython3",
   "version": "3.6.2"
  }
 },
 "nbformat": 4,
 "nbformat_minor": 2
}
